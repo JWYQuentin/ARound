{
 "cells": [
  {
   "cell_type": "code",
   "execution_count": 23,
   "id": "e3e97ac4",
   "metadata": {},
   "outputs": [],
   "source": [
    "import pandas as pd\n",
    "import json\n",
    "import time\n",
    "import numpy as np\n",
    "from IPython.display import display\n",
    "import ipywidgets as widgets\n",
    "import holidays"
   ]
  },
  {
   "cell_type": "code",
   "execution_count": 24,
   "id": "fb7b7477",
   "metadata": {},
   "outputs": [],
   "source": [
    "from sklearn.model_selection import train_test_split, KFold, cross_val_score\n",
    "from sklearn.linear_model import LinearRegression\n",
    "from sklearn.preprocessing import OneHotEncoder\n",
    "from sklearn.compose import ColumnTransformer\n",
    "from sklearn.pipeline import Pipeline\n",
    "from sklearn.model_selection import cross_val_score, train_test_split, GridSearchCV\n",
    "from sklearn.metrics import make_scorer, mean_squared_error, r2_score\n",
    "\n",
    "import seaborn as sns\n",
    "import matplotlib.pyplot as plt"
   ]
  },
  {
   "cell_type": "code",
   "execution_count": 25,
   "id": "21d157fd",
   "metadata": {},
   "outputs": [],
   "source": [
    "from flaml import AutoML\n",
    "import xgboost as xgb\n",
    "from xgboost import XGBRegressor"
   ]
  },
  {
   "cell_type": "code",
   "execution_count": 28,
   "id": "3039ec8b",
   "metadata": {},
   "outputs": [
    {
     "name": "stderr",
     "output_type": "stream",
     "text": [
      "/Users/Sherry/opt/anaconda3/lib/python3.8/site-packages/IPython/core/interactiveshell.py:3165: DtypeWarning: Columns (2,3,6,7,8,9,10,28) have mixed types.Specify dtype option on import or set low_memory=False.\n",
      "  has_raised = await self.run_ast_nodes(code_ast.body, cell_name,\n"
     ]
    },
    {
     "name": "stdout",
     "output_type": "stream",
     "text": [
      "Total filtered data size: 79691\n",
      "Training set size (including NaNs): 78682\n",
      "Testing set size (no NaNs): 1009\n",
      "Cross-validation RMSE scores: [201432, 171126, 181695, 174557, 202660]\n",
      "Mean CV RMSE: 186294\n",
      "Cross-validation R² scores: [0.917, 0.937, 0.938, 0.937, 0.936]\n",
      "Mean CV R²: 0.933\n",
      "Test R²: 0.928\n",
      "Test RMSE: 177043.05\n"
     ]
    }
   ],
   "source": [
    "# Load data\n",
    "df = pd.read_csv('allgenre_combined_df.csv')\n",
    "# Filter the dataset without dropping NaN values (for training set)\n",
    "filtered_data = df[\n",
    "    (df['Year'] >= 2020) &\n",
    "    (~(df['Headliner'].str.contains('\"', na=False))) &\n",
    "    (df['Genre'] != 'Family Entertainment') &\n",
    "    (df['Ticket Price Min USD'] > 0) &\n",
    "    (df['Ticket Price Min USD'] < df['Ticket Price Max USD'])\n",
    "]\n",
    "\n",
    "# Filter the dataset with NaN rows dropped (for testing set)\n",
    "filtered_data_no_na = filtered_data.dropna()\n",
    "\n",
    "# Split 30% of the cleaned dataset (no NaNs) into the testing set\n",
    "_, test_data = train_test_split(filtered_data_no_na, test_size=0.3, random_state=42)\n",
    "\n",
    "# Ensure the training set is mutually exclusive by removing test rows from the original filtered dataset\n",
    "train_data = filtered_data.loc[~filtered_data.index.isin(test_data.index)]\n",
    "\n",
    "# Check the results\n",
    "print(f\"Total filtered data size: {len(filtered_data)}\")\n",
    "print(f\"Training set size (including NaNs): {len(train_data)}\")\n",
    "print(f\"Testing set size (no NaNs): {len(test_data)}\")\n",
    "\n",
    "# ADJUST THE TRAINING SET AS YOU NEED\n",
    "# Remember to check data availability\n",
    "\n",
    "\n",
    "\n",
    "\n",
    "# APPLY ML MODEL, for example:\n",
    "# Extract features and target for the model\n",
    "feature_columns = ['Avg. Event Capacity', 'Ticket Price Min USD','Ticket Price Max USD','headliner_monthly_listeners'] \n",
    "X_train = train_data[feature_columns]\n",
    "y_train = train_data['Avg. Gross USD']\n",
    "# Define the XGBoost model\n",
    "xgb_model = XGBRegressor(\n",
    "    n_estimators=100,\n",
    "    learning_rate=0.1,\n",
    "    max_depth=6,\n",
    "    subsample=0.8,\n",
    "    colsample_bytree=0.8,\n",
    "    random_state=42\n",
    ")\n",
    "# Define scoring metrics\n",
    "rmse_scorer = make_scorer(mean_squared_error, greater_is_better=False, squared=False)  # RMSE\n",
    "r2_scorer = make_scorer(r2_score)  # R²\n",
    "\n",
    "\n",
    "# CROSS VALIDATION\n",
    "# Set up cross-validation\n",
    "kf = KFold(n_splits=5, shuffle=True, random_state=42)\n",
    "# Perform cross-validation for RMSE\n",
    "cv_rmse_scores = cross_val_score(xgb_model, X_train, y_train, cv=kf, scoring=rmse_scorer)\n",
    "formatted_rmse_scores = [int(round(-score)) for score in cv_rmse_scores]  # Negate each score, round, and convert to integer\n",
    "mean_cv_rmse = int(round(-np.mean(cv_rmse_scores)))  # Negate the mean, round, and convert to integer\n",
    "print(\"Cross-validation RMSE scores:\", formatted_rmse_scores)\n",
    "print(\"Mean CV RMSE:\", mean_cv_rmse)\n",
    "# Perform cross-validation for R²\n",
    "cv_r2_scores = cross_val_score(xgb_model, X_train, y_train, cv=kf, scoring=r2_scorer)\n",
    "formatted_r2_scores = [round(score,3) for score in cv_r2_scores] \n",
    "print(\"Cross-validation R² scores:\", formatted_r2_scores)\n",
    "print(\"Mean CV R²:\", round(np.mean(cv_r2_scores),3))\n",
    "\n",
    "# TEST ON TESTING SET\n",
    "# Make predictions on the testing data\n",
    "X_test = test_data[feature_columns]\n",
    "y_test = test_data['Avg. Gross USD']\n",
    "xgb_model.fit(X_train, y_train)\n",
    "y_pred = xgb_model.predict(X_test)\n",
    "# Calculate R²\n",
    "test_r2 = r2_score(y_test, y_pred)\n",
    "print(f\"Test R²: {test_r2:.3f}\")\n",
    "# Calculate RMSE\n",
    "test_rmse = mean_squared_error(y_test, y_pred, squared=False)\n",
    "print(f\"Test RMSE: {test_rmse:.2f}\")"
   ]
  },
  {
   "cell_type": "code",
   "execution_count": null,
   "id": "0539ecdb",
   "metadata": {},
   "outputs": [],
   "source": []
  }
 ],
 "metadata": {
  "kernelspec": {
   "display_name": "Python 3",
   "language": "python",
   "name": "python3"
  },
  "language_info": {
   "codemirror_mode": {
    "name": "ipython",
    "version": 3
   },
   "file_extension": ".py",
   "mimetype": "text/x-python",
   "name": "python",
   "nbconvert_exporter": "python",
   "pygments_lexer": "ipython3",
   "version": "3.8.8"
  }
 },
 "nbformat": 4,
 "nbformat_minor": 5
}
