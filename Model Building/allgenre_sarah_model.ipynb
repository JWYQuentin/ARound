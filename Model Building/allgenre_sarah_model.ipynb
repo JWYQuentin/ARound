{
 "cells": [
  {
   "cell_type": "markdown",
   "metadata": {},
   "source": [
    "### Load data and add any columns by preprocessing the dataframe or merging with others"
   ]
  },
  {
   "cell_type": "code",
   "execution_count": 65,
   "metadata": {},
   "outputs": [],
   "source": [
    "import pandas as pd\n",
    "import numpy as np\n",
    "import matplotlib.pyplot as plt\n",
    "\n",
    "from sklearn.model_selection import train_test_split\n",
    "from sklearn.model_selection import cross_val_score, RepeatedKFold\n",
    "from sklearn.metrics import root_mean_squared_error, mean_absolute_error, r2_score\n",
    "\n",
    "from sklearn.utils import shuffle"
   ]
  },
  {
   "cell_type": "code",
   "execution_count": 66,
   "metadata": {},
   "outputs": [
    {
     "name": "stderr",
     "output_type": "stream",
     "text": [
      "C:\\Users\\sarah\\AppData\\Local\\Temp\\ipykernel_28860\\2295357896.py:1: DtypeWarning: Columns (2,3,6,7,8,9,10,28) have mixed types. Specify dtype option on import or set low_memory=False.\n",
      "  data = pd.read_csv('data/combined_df.csv')\n"
     ]
    },
    {
     "data": {
      "text/html": [
       "<div>\n",
       "<style scoped>\n",
       "    .dataframe tbody tr th:only-of-type {\n",
       "        vertical-align: middle;\n",
       "    }\n",
       "\n",
       "    .dataframe tbody tr th {\n",
       "        vertical-align: top;\n",
       "    }\n",
       "\n",
       "    .dataframe thead th {\n",
       "        text-align: right;\n",
       "    }\n",
       "</style>\n",
       "<table border=\"1\" class=\"dataframe\">\n",
       "  <thead>\n",
       "    <tr style=\"text-align: right;\">\n",
       "      <th></th>\n",
       "      <th>Event Date</th>\n",
       "      <th>Headliner</th>\n",
       "      <th>sp artist_name</th>\n",
       "      <th>sp artist_genre</th>\n",
       "      <th>sp followers</th>\n",
       "      <th>sp popularity</th>\n",
       "      <th>yt name</th>\n",
       "      <th>yt Channel ID</th>\n",
       "      <th>yt Title</th>\n",
       "      <th>yt Description</th>\n",
       "      <th>...</th>\n",
       "      <th>Genre</th>\n",
       "      <th>Avg. Tickets Sold</th>\n",
       "      <th>Avg. Gross USD</th>\n",
       "      <th>Avg. Event Capacity</th>\n",
       "      <th>Avg. Capacity Sold</th>\n",
       "      <th>Ticket Price Min USD</th>\n",
       "      <th>Ticket Price Max USD</th>\n",
       "      <th>Ticket Price Avg. USD</th>\n",
       "      <th>Month</th>\n",
       "      <th>day_of_week</th>\n",
       "    </tr>\n",
       "  </thead>\n",
       "  <tbody>\n",
       "    <tr>\n",
       "      <th>100</th>\n",
       "      <td>2024-08-31</td>\n",
       "      <td>\"Summer of '99 and Beyond Festival\"</td>\n",
       "      <td>NaN</td>\n",
       "      <td>NaN</td>\n",
       "      <td>NaN</td>\n",
       "      <td>NaN</td>\n",
       "      <td>NaN</td>\n",
       "      <td>NaN</td>\n",
       "      <td>NaN</td>\n",
       "      <td>NaN</td>\n",
       "      <td>...</td>\n",
       "      <td>Multi-Genre</td>\n",
       "      <td>23332.0</td>\n",
       "      <td>1441577.0</td>\n",
       "      <td>23332.0</td>\n",
       "      <td>100%</td>\n",
       "      <td>39.5</td>\n",
       "      <td>159.5</td>\n",
       "      <td>61.79</td>\n",
       "      <td>8</td>\n",
       "      <td>5</td>\n",
       "    </tr>\n",
       "    <tr>\n",
       "      <th>117</th>\n",
       "      <td>2024-08-31</td>\n",
       "      <td>\"Reggae Fest Massive\"</td>\n",
       "      <td>NaN</td>\n",
       "      <td>NaN</td>\n",
       "      <td>NaN</td>\n",
       "      <td>NaN</td>\n",
       "      <td>NaN</td>\n",
       "      <td>NaN</td>\n",
       "      <td>NaN</td>\n",
       "      <td>NaN</td>\n",
       "      <td>...</td>\n",
       "      <td>Reggae</td>\n",
       "      <td>12791.0</td>\n",
       "      <td>1418343.5</td>\n",
       "      <td>12791.0</td>\n",
       "      <td>100%</td>\n",
       "      <td>43.5</td>\n",
       "      <td>343.5</td>\n",
       "      <td>110.89</td>\n",
       "      <td>8</td>\n",
       "      <td>5</td>\n",
       "    </tr>\n",
       "    <tr>\n",
       "      <th>133</th>\n",
       "      <td>2024-08-30</td>\n",
       "      <td>\"DC Jazz Festival\"</td>\n",
       "      <td>NaN</td>\n",
       "      <td>NaN</td>\n",
       "      <td>NaN</td>\n",
       "      <td>NaN</td>\n",
       "      <td>NaN</td>\n",
       "      <td>NaN</td>\n",
       "      <td>NaN</td>\n",
       "      <td>NaN</td>\n",
       "      <td>...</td>\n",
       "      <td>Multi-Genre</td>\n",
       "      <td>2394.0</td>\n",
       "      <td>252568.0</td>\n",
       "      <td>2500.0</td>\n",
       "      <td>95%</td>\n",
       "      <td>55.2</td>\n",
       "      <td>299.0</td>\n",
       "      <td>105.50</td>\n",
       "      <td>8</td>\n",
       "      <td>4</td>\n",
       "    </tr>\n",
       "  </tbody>\n",
       "</table>\n",
       "<p>3 rows × 53 columns</p>\n",
       "</div>"
      ],
      "text/plain": [
       "    Event Date                            Headliner sp artist_name  \\\n",
       "100 2024-08-31  \"Summer of '99 and Beyond Festival\"            NaN   \n",
       "117 2024-08-31                \"Reggae Fest Massive\"            NaN   \n",
       "133 2024-08-30                   \"DC Jazz Festival\"            NaN   \n",
       "\n",
       "    sp artist_genre  sp followers  sp popularity yt name yt Channel ID  \\\n",
       "100             NaN           NaN            NaN     NaN           NaN   \n",
       "117             NaN           NaN            NaN     NaN           NaN   \n",
       "133             NaN           NaN            NaN     NaN           NaN   \n",
       "\n",
       "    yt Title yt Description  ...        Genre  Avg. Tickets Sold  \\\n",
       "100      NaN            NaN  ...  Multi-Genre            23332.0   \n",
       "117      NaN            NaN  ...       Reggae            12791.0   \n",
       "133      NaN            NaN  ...  Multi-Genre             2394.0   \n",
       "\n",
       "     Avg. Gross USD  Avg. Event Capacity  Avg. Capacity Sold  \\\n",
       "100       1441577.0              23332.0                100%   \n",
       "117       1418343.5              12791.0                100%   \n",
       "133        252568.0               2500.0                 95%   \n",
       "\n",
       "     Ticket Price Min USD  Ticket Price Max USD  Ticket Price Avg. USD  Month  \\\n",
       "100                  39.5                 159.5                  61.79      8   \n",
       "117                  43.5                 343.5                 110.89      8   \n",
       "133                  55.2                 299.0                 105.50      8   \n",
       "\n",
       "     day_of_week  \n",
       "100            5  \n",
       "117            5  \n",
       "133            4  \n",
       "\n",
       "[3 rows x 53 columns]"
      ]
     },
     "execution_count": 66,
     "metadata": {},
     "output_type": "execute_result"
    }
   ],
   "source": [
    "data = pd.read_csv('data/combined_df.csv')\n",
    "data = data[\n",
    "    (data['Year'] >= 2020) &\n",
    "    (data['Headliner'].str.contains('\"', na=False)) &\n",
    "    (~data['Support'].isna())\n",
    "  ]\n",
    "data['Event Date'] = pd.to_datetime(data['Event Date'])\n",
    "data['day_of_week'] = data['Event Date'].dt.day_of_week\n",
    "data.head(3)"
   ]
  },
  {
   "cell_type": "markdown",
   "metadata": {},
   "source": [
    "### Extract features"
   ]
  },
  {
   "cell_type": "code",
   "execution_count": 82,
   "metadata": {},
   "outputs": [
    {
     "name": "stdout",
     "output_type": "stream",
     "text": [
      "Missing sp data: 2516 rows\n",
      "Missing population data: 2516 rows\n",
      "Missing yt data: 2523 rows\n",
      "Missing monthly listeners data: 365 rows\n"
     ]
    }
   ],
   "source": [
    "# check for missing values\n",
    "print(f'Missing sp data: {sum(data[\"sp followers\"].isna())} rows')\n",
    "print(f'Missing population data: {sum(data[\"Total population\"].isna())} rows')\n",
    "print(f'Missing yt data: {sum(data[\"yt Subscriber Count\"].isna())} rows')\n",
    "print(f'Missing monthly listeners data: {sum(data[\"monthly_listeners\"].isna())} rows')"
   ]
  },
  {
   "cell_type": "code",
   "execution_count": 68,
   "metadata": {},
   "outputs": [],
   "source": [
    "top_20_markets = data['Market'].value_counts().iloc[:20].index\n",
    "one_hot_encoded = pd.get_dummies(data['Market'])\n",
    "one_hot_encoded = one_hot_encoded[top_20_markets]\n",
    "data = data.join(one_hot_encoded)"
   ]
  },
  {
   "cell_type": "code",
   "execution_count": 69,
   "metadata": {},
   "outputs": [],
   "source": [
    "features = ['Avg. Event Capacity',\n",
    "            'Ticket Price Min USD', \n",
    "            'Ticket Price Max USD',\n",
    "            'Year',\n",
    "            'monthly_listeners',\n",
    "            'Month',\n",
    "            'day_of_week'] + list(top_20_markets)"
   ]
  },
  {
   "cell_type": "code",
   "execution_count": 70,
   "metadata": {},
   "outputs": [],
   "source": [
    "X = data[features]\n",
    "y = data['Avg. Gross USD']\n",
    "X = X.dropna()\n",
    "y = y[X.index]\n",
    "X_train, X_test, y_train, y_test = train_test_split(X, y, test_size = 0.2, random_state = 8)"
   ]
  },
  {
   "cell_type": "markdown",
   "metadata": {},
   "source": [
    "### Linear Regression"
   ]
  },
  {
   "cell_type": "code",
   "execution_count": 71,
   "metadata": {},
   "outputs": [],
   "source": [
    "from sklearn.linear_model import LinearRegression"
   ]
  },
  {
   "cell_type": "code",
   "execution_count": 72,
   "metadata": {},
   "outputs": [
    {
     "name": "stdout",
     "output_type": "stream",
     "text": [
      "Linear Regression Cross-Validation Performance:\n",
      "Cross-Validation RMSE: Mean = 986732.7589375266\n",
      "Cross-Validation MAE: Mean = 280552.1757676258\n",
      "Cross-Validation R^2: Mean = -0.8892955277493467\n"
     ]
    }
   ],
   "source": [
    "linear_model = LinearRegression()\n",
    "rkf = RepeatedKFold(n_splits=5, n_repeats=10)\n",
    "\n",
    "cv_rmse = np.sqrt(-cross_val_score(linear_model, X_train, y_train, cv=rkf, scoring='neg_mean_squared_error'))\n",
    "cv_mae = -cross_val_score(linear_model, X_train, y_train, cv=rkf, scoring='neg_mean_absolute_error')\n",
    "cv_r2 = cross_val_score(linear_model, X_train, y_train, cv=rkf, scoring='r2')\n",
    "\n",
    "print(\"Linear Regression Cross-Validation Performance:\")\n",
    "print(\"Cross-Validation RMSE: Mean =\", cv_rmse.mean())\n",
    "print(\"Cross-Validation MAE: Mean =\", cv_mae.mean())\n",
    "print(\"Cross-Validation R^2: Mean =\", cv_r2.mean())"
   ]
  },
  {
   "cell_type": "code",
   "execution_count": 73,
   "metadata": {},
   "outputs": [
    {
     "name": "stdout",
     "output_type": "stream",
     "text": [
      "Linear Regression Performance on Test Set:\n",
      "RMSE: 810848.9341045264\n",
      "MAE: 276614.95212524367\n",
      "R^2: 0.6516370132661887\n"
     ]
    }
   ],
   "source": [
    "# test set\n",
    "y_pred = linear_regression_model.predict(X_test)\n",
    "\n",
    "rmse = root_mean_squared_error(y_test, y_pred)\n",
    "mae = mean_absolute_error(y_test, y_pred)\n",
    "r2 = r2_score(y_test, y_pred)\n",
    "\n",
    "print(\"Linear Regression Performance on Test Set:\")\n",
    "print(\"RMSE:\", rmse)\n",
    "print(\"MAE:\", mae)\n",
    "print(\"R^2:\", r2)"
   ]
  },
  {
   "cell_type": "markdown",
   "metadata": {},
   "source": [
    "### Random Forest"
   ]
  },
  {
   "cell_type": "code",
   "execution_count": 74,
   "metadata": {},
   "outputs": [],
   "source": [
    "from sklearn.ensemble import RandomForestRegressor"
   ]
  },
  {
   "cell_type": "code",
   "execution_count": 75,
   "metadata": {},
   "outputs": [
    {
     "name": "stdout",
     "output_type": "stream",
     "text": [
      "Random Forest Regressor Cross-Validation Performance:\n",
      "Cross-Validation RMSE: Mean = 526755.2413959436\n",
      "Cross-Validation MAE: Mean = 141719.17209888218\n",
      "Cross-Validation R^2: Mean = 0.6537308464525842\n"
     ]
    }
   ],
   "source": [
    "random_forest_model = RandomForestRegressor(n_estimators=100)\n",
    "rkf = RepeatedKFold(n_splits=5, n_repeats=10)\n",
    "\n",
    "cv_rmse = np.sqrt(-cross_val_score(random_forest_model, X_train, y_train, cv=rkf, scoring='neg_mean_squared_error'))\n",
    "cv_mae = -cross_val_score(random_forest_model, X_train, y_train, cv=rkf, scoring='neg_mean_absolute_error')\n",
    "cv_r2 = cross_val_score(random_forest_model, X_train, y_train, cv=rkf, scoring='r2')\n",
    "\n",
    "print(\"Random Forest Regressor Cross-Validation Performance:\")\n",
    "print(\"Cross-Validation RMSE: Mean =\", cv_rmse.mean())\n",
    "print(\"Cross-Validation MAE: Mean =\", cv_mae.mean())\n",
    "print(\"Cross-Validation R^2: Mean =\", cv_r2.mean())"
   ]
  },
  {
   "cell_type": "code",
   "execution_count": 76,
   "metadata": {},
   "outputs": [
    {
     "name": "stdout",
     "output_type": "stream",
     "text": [
      "Random Forest Regressor Performance on Test Set:\n",
      "RMSE: 770969.9098008629\n",
      "MAE: 153341.1690536748\n",
      "R^2: 0.6850606247271125\n"
     ]
    }
   ],
   "source": [
    "# test set\n",
    "random_forest_model.fit(X_train, y_train)\n",
    "y_pred = random_forest_model.predict(X_test)\n",
    "\n",
    "rmse = root_mean_squared_error(y_test, y_pred)\n",
    "mae = mean_absolute_error(y_test, y_pred)\n",
    "r2 = r2_score(y_test, y_pred)\n",
    "\n",
    "print(\"Random Forest Regressor Performance on Test Set:\")\n",
    "print(\"RMSE:\", rmse)\n",
    "print(\"MAE:\", mae)\n",
    "print(\"R^2:\", r2)"
   ]
  },
  {
   "cell_type": "markdown",
   "metadata": {},
   "source": [
    "### XGBoost Regressor"
   ]
  },
  {
   "cell_type": "code",
   "execution_count": 79,
   "metadata": {},
   "outputs": [],
   "source": [
    "import xgboost as xgb\n",
    "from xgboost import XGBRegressor"
   ]
  },
  {
   "cell_type": "code",
   "execution_count": 80,
   "metadata": {},
   "outputs": [
    {
     "name": "stdout",
     "output_type": "stream",
     "text": [
      "XGBoost Regressor Cross-Validation Performance:\n",
      "Cross-Validation RMSE: Mean = 557217.8708558803\n",
      "Cross-Validation MAE: Mean = 148579.3967075906\n",
      "Cross-Validation R^2: Mean = 0.6261177818150814\n"
     ]
    }
   ],
   "source": [
    "xgb_model = xgb.XGBRegressor(objective='reg:squarederror')\n",
    "rkf = RepeatedKFold(n_splits=5, n_repeats=30)\n",
    "\n",
    "cv_rmse = np.sqrt(-cross_val_score(xgb_model, X_train, y_train, cv=rkf, scoring='neg_mean_squared_error'))\n",
    "cv_mae = -cross_val_score(xgb_model, X_train, y_train, cv=rkf, scoring='neg_mean_absolute_error')\n",
    "cv_r2 = cross_val_score(xgb_model, X_train, y_train, cv=rkf, scoring='r2')\n",
    "\n",
    "print(\"XGBoost Regressor Cross-Validation Performance:\")\n",
    "print(\"Cross-Validation RMSE: Mean =\", cv_rmse.mean())\n",
    "print(\"Cross-Validation MAE: Mean =\", cv_mae.mean())\n",
    "print(\"Cross-Validation R^2: Mean =\", cv_r2.mean())"
   ]
  },
  {
   "cell_type": "code",
   "execution_count": 81,
   "metadata": {},
   "outputs": [
    {
     "name": "stdout",
     "output_type": "stream",
     "text": [
      "XGBoost Regressor Performance on Test Set:\n",
      "Test RMSE: 898295.5376232901\n",
      "Test MAE: 174407.35757934808\n",
      "Test R^2: 0.5724463782410321\n"
     ]
    }
   ],
   "source": [
    "# test set\n",
    "xgb_model.fit(X_train, y_train)\n",
    "\n",
    "y_pred = xgb_model.predict(X_test)\n",
    "\n",
    "rmse = np.sqrt(mean_squared_error(y_test, y_pred))\n",
    "mae = mean_absolute_error(y_test, y_pred)\n",
    "r2 = r2_score(y_test, y_pred)\n",
    "\n",
    "print(\"XGBoost Regressor Performance on Test Set:\")\n",
    "print('Test RMSE:', rmse)\n",
    "print('Test MAE:', mae)\n",
    "print('Test R^2:', r2)"
   ]
  },
  {
   "cell_type": "markdown",
   "metadata": {},
   "source": [
    "### For saving a model"
   ]
  },
  {
   "cell_type": "code",
   "execution_count": 6,
   "metadata": {},
   "outputs": [],
   "source": [
    "import pickle\n",
    "\n",
    "filename = 'model/example.pkl'\n",
    "\n",
    "# Open the file to save the model\n",
    "with open(filename, 'wb') as file:\n",
    "    pickle.dump(xgb_model, file)"
   ]
  }
 ],
 "metadata": {
  "kernelspec": {
   "display_name": "Python 3 (ipykernel)",
   "language": "python",
   "name": "python3"
  },
  "language_info": {
   "codemirror_mode": {
    "name": "ipython",
    "version": 3
   },
   "file_extension": ".py",
   "mimetype": "text/x-python",
   "name": "python",
   "nbconvert_exporter": "python",
   "pygments_lexer": "ipython3",
   "version": "3.12.6"
  }
 },
 "nbformat": 4,
 "nbformat_minor": 4
}
