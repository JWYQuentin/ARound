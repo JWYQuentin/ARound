{
 "cells": [
  {
   "cell_type": "markdown",
   "metadata": {},
   "source": [
    "### Load data and add any columns by preprocessing the dataframe or merging with others"
   ]
  },
  {
   "cell_type": "code",
   "execution_count": 2,
   "metadata": {},
   "outputs": [
    {
     "data": {
      "text/html": [
       "<div>\n",
       "<style scoped>\n",
       "    .dataframe tbody tr th:only-of-type {\n",
       "        vertical-align: middle;\n",
       "    }\n",
       "\n",
       "    .dataframe tbody tr th {\n",
       "        vertical-align: top;\n",
       "    }\n",
       "\n",
       "    .dataframe thead th {\n",
       "        text-align: right;\n",
       "    }\n",
       "</style>\n",
       "<table border=\"1\" class=\"dataframe\">\n",
       "  <thead>\n",
       "    <tr style=\"text-align: right;\">\n",
       "      <th></th>\n",
       "      <th>Event Date</th>\n",
       "      <th>Number of Shows</th>\n",
       "      <th>Headliner</th>\n",
       "      <th>Support</th>\n",
       "      <th>Venue</th>\n",
       "      <th>City</th>\n",
       "      <th>State</th>\n",
       "      <th>Country</th>\n",
       "      <th>Market</th>\n",
       "      <th>Company Type</th>\n",
       "      <th>...</th>\n",
       "      <th>Genre</th>\n",
       "      <th>Avg. Tickets Sold</th>\n",
       "      <th>Avg. Gross USD</th>\n",
       "      <th>Avg. Event Capacity</th>\n",
       "      <th>Avg. Capacity Sold</th>\n",
       "      <th>Ticket Price Min USD</th>\n",
       "      <th>Ticket Price Max USD</th>\n",
       "      <th>Ticket Price Avg. USD</th>\n",
       "      <th>day_of_week</th>\n",
       "      <th>month</th>\n",
       "    </tr>\n",
       "  </thead>\n",
       "  <tbody>\n",
       "    <tr>\n",
       "      <th>0</th>\n",
       "      <td>2024-09-18</td>\n",
       "      <td>1</td>\n",
       "      <td>Creed</td>\n",
       "      <td>3 Doors Down, Finger Eleven</td>\n",
       "      <td>Coastal Credit Union Music Park at Walnut Creek</td>\n",
       "      <td>Raleigh</td>\n",
       "      <td>North Carolina</td>\n",
       "      <td>United States</td>\n",
       "      <td>Raleigh-Durham (Fayetteville)</td>\n",
       "      <td>Amphitheatre</td>\n",
       "      <td>...</td>\n",
       "      <td>Pop / Rock</td>\n",
       "      <td>20295.0</td>\n",
       "      <td>1228939.0</td>\n",
       "      <td>20295.0</td>\n",
       "      <td>100%</td>\n",
       "      <td>39.5</td>\n",
       "      <td>225.0</td>\n",
       "      <td>60.55</td>\n",
       "      <td>2</td>\n",
       "      <td>9</td>\n",
       "    </tr>\n",
       "    <tr>\n",
       "      <th>1</th>\n",
       "      <td>2024-09-14</td>\n",
       "      <td>1</td>\n",
       "      <td>Creed</td>\n",
       "      <td>3 Doors Down, Finger Eleven</td>\n",
       "      <td>The Cynthia Woods Mitchell Pavilion</td>\n",
       "      <td>The Woodlands</td>\n",
       "      <td>Texas</td>\n",
       "      <td>United States</td>\n",
       "      <td>Houston</td>\n",
       "      <td>Amphitheatre</td>\n",
       "      <td>...</td>\n",
       "      <td>Pop / Rock</td>\n",
       "      <td>16308.0</td>\n",
       "      <td>1374174.0</td>\n",
       "      <td>16308.0</td>\n",
       "      <td>100%</td>\n",
       "      <td>39.5</td>\n",
       "      <td>225.0</td>\n",
       "      <td>84.26</td>\n",
       "      <td>5</td>\n",
       "      <td>9</td>\n",
       "    </tr>\n",
       "    <tr>\n",
       "      <th>2</th>\n",
       "      <td>2024-09-13</td>\n",
       "      <td>1</td>\n",
       "      <td>Bruce Springsteen &amp; The E Street Band</td>\n",
       "      <td>NaN</td>\n",
       "      <td>Oriole Park at Camden Yards</td>\n",
       "      <td>Baltimore</td>\n",
       "      <td>Maryland</td>\n",
       "      <td>United States</td>\n",
       "      <td>Baltimore</td>\n",
       "      <td>Stadium</td>\n",
       "      <td>...</td>\n",
       "      <td>Pop / Rock</td>\n",
       "      <td>39646.0</td>\n",
       "      <td>6556587.0</td>\n",
       "      <td>39646.0</td>\n",
       "      <td>100%</td>\n",
       "      <td>49.5</td>\n",
       "      <td>299.5</td>\n",
       "      <td>165.38</td>\n",
       "      <td>4</td>\n",
       "      <td>9</td>\n",
       "    </tr>\n",
       "  </tbody>\n",
       "</table>\n",
       "<p>3 rows × 22 columns</p>\n",
       "</div>"
      ],
      "text/plain": [
       "  Event Date  Number of Shows                              Headliner  \\\n",
       "0 2024-09-18                1                                  Creed   \n",
       "1 2024-09-14                1                                  Creed   \n",
       "2 2024-09-13                1  Bruce Springsteen & The E Street Band   \n",
       "\n",
       "                       Support  \\\n",
       "0  3 Doors Down, Finger Eleven   \n",
       "1  3 Doors Down, Finger Eleven   \n",
       "2                          NaN   \n",
       "\n",
       "                                             Venue           City  \\\n",
       "0  Coastal Credit Union Music Park at Walnut Creek        Raleigh   \n",
       "1              The Cynthia Woods Mitchell Pavilion  The Woodlands   \n",
       "2                      Oriole Park at Camden Yards      Baltimore   \n",
       "\n",
       "            State        Country                          Market  \\\n",
       "0  North Carolina  United States  Raleigh-Durham (Fayetteville)    \n",
       "1           Texas  United States                         Houston   \n",
       "2        Maryland  United States                       Baltimore   \n",
       "\n",
       "   Company Type  ...       Genre Avg. Tickets Sold Avg. Gross USD  \\\n",
       "0  Amphitheatre  ...  Pop / Rock           20295.0      1228939.0   \n",
       "1  Amphitheatre  ...  Pop / Rock           16308.0      1374174.0   \n",
       "2       Stadium  ...  Pop / Rock           39646.0      6556587.0   \n",
       "\n",
       "   Avg. Event Capacity  Avg. Capacity Sold  Ticket Price Min USD  \\\n",
       "0              20295.0                100%                  39.5   \n",
       "1              16308.0                100%                  39.5   \n",
       "2              39646.0                100%                  49.5   \n",
       "\n",
       "  Ticket Price Max USD  Ticket Price Avg. USD  day_of_week  month  \n",
       "0                225.0                  60.55            2      9  \n",
       "1                225.0                  84.26            5      9  \n",
       "2                299.5                 165.38            4      9  \n",
       "\n",
       "[3 rows x 22 columns]"
      ]
     },
     "execution_count": 2,
     "metadata": {},
     "output_type": "execute_result"
    }
   ],
   "source": [
    "import pandas as pd\n",
    "import numpy as np\n",
    "import matplotlib.pyplot as plt\n",
    "from sklearn.model_selection import train_test_split\n",
    "from sklearn.model_selection import cross_val_score, RepeatedKFold\n",
    "from sklearn.metrics import mean_absolute_error, root_mean_squared_error\n",
    "from sklearn.linear_model import LinearRegression\n",
    "from sklearn.impute import SimpleImputer\n",
    "from sklearn.metrics import mean_squared_error, r2_score\n",
    "from sklearn.ensemble import RandomForestRegressor\n",
    "import xgboost as xgb\n",
    "from xgboost import XGBRegressor\n",
    "from sklearn.utils import shuffle\n",
    "\n",
    "\n",
    "data = pd.read_csv('Pollstar_all_genres.csv')\n",
    "data['Event Date'] = pd.to_datetime(data['Event Date'])\n",
    "data['day_of_week'] = data['Event Date'].dt.day_of_week\n",
    "data['month'] = data['Event Date'].dt.month\n",
    "data.head(3)"
   ]
  },
  {
   "cell_type": "markdown",
   "metadata": {},
   "source": [
    "### Extract features that you are actually going to use"
   ]
  },
  {
   "cell_type": "code",
   "execution_count": 3,
   "metadata": {},
   "outputs": [],
   "source": [
    "top_20_markets = data['Market'].value_counts().iloc[:20].index\n",
    "one_hot_encoded = pd.get_dummies(data['Market'])\n",
    "one_hot_encoded = one_hot_encoded[top_20_markets]\n",
    "data = data.join(one_hot_encoded)"
   ]
  },
  {
   "cell_type": "code",
   "execution_count": 4,
   "metadata": {},
   "outputs": [],
   "source": [
    "features = ['Avg. Event Capacity',\n",
    "            'Ticket Price Min USD', \n",
    "            'Ticket Price Max USD',\n",
    "            'day_of_week',\n",
    "            'month'] + list(top_20_markets)\n",
    "\n",
    "X = data[features]\n",
    "y = data['Avg. Gross USD']\n",
    "X_train, X_test, y_train, y_test = train_test_split(X, y, test_size = 0.2, random_state = 8)\n",
    "\n",
    "dtrain = xgb.DMatrix(data=X_train, label=y_train)\n",
    "dtest = xgb.DMatrix(data=X_test, label=y_test)"
   ]
  },
  {
   "cell_type": "markdown",
   "metadata": {},
   "source": [
    "### Test a model with repeated cross-validation to ensure the model's performance"
   ]
  },
  {
   "cell_type": "code",
   "execution_count": 9,
   "metadata": {},
   "outputs": [],
   "source": [
    "# Choosing these hyperparameters can be done by randomized search cv or auto machine learning tool (FlaML)\n",
    "# https://scikit-learn.org/1.5/modules/generated/sklearn.model_selection.RandomizedSearchCV.html\n",
    "# https://microsoft.github.io/FLAML/\n",
    "xgb_model = XGBRegressor(\n",
    "    n_estimators=123,\n",
    "    max_depth = 6,\n",
    "    min_child_weight=6.775491524356438,\n",
    "    learning_rate=0.2045492385700394,\n",
    "    subsample=0.9538853360715174,\n",
    "    colsample_bylevel=0.9843540929830947,\n",
    "    colsample_bytree=0.7927149465668909,\n",
    "    reg_alpha=0.05758042236618048,\n",
    "    reg_lambda=5.778258009012479,\n",
    "    objective='reg:squarederror',\n",
    "    enable_categorical=True\n",
    ")"
   ]
  },
  {
   "cell_type": "code",
   "execution_count": 10,
   "metadata": {},
   "outputs": [
    {
     "name": "stdout",
     "output_type": "stream",
     "text": [
      "Average MAE: 35800.11526586191\n",
      "MAE Std Dev: 599.7214561529235\n",
      "Average R^2: 0.778844719414894\n",
      "R^2 Std Dev: 0.06195424499355604\n"
     ]
    }
   ],
   "source": [
    "# 5-fold CV repeated 10 times\n",
    "rkf = RepeatedKFold(n_splits=5, n_repeats=10)\n",
    "\n",
    "# Perform cross-validation to get MAE and R^2\n",
    "mae_scores = cross_val_score(xgb_model, X_train, y_train, cv=rkf, scoring='neg_mean_absolute_error')\n",
    "r2_scores = cross_val_score(xgb_model, X_train, y_train, cv=rkf, scoring='r2')\n",
    "\n",
    "\n",
    "# NOTE MAE largely depends on the target distribution\n",
    "print('Average MAE:', -np.mean(mae_scores))  # Negate since MAE is returned as negative\n",
    "print('MAE Std Dev:', np.std(-mae_scores))\n",
    "print('Average R^2:', np.mean(r2_scores))\n",
    "print('R^2 Std Dev:', np.std(r2_scores))"
   ]
  },
  {
   "cell_type": "code",
   "execution_count": 5,
   "metadata": {},
   "outputs": [],
   "source": [
    "features = ['Avg. Event Capacity',\n",
    "            'Ticket Price Min USD', \n",
    "            'Ticket Price Max USD',\n",
    "            'day_of_week',\n",
    "            'month'] + list(top_20_markets)\n",
    "\n",
    "X = data[features]\n",
    "y = data['Avg. Gross USD']\n",
    "X_train, X_test, y_train, y_test = train_test_split(X, y, test_size = 0.2, random_state = 8)\n",
    "\n",
    "dtrain = xgb.DMatrix(data=X_train, label=y_train)\n",
    "dtest = xgb.DMatrix(data=X_test, label=y_test)"
   ]
  },
  {
   "cell_type": "code",
   "execution_count": 6,
   "metadata": {},
   "outputs": [
    {
     "name": "stdout",
     "output_type": "stream",
     "text": [
      "Mean Squared Error: 16776067687.860418\n",
      "R^2 Score: 0.9002438778644194\n"
     ]
    }
   ],
   "source": [
    "model = RandomForestRegressor(n_estimators=100, random_state=42)\n",
    "model.fit(X_train, y_train)\n",
    "y_pred = model.predict(X_test)\n",
    "mse = mean_squared_error(y_test, y_pred)\n",
    "r2 = r2_score(y_test, y_pred)\n",
    "\n",
    "print(f\"Mean Squared Error: {mse}\")\n",
    "print(f\"R^2 Score: {r2}\")"
   ]
  },
  {
   "cell_type": "code",
   "execution_count": 7,
   "metadata": {},
   "outputs": [
    {
     "name": "stdout",
     "output_type": "stream",
     "text": [
      "Fitting 3 folds for each of 10 candidates, totalling 30 fits\n",
      "Best Parameters: {'n_estimators': 100, 'min_samples_split': 5, 'min_samples_leaf': 1, 'max_features': 'log2', 'max_depth': None}\n",
      "Mean Squared Error: 20325055174.76696\n",
      "R^2 Score: 0.879140408577771\n"
     ]
    }
   ],
   "source": [
    "from sklearn.model_selection import RandomizedSearchCV\n",
    "\n",
    "param_grid = {\n",
    "    'n_estimators': [100, 200],\n",
    "    'max_depth': [10, 20, None],\n",
    "    'min_samples_split': [5, 10],\n",
    "    'min_samples_leaf': [1, 2],\n",
    "    'max_features': ['sqrt', 'log2']\n",
    "}\n",
    "\n",
    "random_search = RandomizedSearchCV(\n",
    "    estimator=RandomForestRegressor(random_state=42),\n",
    "    param_distributions=param_grid,\n",
    "    n_iter=10, \n",
    "    cv=3,\n",
    "    verbose=1,\n",
    "    n_jobs=-1,\n",
    "    random_state=42\n",
    ")\n",
    "\n",
    "random_search.fit(X_train, y_train)\n",
    "\n",
    "best_model = random_search.best_estimator_\n",
    "y_pred = best_model.predict(X_test)\n",
    "\n",
    "mse = mean_squared_error(y_test, y_pred)\n",
    "r2 = r2_score(y_test, y_pred)\n",
    "\n",
    "print(\"Best Parameters:\", random_search.best_params_)\n",
    "print(f\"Mean Squared Error: {mse}\")\n",
    "print(f\"R^2 Score: {r2}\")"
   ]
  },
  {
   "cell_type": "markdown",
   "metadata": {},
   "source": [
    "### Optional: When you want to see how the model performs on unseen data"
   ]
  },
  {
   "cell_type": "code",
   "execution_count": 10,
   "metadata": {},
   "outputs": [
    {
     "ename": "NameError",
     "evalue": "name 'X_sample' is not defined",
     "output_type": "error",
     "traceback": [
      "\u001b[1;31m---------------------------------------------------------------------------\u001b[0m",
      "\u001b[1;31mNameError\u001b[0m                                 Traceback (most recent call last)",
      "Cell \u001b[1;32mIn[10], line 24\u001b[0m\n\u001b[0;32m      7\u001b[0m X_train, y_train \u001b[38;5;241m=\u001b[39m shuffle(X_train, y_train, random_state\u001b[38;5;241m=\u001b[39mi)\n\u001b[0;32m      9\u001b[0m xgb_model \u001b[38;5;241m=\u001b[39m XGBRegressor(\n\u001b[0;32m     10\u001b[0m     n_estimators\u001b[38;5;241m=\u001b[39m\u001b[38;5;241m123\u001b[39m,\n\u001b[0;32m     11\u001b[0m     max_depth \u001b[38;5;241m=\u001b[39m \u001b[38;5;241m6\u001b[39m,\n\u001b[1;32m   (...)\u001b[0m\n\u001b[0;32m     20\u001b[0m     enable_categorical\u001b[38;5;241m=\u001b[39m\u001b[38;5;28;01mTrue\u001b[39;00m\n\u001b[0;32m     21\u001b[0m )\n\u001b[1;32m---> 24\u001b[0m xgb_model\u001b[38;5;241m.\u001b[39mfit(\u001b[43mX_sample\u001b[49m, y_sample)\n\u001b[0;32m     26\u001b[0m \u001b[38;5;66;03m# Predict on the unseen data\u001b[39;00m\n\u001b[0;32m     27\u001b[0m pred \u001b[38;5;241m=\u001b[39m xgb_model\u001b[38;5;241m.\u001b[39mpredict(iu_X)\n",
      "\u001b[1;31mNameError\u001b[0m: name 'X_sample' is not defined"
     ]
    }
   ],
   "source": [
    "rmse_scores = []\n",
    "mae_scores = []\n",
    "predictions = []\n",
    "\n",
    "# Repeat the process 30 times\n",
    "for i in range(30):\n",
    "    X_train, y_train = shuffle(X_train, y_train, random_state=i)\n",
    "\n",
    "    xgb_model = XGBRegressor(\n",
    "        n_estimators=123,\n",
    "        max_depth = 6,\n",
    "        min_child_weight=6.775491524356438,\n",
    "        learning_rate=0.2045492385700394,\n",
    "        subsample=0.9538853360715174,\n",
    "        colsample_bylevel=0.9843540929830947,\n",
    "        colsample_bytree=0.7927149465668909,\n",
    "        reg_alpha=0.05758042236618048,\n",
    "        reg_lambda=5.778258009012479,\n",
    "        objective='reg:squarederror',\n",
    "        enable_categorical=True\n",
    "    )\n",
    "    \n",
    "    \n",
    "    xgb_model.fit(X_sample, y_sample)\n",
    "    \n",
    "    # Predict on the unseen data\n",
    "    pred = xgb_model.predict(iu_X)\n",
    "    \n",
    "    # Calculate RMSE and MAE\n",
    "    current_rmse = root_mean_squared_error(iu_y, pred)\n",
    "    current_mae = mean_absolute_error(iu_y, pred)\n",
    "    \n",
    "    # Store the results\n",
    "    rmse_scores.append(current_rmse)\n",
    "    mae_scores.append(current_mae)\n",
    "    predictions.append(pred)\n",
    "\n",
    "print('Average RMSE over 30 iterations:', np.mean(rmse_scores))\n",
    "print('RMSE Standard Deviation:', np.std(rmse_scores))\n",
    "print('Average MAE over 30 iterations:', np.mean(mae_scores))\n",
    "print('MAE Standard Deviation:', np.std(mae_scores))"
   ]
  },
  {
   "cell_type": "code",
   "execution_count": 5,
   "metadata": {},
   "outputs": [
    {
     "data": {
      "image/png": "[encoded data removed]",
      "text/plain": [
       "<Figure size 640x480 with 1 Axes>"
      ]
     },
     "metadata": {},
     "output_type": "display_data"
    }
   ],
   "source": [
    "plt.boxplot(pd.DataFrame(predictions))\n",
    "plt.scatter(range(1, len(iu_y) + 1), iu_y.values, color='red', zorder=3)\n",
    "plt.show()"
   ]
  },
  {
   "cell_type": "markdown",
   "metadata": {},
   "source": [
    "### For saving a model"
   ]
  },
  {
   "cell_type": "code",
   "execution_count": 6,
   "metadata": {},
   "outputs": [],
   "source": [
    "import pickle\n",
    "\n",
    "filename = 'model/example.pkl'\n",
    "\n",
    "# Open the file to save the model\n",
    "with open(filename, 'wb') as file:\n",
    "    pickle.dump(xgb_model, file)"
   ]
  }
 ],
 "metadata": {
  "kernelspec": {
   "display_name": "Python 3 (ipykernel)",
   "language": "python",
   "name": "python3"
  },
  "language_info": {
   "codemirror_mode": {
    "name": "ipython",
    "version": 3
   },
   "file_extension": ".py",
   "mimetype": "text/x-python",
   "name": "python",
   "nbconvert_exporter": "python",
   "pygments_lexer": "ipython3",
   "version": "3.11.8"
  }
 },
 "nbformat": 4,
 "nbformat_minor": 4
}
