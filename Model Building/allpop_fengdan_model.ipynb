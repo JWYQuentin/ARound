{
 "cells": [
  {
   "cell_type": "code",
   "execution_count": 11,
   "id": "e3e97ac4",
   "metadata": {},
   "outputs": [],
   "source": [
    "import pandas as pd\n",
    "import json\n",
    "import time\n",
    "import numpy as np\n",
    "from IPython.display import display\n",
    "import ipywidgets as widgets\n",
    "import holidays"
   ]
  },
  {
   "cell_type": "code",
   "execution_count": 81,
   "id": "fb7b7477",
   "metadata": {},
   "outputs": [],
   "source": [
    "from sklearn.model_selection import train_test_split\n",
    "from sklearn.linear_model import LinearRegression\n",
    "from sklearn.preprocessing import OneHotEncoder\n",
    "from sklearn.compose import ColumnTransformer\n",
    "from sklearn.pipeline import Pipeline\n",
    "from sklearn.model_selection import cross_val_score\n",
    "from sklearn.metrics import make_scorer, mean_squared_error, r2_score\n",
    "\n",
    "import seaborn as sns\n",
    "import matplotlib.pyplot as plt"
   ]
  },
  {
   "cell_type": "markdown",
   "id": "41f15bb1",
   "metadata": {},
   "source": [
    "## Step 1: Import Data"
   ]
  },
  {
   "cell_type": "code",
   "execution_count": 57,
   "id": "0d145751",
   "metadata": {},
   "outputs": [
    {
     "name": "stderr",
     "output_type": "stream",
     "text": [
      "/Users/Sherry/opt/anaconda3/lib/python3.8/site-packages/IPython/core/interactiveshell.py:3165: DtypeWarning: Columns (48) have mixed types.Specify dtype option on import or set low_memory=False.\n",
      "  has_raised = await self.run_ast_nodes(code_ast.body, cell_name,\n"
     ]
    },
    {
     "data": {
      "text/html": [
       "<div>\n",
       "<style scoped>\n",
       "    .dataframe tbody tr th:only-of-type {\n",
       "        vertical-align: middle;\n",
       "    }\n",
       "\n",
       "    .dataframe tbody tr th {\n",
       "        vertical-align: top;\n",
       "    }\n",
       "\n",
       "    .dataframe thead th {\n",
       "        text-align: right;\n",
       "    }\n",
       "</style>\n",
       "<table border=\"1\" class=\"dataframe\">\n",
       "  <thead>\n",
       "    <tr style=\"text-align: right;\">\n",
       "      <th></th>\n",
       "      <th>Unnamed: 0</th>\n",
       "      <th>Event Date</th>\n",
       "      <th>Number of Shows</th>\n",
       "      <th>Headliner</th>\n",
       "      <th>Support</th>\n",
       "      <th>Venue</th>\n",
       "      <th>City</th>\n",
       "      <th>State</th>\n",
       "      <th>Country</th>\n",
       "      <th>Market</th>\n",
       "      <th>...</th>\n",
       "      <th>20 to 24 years population</th>\n",
       "      <th>25 to 34 years population</th>\n",
       "      <th>35 to 44 years population</th>\n",
       "      <th>45 to 54 years population</th>\n",
       "      <th>55 to 59 years population</th>\n",
       "      <th>60 to 64 years population</th>\n",
       "      <th>65 to 74 years population</th>\n",
       "      <th>75 to 84 years population</th>\n",
       "      <th>85 years and over population</th>\n",
       "      <th>Median age</th>\n",
       "    </tr>\n",
       "  </thead>\n",
       "  <tbody>\n",
       "    <tr>\n",
       "      <th>0</th>\n",
       "      <td>0</td>\n",
       "      <td>9/18/2024</td>\n",
       "      <td>1</td>\n",
       "      <td>Creed</td>\n",
       "      <td>3 Doors Down, Finger Eleven</td>\n",
       "      <td>Coastal Credit Union Music Park at Walnut Creek</td>\n",
       "      <td>Raleigh</td>\n",
       "      <td>North Carolina</td>\n",
       "      <td>United States</td>\n",
       "      <td>Raleigh-Durham (Fayetteville)</td>\n",
       "      <td>...</td>\n",
       "      <td>39470.0</td>\n",
       "      <td>86563.0</td>\n",
       "      <td>67091.0</td>\n",
       "      <td>60170.0</td>\n",
       "      <td>26831.0</td>\n",
       "      <td>22056.0</td>\n",
       "      <td>32176.0</td>\n",
       "      <td>14987.0</td>\n",
       "      <td>6107.0</td>\n",
       "      <td>34.6</td>\n",
       "    </tr>\n",
       "    <tr>\n",
       "      <th>1</th>\n",
       "      <td>1</td>\n",
       "      <td>9/14/2024</td>\n",
       "      <td>1</td>\n",
       "      <td>Creed</td>\n",
       "      <td>3 Doors Down, Finger Eleven</td>\n",
       "      <td>The Cynthia Woods Mitchell Pavilion</td>\n",
       "      <td>The Woodlands</td>\n",
       "      <td>Texas</td>\n",
       "      <td>United States</td>\n",
       "      <td>Houston</td>\n",
       "      <td>...</td>\n",
       "      <td>5185.0</td>\n",
       "      <td>11317.0</td>\n",
       "      <td>15998.0</td>\n",
       "      <td>19779.0</td>\n",
       "      <td>8835.0</td>\n",
       "      <td>5980.0</td>\n",
       "      <td>10148.0</td>\n",
       "      <td>4306.0</td>\n",
       "      <td>1822.0</td>\n",
       "      <td>40.7</td>\n",
       "    </tr>\n",
       "    <tr>\n",
       "      <th>2</th>\n",
       "      <td>2</td>\n",
       "      <td>9/13/2024</td>\n",
       "      <td>1</td>\n",
       "      <td>Bruce Springsteen &amp; The E Street Band</td>\n",
       "      <td>NaN</td>\n",
       "      <td>Oriole Park at Camden Yards</td>\n",
       "      <td>Baltimore</td>\n",
       "      <td>Maryland</td>\n",
       "      <td>United States</td>\n",
       "      <td>Baltimore</td>\n",
       "      <td>...</td>\n",
       "      <td>38348.0</td>\n",
       "      <td>108037.0</td>\n",
       "      <td>77668.0</td>\n",
       "      <td>64094.0</td>\n",
       "      <td>35439.0</td>\n",
       "      <td>38588.0</td>\n",
       "      <td>52849.0</td>\n",
       "      <td>23684.0</td>\n",
       "      <td>9862.0</td>\n",
       "      <td>36.0</td>\n",
       "    </tr>\n",
       "  </tbody>\n",
       "</table>\n",
       "<p>3 rows × 49 columns</p>\n",
       "</div>"
      ],
      "text/plain": [
       "   Unnamed: 0 Event Date  Number of Shows  \\\n",
       "0           0  9/18/2024                1   \n",
       "1           1  9/14/2024                1   \n",
       "2           2  9/13/2024                1   \n",
       "\n",
       "                               Headliner                      Support  \\\n",
       "0                                  Creed  3 Doors Down, Finger Eleven   \n",
       "1                                  Creed  3 Doors Down, Finger Eleven   \n",
       "2  Bruce Springsteen & The E Street Band                          NaN   \n",
       "\n",
       "                                             Venue           City  \\\n",
       "0  Coastal Credit Union Music Park at Walnut Creek        Raleigh   \n",
       "1              The Cynthia Woods Mitchell Pavilion  The Woodlands   \n",
       "2                      Oriole Park at Camden Yards      Baltimore   \n",
       "\n",
       "            State        Country                         Market  ...  \\\n",
       "0  North Carolina  United States  Raleigh-Durham (Fayetteville)  ...   \n",
       "1           Texas  United States                        Houston  ...   \n",
       "2        Maryland  United States                      Baltimore  ...   \n",
       "\n",
       "  20 to 24 years population 25 to 34 years population  \\\n",
       "0                   39470.0                   86563.0   \n",
       "1                    5185.0                   11317.0   \n",
       "2                   38348.0                  108037.0   \n",
       "\n",
       "  35 to 44 years population 45 to 54 years population  \\\n",
       "0                   67091.0                   60170.0   \n",
       "1                   15998.0                   19779.0   \n",
       "2                   77668.0                   64094.0   \n",
       "\n",
       "  55 to 59 years population 60 to 64 years population  \\\n",
       "0                   26831.0                   22056.0   \n",
       "1                    8835.0                    5980.0   \n",
       "2                   35439.0                   38588.0   \n",
       "\n",
       "  65 to 74 years population 75 to 84 years population  \\\n",
       "0                   32176.0                   14987.0   \n",
       "1                   10148.0                    4306.0   \n",
       "2                   52849.0                   23684.0   \n",
       "\n",
       "  85 years and over population Median age  \n",
       "0                       6107.0       34.6  \n",
       "1                       1822.0       40.7  \n",
       "2                       9862.0       36.0  \n",
       "\n",
       "[3 rows x 49 columns]"
      ]
     },
     "execution_count": 57,
     "metadata": {},
     "output_type": "execute_result"
    }
   ],
   "source": [
    "# Load data\n",
    "data = pd.read_csv('POP_49824rows_DEC2015_sp_yt_usdemogr.csv') \n",
    "data.head(3)"
   ]
  },
  {
   "cell_type": "code",
   "execution_count": 58,
   "id": "0e599466",
   "metadata": {},
   "outputs": [
    {
     "name": "stdout",
     "output_type": "stream",
     "text": [
      "Column: Unnamed: 0, Data Type: int64\n",
      "Column: Event Date, Data Type: object\n",
      "Column: Number of Shows, Data Type: int64\n",
      "Column: Headliner, Data Type: object\n",
      "Column: Support, Data Type: object\n",
      "Column: Venue, Data Type: object\n",
      "Column: City, Data Type: object\n",
      "Column: State, Data Type: object\n",
      "Column: Country, Data Type: object\n",
      "Column: Market, Data Type: object\n",
      "Column: Company Type, Data Type: object\n",
      "Column: Currency, Data Type: object\n",
      "Column: Promoter, Data Type: object\n",
      "Column: Genre, Data Type: object\n",
      "Column: Avg. Tickets Sold, Data Type: object\n",
      "Column: Avg. Gross USD, Data Type: object\n",
      "Column: Avg. Event Capacity, Data Type: object\n",
      "Column: Avg. Capacity Sold, Data Type: object\n",
      "Column: Ticket Price Min USD, Data Type: object\n",
      "Column: Ticket Price Max USD, Data Type: object\n",
      "Column: Ticket Price Avg. USD, Data Type: object\n",
      "Column: 字段21, Data Type: float64\n",
      "Column: sp artist_name, Data Type: object\n",
      "Column: sp artist_genre, Data Type: object\n",
      "Column: sp followers, Data Type: float64\n",
      "Column: sp popularity, Data Type: float64\n",
      "Column: yt name, Data Type: object\n",
      "Column: yt Channel ID, Data Type: object\n",
      "Column: yt Title, Data Type: object\n",
      "Column: yt Description, Data Type: object\n",
      "Column: yt Published At, Data Type: object\n",
      "Column: yt View Count, Data Type: float64\n",
      "Column: yt Subscriber Count, Data Type: float64\n",
      "Column: yt Video Count, Data Type: float64\n",
      "Column: Total population, Data Type: float64\n",
      "Column: Under 5 years population, Data Type: float64\n",
      "Column: 5 to 9 years population, Data Type: float64\n",
      "Column: 10 to 14 years population, Data Type: float64\n",
      "Column: 15 to 19 years population, Data Type: float64\n",
      "Column: 20 to 24 years population, Data Type: float64\n",
      "Column: 25 to 34 years population, Data Type: float64\n",
      "Column: 35 to 44 years population, Data Type: float64\n",
      "Column: 45 to 54 years population, Data Type: float64\n",
      "Column: 55 to 59 years population, Data Type: float64\n",
      "Column: 60 to 64 years population, Data Type: float64\n",
      "Column: 65 to 74 years population, Data Type: float64\n",
      "Column: 75 to 84 years population, Data Type: float64\n",
      "Column: 85 years and over population, Data Type: float64\n",
      "Column: Median age, Data Type: object\n"
     ]
    }
   ],
   "source": [
    "for column in data.columns:\n",
    "    print(f\"Column: {column}, Data Type: {data[column].dtype}\")"
   ]
  },
  {
   "cell_type": "markdown",
   "id": "0dc2fc28",
   "metadata": {},
   "source": [
    "##  Step 2: Data processing"
   ]
  },
  {
   "cell_type": "code",
   "execution_count": 59,
   "id": "13394c71",
   "metadata": {},
   "outputs": [],
   "source": [
    "# drop column 字段21\n",
    "data = data.drop(columns=[\"字段21\"])\n",
    "\n",
    "# Check if 'Event Date' column contains valid dates\n",
    "data['Event Date'] = pd.to_datetime(data['Event Date'], errors='coerce')\n",
    "\n",
    "# Drop rows where 'Event Date' is null (indicating invalid date)\n",
    "data = data.dropna(subset=['Event Date'])\n",
    "\n",
    "# Reset index after dropping rows\n",
    "data = data.reset_index(drop=True)\n",
    "\n",
    "# Remove commas,dollar sign and convert to float\n",
    "columns_with_commas = ['Avg. Event Capacity', 'Ticket Price Max USD','Ticket Price Min USD','Ticket Price Avg. USD','Avg. Gross USD','Avg. Tickets Sold']\n",
    "for column in columns_with_commas:\n",
    "    data[column] = data[column].str.replace(r'[$,]', '', regex=True).astype(float)\n",
    "\n",
    "# Convert all object-type columns to string\n",
    "data = data.astype({col: 'string' for col in data.select_dtypes(include='object').columns})\n",
    "\n",
    "    "
   ]
  },
  {
   "cell_type": "code",
   "execution_count": 60,
   "id": "96397b8e",
   "metadata": {},
   "outputs": [],
   "source": [
    "# Extra Features: Location\n",
    "# create a Location column using 'City', 'State','Country'\n",
    "# not using state here since lots of country do not have state\n",
    "data['Location'] = data['City'] + '_' + data['Country']\n",
    "\n",
    "# Extra Features: seasonality\n",
    "# extract month from Event Date to represent seasonality\n",
    "data['Event Date'] = pd.to_datetime(data['Event Date'], format='%m/%d/%Y')\n",
    "data['Month'] = data['Event Date'].dt.month\n",
    "\n",
    "\n",
    "# Extra Features: day of the week\n",
    "# Convert the date column to datetime format if it's not already in datetime format\n",
    "data['Event Date'] = pd.to_datetime(data['Event Date'])\n",
    "# Extract the day of the week (0 = Monday, 1 = Tuesday, ..., 6 = Sunday)\n",
    "data['day_of_week'] = data['Event Date'].dt.dayofweek\n",
    "\n",
    "# Extra feature: Holiday or Not\n",
    "def is_holiday(date):\n",
    "    us_holidays = holidays.US()\n",
    "    return date in us_holidays\n",
    "data['is_holiday'] = data['Event Date'].apply(is_holiday)"
   ]
  },
  {
   "cell_type": "code",
   "execution_count": 61,
   "id": "3a61378b",
   "metadata": {},
   "outputs": [],
   "source": [
    "# Reset index after dropping rows\n",
    "data = data.reset_index(drop=True)"
   ]
  },
  {
   "cell_type": "code",
   "execution_count": 62,
   "id": "cbaaf221",
   "metadata": {},
   "outputs": [
    {
     "name": "stdout",
     "output_type": "stream",
     "text": [
      "                              Percentage       Data Type\n",
      "Column                                                  \n",
      "Unnamed: 0                    100.000000           int64\n",
      "Event Date                    100.000000  datetime64[ns]\n",
      "Number of Shows               100.000000           int64\n",
      "Headliner                     100.000000          string\n",
      "Support                        48.646901          string\n",
      "Venue                          99.987685          string\n",
      "City                          100.000000          string\n",
      "State                          99.993843          string\n",
      "Country                       100.000000          string\n",
      "Market                         98.192790          string\n",
      "Company Type                   99.978449          string\n",
      "Currency                      100.000000          string\n",
      "Promoter                       99.990764          string\n",
      "Genre                         100.000000          string\n",
      "Avg. Tickets Sold             100.000000         float64\n",
      "Avg. Gross USD                100.000000         float64\n",
      "Avg. Event Capacity           100.000000         float64\n",
      "Avg. Capacity Sold            100.000000          string\n",
      "Ticket Price Min USD          100.000000         float64\n",
      "Ticket Price Max USD          100.000000         float64\n",
      "Ticket Price Avg. USD          99.996921         float64\n",
      "sp artist_name                 99.876851          string\n",
      "sp artist_genre                99.876851          string\n",
      "sp followers                   99.876851         float64\n",
      "sp popularity                  99.876851         float64\n",
      "yt name                        98.786983          string\n",
      "yt Channel ID                  98.786983          string\n",
      "yt Title                       98.786983          string\n",
      "yt Description                 76.263046          string\n",
      "yt Published At                98.786983          string\n",
      "yt View Count                  98.786983         float64\n",
      "yt Subscriber Count            98.786983         float64\n",
      "yt Video Count                 98.786983         float64\n",
      "Total population               99.993843         float64\n",
      "Under 5 years population       99.993843         float64\n",
      "5 to 9 years population        99.993843         float64\n",
      "10 to 14 years population      99.993843         float64\n",
      "15 to 19 years population      99.993843         float64\n",
      "20 to 24 years population      99.993843         float64\n",
      "25 to 34 years population      99.993843         float64\n",
      "35 to 44 years population      99.993843         float64\n",
      "45 to 54 years population      99.993843         float64\n",
      "55 to 59 years population      99.993843         float64\n",
      "60 to 64 years population      99.993843         float64\n",
      "65 to 74 years population      99.993843         float64\n",
      "75 to 84 years population      99.993843         float64\n",
      "85 years and over population   99.993843         float64\n",
      "Median age                     99.993843          string\n",
      "Location                      100.000000          string\n",
      "Month                         100.000000           int64\n",
      "day_of_week                   100.000000           int64\n",
      "is_holiday                    100.000000            bool\n"
     ]
    }
   ],
   "source": [
    "# check the avaiablity of each features\n",
    "# Calculate the percentage of non-null values for each column\n",
    "percentages = {}\n",
    "data_types = {}\n",
    "for column in data.columns:\n",
    "    percentage = (data[column].count() / len(data)) * 100\n",
    "    percentages[column] = percentage\n",
    "    # Get the data type of each column\n",
    "    data_types[column] = data[column].dtype\n",
    "\n",
    "# Convert the dictionaries to a DataFrame\n",
    "result_df = pd.DataFrame({\n",
    "    'Percentage': percentages,\n",
    "    'Data Type': data_types\n",
    "})\n",
    "\n",
    "# Set the index name\n",
    "result_df.index.name = 'Column'\n",
    "\n",
    "print(result_df)"
   ]
  },
  {
   "cell_type": "code",
   "execution_count": 68,
   "id": "ea75e219",
   "metadata": {},
   "outputs": [],
   "source": [
    "# Drop rows where 'sp followers' is null (indicating no spotify page is found)\n",
    "data = data.dropna(subset=['sp followers'])\n",
    "# Drop rows where 'yt Subscriber Count' is null (indicating no youtube channel is found)\n",
    "data = data.dropna(subset=['yt Subscriber Count'])\n",
    "# Drop rows where 'yt Subscriber Count' is null (indicating no youtube channel is found)\n",
    "# Remove any hyphens\n",
    "data['Median age'] = data['Median age'].str.replace(r'[-]', '', regex=True)\n",
    "# Replace empty strings with NaN\n",
    "data['Median age'].replace('', np.nan, inplace=True)\n",
    "# Drop rows where 'Median age' is NaN\n",
    "data = data.dropna(subset=['Median age'])\n",
    "# Convert 'Median age' to float\n",
    "data['Median age'] = data['Median age'].astype(float)"
   ]
  },
  {
   "cell_type": "code",
   "execution_count": 71,
   "id": "6b682cf8",
   "metadata": {},
   "outputs": [
    {
     "name": "stdout",
     "output_type": "stream",
     "text": [
      "Distribution Summary: count    3.204700e+04\n",
      "mean     2.016874e+05\n",
      "std      6.182607e+05\n",
      "min      1.125000e+01\n",
      "25%      5.613500e+03\n",
      "50%      2.266500e+04\n",
      "75%      1.143381e+05\n",
      "max      1.349418e+07\n",
      "Name: Avg. Gross USD, dtype: float64\n",
      "Distribution Summary: count    32046.000000\n",
      "mean        42.456990\n",
      "std         37.160309\n",
      "min          0.090000\n",
      "25%         20.000000\n",
      "50%         30.835000\n",
      "75%         53.490000\n",
      "max        524.950000\n",
      "Name: Ticket Price Avg. USD, dtype: float64\n"
     ]
    }
   ],
   "source": [
    "# check distribution\n",
    "distribution_summary = data['Avg. Gross USD'].describe()\n",
    "print(\"Distribution Summary:\",distribution_summary)\n",
    "distribution_summary = data['Ticket Price Avg. USD'].describe()\n",
    "print(\"Distribution Summary:\",distribution_summary)"
   ]
  },
  {
   "cell_type": "code",
   "execution_count": 72,
   "id": "df963224",
   "metadata": {},
   "outputs": [
    {
     "data": {
      "image/png": "[encoded data removed]",
      "text/plain": [
       "<Figure size 720x432 with 1 Axes>"
      ]
     },
     "metadata": {
      "needs_background": "light"
     },
     "output_type": "display_data"
    },
    {
     "data": {
      "image/png": "[encoded data removed]",
      "text/plain": [
       "<Figure size 720x432 with 1 Axes>"
      ]
     },
     "metadata": {
      "needs_background": "light"
     },
     "output_type": "display_data"
    }
   ],
   "source": [
    "# Plot the distribution using a histogram\n",
    "plt.figure(figsize=(10, 6))\n",
    "sns.histplot(data=data, x='Avg. Gross USD', kde=True)\n",
    "plt.title('Distribution of Avg. Gross USD')\n",
    "plt.xlabel('Avg. Gross USD')\n",
    "plt.ylabel('Frequency')\n",
    "plt.show()\n",
    "\n",
    "# Identify outliers using a box plot\n",
    "plt.figure(figsize=(10, 6))\n",
    "sns.boxplot(data=data, x='Avg. Gross USD')\n",
    "plt.title('Boxplot of Avg. Gross USD')\n",
    "plt.xlabel('Avg. Gross USD')\n",
    "plt.show()"
   ]
  },
  {
   "cell_type": "code",
   "execution_count": 73,
   "id": "19766352",
   "metadata": {},
   "outputs": [
    {
     "data": {
      "image/png": "[encoded data removed]",
      "text/plain": [
       "<Figure size 720x432 with 1 Axes>"
      ]
     },
     "metadata": {
      "needs_background": "light"
     },
     "output_type": "display_data"
    }
   ],
   "source": [
    "# Define the lower and upper bounds\n",
    "Q1 = data['Avg. Gross USD'].quantile(0.25)\n",
    "Q3 = data['Avg. Gross USD'].quantile(0.75)\n",
    "IQR = Q3 - Q1\n",
    "lower_bound = Q1 - 1.5 * IQR\n",
    "upper_bound = Q3 + 1.5 * IQR\n",
    "\n",
    "# Filter the DataFrame to remove outliers\n",
    "data = data[(data['Avg. Gross USD'] >= lower_bound) & (data['Avg. Gross USD'] <= upper_bound)]\n",
    "\n",
    "# Plot the distribution without outliers\n",
    "plt.figure(figsize=(10, 6))\n",
    "# sns.histplot(data=data_no_outliers, x='Avg. Gross USD', kde=True)\n",
    "sns.histplot(data=data, x='Avg. Gross USD', kde=True)\n",
    "plt.title('Distribution of Avg. Gross USD (Without Outliers)')\n",
    "plt.xlabel('Avg. Gross USD')\n",
    "plt.ylabel('Frequency')\n",
    "plt.show()"
   ]
  },
  {
   "cell_type": "code",
   "execution_count": 74,
   "id": "db485880",
   "metadata": {},
   "outputs": [],
   "source": [
    "# Convert categorical 'day_of_week' variable using one-hot encoding\n",
    "data_encoded = pd.get_dummies(data, columns=['day_of_week'], drop_first=True)"
   ]
  },
  {
   "cell_type": "code",
   "execution_count": 75,
   "id": "66f88add",
   "metadata": {},
   "outputs": [],
   "source": [
    "# output the data into a csv file\n",
    "data_encoded.to_csv('cleaned_data_allpop.csv', index=False)"
   ]
  },
  {
   "cell_type": "markdown",
   "id": "a1f32af6",
   "metadata": {},
   "source": [
    "# Step 3: Model Training"
   ]
  },
  {
   "cell_type": "code",
   "execution_count": 114,
   "id": "9265d635",
   "metadata": {},
   "outputs": [
    {
     "data": {
      "text/html": [
       "<div>\n",
       "<style scoped>\n",
       "    .dataframe tbody tr th:only-of-type {\n",
       "        vertical-align: middle;\n",
       "    }\n",
       "\n",
       "    .dataframe tbody tr th {\n",
       "        vertical-align: top;\n",
       "    }\n",
       "\n",
       "    .dataframe thead th {\n",
       "        text-align: right;\n",
       "    }\n",
       "</style>\n",
       "<table border=\"1\" class=\"dataframe\">\n",
       "  <thead>\n",
       "    <tr style=\"text-align: right;\">\n",
       "      <th></th>\n",
       "      <th>Unnamed: 0</th>\n",
       "      <th>Event Date</th>\n",
       "      <th>Number of Shows</th>\n",
       "      <th>Headliner</th>\n",
       "      <th>Support</th>\n",
       "      <th>Venue</th>\n",
       "      <th>City</th>\n",
       "      <th>State</th>\n",
       "      <th>Country</th>\n",
       "      <th>Market</th>\n",
       "      <th>...</th>\n",
       "      <th>Median age</th>\n",
       "      <th>Location</th>\n",
       "      <th>Month</th>\n",
       "      <th>is_holiday</th>\n",
       "      <th>day_of_week_1</th>\n",
       "      <th>day_of_week_2</th>\n",
       "      <th>day_of_week_3</th>\n",
       "      <th>day_of_week_4</th>\n",
       "      <th>day_of_week_5</th>\n",
       "      <th>day_of_week_6</th>\n",
       "    </tr>\n",
       "  </thead>\n",
       "  <tbody>\n",
       "    <tr>\n",
       "      <th>0</th>\n",
       "      <td>8</td>\n",
       "      <td>2024-09-10</td>\n",
       "      <td>1</td>\n",
       "      <td>Jerome Collins</td>\n",
       "      <td>NaN</td>\n",
       "      <td>City Winery Nashville</td>\n",
       "      <td>Nashville-Davidson metropolitan government (ba...</td>\n",
       "      <td>Tennessee</td>\n",
       "      <td>United States</td>\n",
       "      <td>Nashville</td>\n",
       "      <td>...</td>\n",
       "      <td>34.6</td>\n",
       "      <td>Nashville-Davidson metropolitan government (ba...</td>\n",
       "      <td>9</td>\n",
       "      <td>False</td>\n",
       "      <td>1</td>\n",
       "      <td>0</td>\n",
       "      <td>0</td>\n",
       "      <td>0</td>\n",
       "      <td>0</td>\n",
       "      <td>0</td>\n",
       "    </tr>\n",
       "    <tr>\n",
       "      <th>1</th>\n",
       "      <td>9</td>\n",
       "      <td>2024-09-10</td>\n",
       "      <td>1</td>\n",
       "      <td>Meghan Trainor</td>\n",
       "      <td>Paul Russell</td>\n",
       "      <td>FirstBank Amphitheater</td>\n",
       "      <td>Franklin</td>\n",
       "      <td>Tennessee</td>\n",
       "      <td>United States</td>\n",
       "      <td>Nashville</td>\n",
       "      <td>...</td>\n",
       "      <td>37.8</td>\n",
       "      <td>Franklin_United States</td>\n",
       "      <td>9</td>\n",
       "      <td>False</td>\n",
       "      <td>1</td>\n",
       "      <td>0</td>\n",
       "      <td>0</td>\n",
       "      <td>0</td>\n",
       "      <td>0</td>\n",
       "      <td>0</td>\n",
       "    </tr>\n",
       "    <tr>\n",
       "      <th>2</th>\n",
       "      <td>11</td>\n",
       "      <td>2024-09-08</td>\n",
       "      <td>1</td>\n",
       "      <td>Paul Weller</td>\n",
       "      <td>NaN</td>\n",
       "      <td>Citizens House of Blues Boston</td>\n",
       "      <td>Boston</td>\n",
       "      <td>Massachusetts</td>\n",
       "      <td>United States</td>\n",
       "      <td>Boston (Manchester)</td>\n",
       "      <td>...</td>\n",
       "      <td>32.9</td>\n",
       "      <td>Boston_United States</td>\n",
       "      <td>9</td>\n",
       "      <td>False</td>\n",
       "      <td>0</td>\n",
       "      <td>0</td>\n",
       "      <td>0</td>\n",
       "      <td>0</td>\n",
       "      <td>0</td>\n",
       "      <td>1</td>\n",
       "    </tr>\n",
       "  </tbody>\n",
       "</table>\n",
       "<p>3 rows × 57 columns</p>\n",
       "</div>"
      ],
      "text/plain": [
       "   Unnamed: 0  Event Date  Number of Shows       Headliner       Support  \\\n",
       "0           8  2024-09-10                1  Jerome Collins           NaN   \n",
       "1           9  2024-09-10                1  Meghan Trainor  Paul Russell   \n",
       "2          11  2024-09-08                1     Paul Weller           NaN   \n",
       "\n",
       "                            Venue  \\\n",
       "0           City Winery Nashville   \n",
       "1          FirstBank Amphitheater   \n",
       "2  Citizens House of Blues Boston   \n",
       "\n",
       "                                                City          State  \\\n",
       "0  Nashville-Davidson metropolitan government (ba...      Tennessee   \n",
       "1                                           Franklin      Tennessee   \n",
       "2                                             Boston  Massachusetts   \n",
       "\n",
       "         Country               Market  ... Median age  \\\n",
       "0  United States            Nashville  ...       34.6   \n",
       "1  United States            Nashville  ...       37.8   \n",
       "2  United States  Boston (Manchester)  ...       32.9   \n",
       "\n",
       "                                            Location Month is_holiday  \\\n",
       "0  Nashville-Davidson metropolitan government (ba...     9      False   \n",
       "1                             Franklin_United States     9      False   \n",
       "2                               Boston_United States     9      False   \n",
       "\n",
       "   day_of_week_1  day_of_week_2  day_of_week_3 day_of_week_4  day_of_week_5  \\\n",
       "0              1              0              0             0              0   \n",
       "1              1              0              0             0              0   \n",
       "2              0              0              0             0              0   \n",
       "\n",
       "   day_of_week_6  \n",
       "0              0  \n",
       "1              0  \n",
       "2              1  \n",
       "\n",
       "[3 rows x 57 columns]"
      ]
     },
     "execution_count": 114,
     "metadata": {},
     "output_type": "execute_result"
    }
   ],
   "source": [
    "# Load data\n",
    "data = pd.read_csv('cleaned_data_allpop.csv') \n",
    "data.head(3)"
   ]
  },
  {
   "cell_type": "code",
   "execution_count": 115,
   "id": "ff128baa",
   "metadata": {},
   "outputs": [],
   "source": [
    "# Split data into features (X) and target variable (y)\n",
    "X = data.drop('Avg. Gross USD', axis=1) \n",
    "y = data['Avg. Gross USD']"
   ]
  },
  {
   "cell_type": "code",
   "execution_count": 116,
   "id": "304d475c",
   "metadata": {},
   "outputs": [
    {
     "data": {
      "image/png": "[encoded data removed]",
      "text/plain": [
       "<Figure size 720x432 with 1 Axes>"
      ]
     },
     "metadata": {
      "needs_background": "light"
     },
     "output_type": "display_data"
    }
   ],
   "source": [
    "# Plotting Feature Correlation (Before Model Training)\n",
    "# Calculate correlations with the target variable\n",
    "correlations = X.corrwith(y)\n",
    "\n",
    "# Plot the correlation with the target\n",
    "plt.figure(figsize=(10, 6))\n",
    "correlations.sort_values().plot(kind='barh')\n",
    "plt.title('Feature Correlation with Target (Before Training)')\n",
    "plt.xlabel('Correlation Coefficient')\n",
    "plt.show()"
   ]
  },
  {
   "cell_type": "code",
   "execution_count": 120,
   "id": "67cd9fcf",
   "metadata": {},
   "outputs": [],
   "source": [
    "selected_columns=['Avg. Event Capacity'\n",
    "                  # ,'yt Subscriber Count'\n",
    "                  # ,'yt View Count'\n",
    "                  #,'sp followers'\n",
    "                  ,'sp popularity'\n",
    "                  , 'Ticket Price Min USD'\n",
    "                  #, 'Ticket Price Max USD'\n",
    "                  ,'Median age'\n",
    "                 ]\n",
    "X=X[selected_columns]"
   ]
  },
  {
   "cell_type": "code",
   "execution_count": 121,
   "id": "0500157f",
   "metadata": {},
   "outputs": [
    {
     "name": "stdout",
     "output_type": "stream",
     "text": [
      "Cross-Validation RMSE for each fold: [37711.16161513 46521.57768628 86204.95450577 32745.79224139\n",
      " 35651.08392816 32385.15029765 42860.14896409 43905.58333655\n",
      " 31629.96881081 27221.5658796 ]\n",
      "Average Cross-Validation RMSE: 41683.69872654219\n",
      "Cross-Validation R^2 for each fold: [ 0.5643458   0.56545661 -1.28118467  0.6283542   0.55622633  0.64228019\n",
      "  0.60885798  0.49297215  0.64523584  0.63118069]\n",
      "Average Cross-Validation R^2: 0.405372511775144\n",
      "Full Dataset RMSE: 37846.389374415354\n",
      "Full Dataset R^2: 0.5796255434866953\n"
     ]
    }
   ],
   "source": [
    "# Initialize the Linear Regression model\n",
    "model = LinearRegression()\n",
    "\n",
    "# Define scoring functions for RMSE and R^2\n",
    "rmse_scorer = make_scorer(mean_squared_error, squared=False)  # RMSE\n",
    "r2_scorer = make_scorer(r2_score)  # R^2\n",
    "\n",
    "# Perform cross-validation on the entire dataset for RMSE\n",
    "cv_rmse_scores = cross_val_score(model, X, y, cv=10, scoring=rmse_scorer)\n",
    "average_rmse = np.mean(cv_rmse_scores)\n",
    "\n",
    "# Perform cross-validation on the entire dataset for R^2\n",
    "cv_r2_scores = cross_val_score(model, X, y, cv=10, scoring=r2_scorer)\n",
    "average_r2 = np.mean(cv_r2_scores)\n",
    "\n",
    "# Output cross-validation results\n",
    "print(\"Cross-Validation RMSE for each fold:\", cv_rmse_scores)\n",
    "print(\"Average Cross-Validation RMSE:\", average_rmse)\n",
    "print(\"Cross-Validation R^2 for each fold:\", cv_r2_scores)\n",
    "print(\"Average Cross-Validation R^2:\", average_r2)\n",
    "\n",
    "# Train the model on the full dataset\n",
    "model.fit(X, y)\n",
    "\n",
    "# Predict on the full dataset\n",
    "y_pred = model.predict(X)\n",
    "\n",
    "# Calculate RMSE and R^2 on the full dataset\n",
    "full_rmse = mean_squared_error(y, y_pred, squared=False)\n",
    "full_r2 = r2_score(y, y_pred)\n",
    "\n",
    "print(\"Full Dataset RMSE:\", full_rmse)\n",
    "print(\"Full Dataset R^2:\", full_r2)"
   ]
  },
  {
   "cell_type": "code",
   "execution_count": 122,
   "id": "70fd9572",
   "metadata": {},
   "outputs": [
    {
     "data": {
      "image/png": "[encoded data removed]",
      "text/plain": [
       "<Figure size 720x432 with 1 Axes>"
      ]
     },
     "metadata": {
      "needs_background": "light"
     },
     "output_type": "display_data"
    }
   ],
   "source": [
    "# Plot feature importance\n",
    "\n",
    "# Get the coefficients\n",
    "coefficients = pd.Series(model.coef_, index=X.columns)\n",
    "\n",
    "# Plot feature importance based on model coefficients\n",
    "plt.figure(figsize=(10, 6))\n",
    "coefficients.sort_values().plot(kind='barh', color='skyblue')\n",
    "plt.title('Feature Importance Based on Model Coefficients (After Training)')\n",
    "plt.xlabel('Coefficient Value')\n",
    "plt.show()"
   ]
  },
  {
   "cell_type": "code",
   "execution_count": 127,
   "id": "f6f64f5a",
   "metadata": {},
   "outputs": [
    {
     "name": "stdout",
     "output_type": "stream",
     "text": [
      "Ridge Cross-Validation RMSE: [37711.16160385 46521.57789673 86204.94419963 32745.79232038\n",
      " 35651.08391083 32385.1503187  42860.14921645 43905.58369777\n",
      " 31629.96848815 27221.5656955 ]\n",
      "Ridge Average RMSE: 41683.69773479996\n",
      "Ridge Cross-Validation R^2: [ 0.5643458   0.56545661 -1.28118413  0.62835419  0.55622633  0.64228019\n",
      "  0.60885798  0.49297214  0.64523585  0.63118069]\n",
      "Ridge Average R^2: 0.4053725656980419\n",
      "Ridge Full Dataset RMSE: 37846.389374415536\n",
      "Ridge Full Dataset R^2: 0.5796255434866913\n"
     ]
    },
    {
     "data": {
      "image/png": "[encoded data removed]",
      "text/plain": [
       "<Figure size 432x288 with 1 Axes>"
      ]
     },
     "metadata": {
      "needs_background": "light"
     },
     "output_type": "display_data"
    }
   ],
   "source": [
    "# Ridge Regression\n",
    "from sklearn.linear_model import Ridge\n",
    "# Initialize Ridge model\n",
    "ridge_model = Ridge(alpha=0.8)  # You can adjust alpha as needed\n",
    "\n",
    "# Define scoring functions for RMSE and R^2\n",
    "rmse_scorer = make_scorer(mean_squared_error, squared=False)  # RMSE\n",
    "r2_scorer = make_scorer(r2_score)  # R^2\n",
    "\n",
    "# Perform cross-validation for Ridge model\n",
    "cv_rmse_ridge = cross_val_score(ridge_model, X, y, cv=10, scoring=rmse_scorer)\n",
    "cv_r2_ridge = cross_val_score(ridge_model, X, y, cv=10, scoring=r2_scorer)\n",
    "\n",
    "# Train the Ridge model on the full dataset\n",
    "ridge_model.fit(X, y)\n",
    "ridge_coef = ridge_model.coef_\n",
    "\n",
    "# Output cross-validation results for Ridge\n",
    "print(\"Ridge Cross-Validation RMSE:\", cv_rmse_ridge)\n",
    "print(\"Ridge Average RMSE:\", np.mean(cv_rmse_ridge))\n",
    "print(\"Ridge Cross-Validation R^2:\", cv_r2_ridge)\n",
    "print(\"Ridge Average R^2:\", np.mean(cv_r2_ridge))\n",
    "\n",
    "# Calculate RMSE and R^2 on the full dataset for Ridge\n",
    "ridge_full_rmse = mean_squared_error(y, ridge_model.predict(X), squared=False)\n",
    "ridge_full_r2 = r2_score(y, ridge_model.predict(X))\n",
    "print(\"Ridge Full Dataset RMSE:\", ridge_full_rmse)\n",
    "print(\"Ridge Full Dataset R^2:\", ridge_full_r2)\n",
    "\n",
    "# Plot feature importance for Ridge\n",
    "feature_names = X.columns\n",
    "plt.figure(figsize=(6, 4))\n",
    "plt.barh(feature_names, ridge_coef, color='skyblue')\n",
    "plt.title('Feature Importance - Ridge Regression')\n",
    "plt.xlabel('Coefficient Value')\n",
    "plt.ylabel('Features')\n",
    "plt.show()"
   ]
  },
  {
   "cell_type": "code",
   "execution_count": 126,
   "id": "e8dd3b47",
   "metadata": {},
   "outputs": [
    {
     "name": "stdout",
     "output_type": "stream",
     "text": [
      "Lasso Cross-Validation RMSE: [37711.16151757 46521.5789062  86204.94946089 32745.79260546\n",
      " 35651.08377253 32385.15033537 42860.15026762 43905.58523788\n",
      " 31629.96714241 27221.56483966]\n",
      "Lasso Average RMSE: 41683.6984085595\n",
      "Lasso Cross-Validation R^2: [ 0.5643458   0.56545659 -1.2811844   0.62835419  0.55622633  0.64228019\n",
      "  0.60885796  0.49297211  0.64523588  0.63118071]\n",
      "Lasso Average R^2: 0.4053725356891289\n",
      "Lasso Full Dataset RMSE: 37846.38937442246\n",
      "Lasso Full Dataset R^2: 0.5796255434865374\n"
     ]
    },
    {
     "data": {
      "image/png": "[encoded data removed]",
      "text/plain": [
       "<Figure size 432x288 with 1 Axes>"
      ]
     },
     "metadata": {
      "needs_background": "light"
     },
     "output_type": "display_data"
    }
   ],
   "source": [
    "# Lasso Regression\n",
    "from sklearn.linear_model import Lasso\n",
    "\n",
    "# Initialize Lasso model\n",
    "lasso_model = Lasso(alpha=0.1)  # You can adjust alpha as needed\n",
    "\n",
    "# Perform cross-validation for Lasso model\n",
    "cv_rmse_lasso = cross_val_score(lasso_model, X, y, cv=10, scoring=rmse_scorer)\n",
    "cv_r2_lasso = cross_val_score(lasso_model, X, y, cv=10, scoring=r2_scorer)\n",
    "\n",
    "# Train the Lasso model on the full dataset\n",
    "lasso_model.fit(X, y)\n",
    "lasso_coef = lasso_model.coef_\n",
    "\n",
    "# Output cross-validation results for Lasso\n",
    "print(\"Lasso Cross-Validation RMSE:\", cv_rmse_lasso)\n",
    "print(\"Lasso Average RMSE:\", np.mean(cv_rmse_lasso))\n",
    "print(\"Lasso Cross-Validation R^2:\", cv_r2_lasso)\n",
    "print(\"Lasso Average R^2:\", np.mean(cv_r2_lasso))\n",
    "\n",
    "# Calculate RMSE and R^2 on the full dataset for Lasso\n",
    "lasso_full_rmse = mean_squared_error(y, lasso_model.predict(X), squared=False)\n",
    "lasso_full_r2 = r2_score(y, lasso_model.predict(X))\n",
    "print(\"Lasso Full Dataset RMSE:\", lasso_full_rmse)\n",
    "print(\"Lasso Full Dataset R^2:\", lasso_full_r2)\n",
    "\n",
    "# Plot feature importance for Lasso\n",
    "plt.figure(figsize=(6, 4))\n",
    "plt.barh(feature_names, lasso_coef, color='salmon')\n",
    "plt.title('Feature Importance - Lasso Regression')\n",
    "plt.xlabel('Coefficient Value')\n",
    "plt.ylabel('Features')\n",
    "plt.show()"
   ]
  },
  {
   "cell_type": "code",
   "execution_count": null,
   "id": "a2ace520",
   "metadata": {},
   "outputs": [],
   "source": []
  }
 ],
 "metadata": {
  "kernelspec": {
   "display_name": "Python 3",
   "language": "python",
   "name": "python3"
  },
  "language_info": {
   "codemirror_mode": {
    "name": "ipython",
    "version": 3
   },
   "file_extension": ".py",
   "mimetype": "text/x-python",
   "name": "python",
   "nbconvert_exporter": "python",
   "pygments_lexer": "ipython3",
   "version": "3.8.8"
  }
 },
 "nbformat": 4,
 "nbformat_minor": 5
}
