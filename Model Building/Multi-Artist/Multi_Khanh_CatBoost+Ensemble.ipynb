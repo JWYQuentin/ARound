{
  "nbformat": 4,
  "nbformat_minor": 0,
  "metadata": {
    "colab": {
      "provenance": []
    },
    "kernelspec": {
      "name": "python3",
      "display_name": "Python 3"
    },
    "language_info": {
      "name": "python"
    }
  },
  "cells": [
    {
      "cell_type": "markdown",
      "source": [
        "##### Install CatBoost"
      ],
      "metadata": {
        "id": "nJdY1AFfgF_q"
      }
    },
    {
      "cell_type": "code",
      "source": [
        "!pip install catboost"
      ],
      "metadata": {
        "colab": {
          "base_uri": "https://localhost:8080/"
        },
        "id": "z1cJ5TieUQOk",
        "outputId": "910f0ae9-d5aa-4c2f-bc91-c6fafbc20d08"
      },
      "execution_count": null,
      "outputs": [
        {
          "output_type": "stream",
          "name": "stdout",
          "text": [
            "Collecting catboost\n",
            "  Downloading catboost-1.2.8-cp311-cp311-manylinux2014_x86_64.whl.metadata (1.2 kB)\n",
            "Requirement already satisfied: graphviz in /usr/local/lib/python3.11/dist-packages (from catboost) (0.20.3)\n",
            "Requirement already satisfied: matplotlib in /usr/local/lib/python3.11/dist-packages (from catboost) (3.10.0)\n",
            "Requirement already satisfied: numpy<3.0,>=1.16.0 in /usr/local/lib/python3.11/dist-packages (from catboost) (2.0.2)\n",
            "Requirement already satisfied: pandas>=0.24 in /usr/local/lib/python3.11/dist-packages (from catboost) (2.2.2)\n",
            "Requirement already satisfied: scipy in /usr/local/lib/python3.11/dist-packages (from catboost) (1.15.2)\n",
            "Requirement already satisfied: plotly in /usr/local/lib/python3.11/dist-packages (from catboost) (5.24.1)\n",
            "Requirement already satisfied: six in /usr/local/lib/python3.11/dist-packages (from catboost) (1.17.0)\n",
            "Requirement already satisfied: python-dateutil>=2.8.2 in /usr/local/lib/python3.11/dist-packages (from pandas>=0.24->catboost) (2.9.0.post0)\n",
            "Requirement already satisfied: pytz>=2020.1 in /usr/local/lib/python3.11/dist-packages (from pandas>=0.24->catboost) (2025.2)\n",
            "Requirement already satisfied: tzdata>=2022.7 in /usr/local/lib/python3.11/dist-packages (from pandas>=0.24->catboost) (2025.2)\n",
            "Requirement already satisfied: contourpy>=1.0.1 in /usr/local/lib/python3.11/dist-packages (from matplotlib->catboost) (1.3.2)\n",
            "Requirement already satisfied: cycler>=0.10 in /usr/local/lib/python3.11/dist-packages (from matplotlib->catboost) (0.12.1)\n",
            "Requirement already satisfied: fonttools>=4.22.0 in /usr/local/lib/python3.11/dist-packages (from matplotlib->catboost) (4.57.0)\n",
            "Requirement already satisfied: kiwisolver>=1.3.1 in /usr/local/lib/python3.11/dist-packages (from matplotlib->catboost) (1.4.8)\n",
            "Requirement already satisfied: packaging>=20.0 in /usr/local/lib/python3.11/dist-packages (from matplotlib->catboost) (24.2)\n",
            "Requirement already satisfied: pillow>=8 in /usr/local/lib/python3.11/dist-packages (from matplotlib->catboost) (11.2.1)\n",
            "Requirement already satisfied: pyparsing>=2.3.1 in /usr/local/lib/python3.11/dist-packages (from matplotlib->catboost) (3.2.3)\n",
            "Requirement already satisfied: tenacity>=6.2.0 in /usr/local/lib/python3.11/dist-packages (from plotly->catboost) (9.1.2)\n",
            "Downloading catboost-1.2.8-cp311-cp311-manylinux2014_x86_64.whl (99.2 MB)\n",
            "\u001b[2K   \u001b[90m━━━━━━━━━━━━━━━━━━━━━━━━━━━━━━━━━━━━━━━━\u001b[0m \u001b[32m99.2/99.2 MB\u001b[0m \u001b[31m10.2 MB/s\u001b[0m eta \u001b[36m0:00:00\u001b[0m\n",
            "\u001b[?25hInstalling collected packages: catboost\n",
            "Successfully installed catboost-1.2.8\n"
          ]
        }
      ]
    },
    {
      "cell_type": "markdown",
      "source": [
        "# **Regular CatBoost**"
      ],
      "metadata": {
        "id": "MjD1Ok1hdM6z"
      }
    },
    {
      "cell_type": "code",
      "execution_count": null,
      "metadata": {
        "colab": {
          "base_uri": "https://localhost:8080/"
        },
        "id": "fWfFqm5eT7fe",
        "outputId": "7f46cb08-4b70-43f1-b2c3-e6867b0d4906"
      },
      "outputs": [
        {
          "output_type": "stream",
          "name": "stderr",
          "text": [
            "<ipython-input-17-de7a22bf00f1>:8: DtypeWarning: Columns (2,3,6,7,8,9,10,28) have mixed types. Specify dtype option on import or set low_memory=False.\n",
            "  df = pd.read_csv(\"/content/drive/MyDrive/A Round Ent/combined_df.csv\")\n"
          ]
        },
        {
          "output_type": "stream",
          "name": "stdout",
          "text": [
            "Average MAE (CatBoost): 44705.08564106424\n",
            "Average RMSE (CatBoost): 143837.66405476135\n",
            "Average R² (CatBoost): 0.9407529576260487\n"
          ]
        }
      ],
      "source": [
        "from catboost import CatBoostRegressor\n",
        "from sklearn.model_selection import KFold\n",
        "from sklearn.metrics import mean_absolute_error, mean_squared_error, r2_score\n",
        "from sklearn.preprocessing import StandardScaler\n",
        "import pandas as pd\n",
        "import numpy as np\n",
        "\n",
        "df = pd.read_csv(\"/content/drive/MyDrive/A Round Ent/combined_df.csv\")\n",
        "df = df.select_dtypes(['number']).dropna()\n",
        "df = df.drop(columns=[\"Avg. Tickets Sold\", \"Avg. Capacity Sold\", \"Ticket Price Avg. USD\"], errors='ignore')\n",
        "df = df.dropna(subset=[\"Avg. Gross USD\"])\n",
        "X = pd.get_dummies(df.drop(columns=[\"Avg. Gross USD\"]), drop_first=True)\n",
        "y = df[\"Avg. Gross USD\"]\n",
        "X_scaled = StandardScaler().fit_transform(X)\n",
        "\n",
        "cat_model = CatBoostRegressor(verbose=0, random_state=42)\n",
        "kf = KFold(n_splits=5, shuffle=True, random_state=42)\n",
        "\n",
        "mae_scores, rmse_scores, r2_scores = [], [], []\n",
        "for train_idx, test_idx in kf.split(X_scaled):\n",
        "    cat_model.fit(X_scaled[train_idx], y.iloc[train_idx])\n",
        "    y_pred = cat_model.predict(X_scaled[test_idx])\n",
        "    mae_scores.append(mean_absolute_error(y.iloc[test_idx], y_pred))\n",
        "    rmse_scores.append(np.sqrt(mean_squared_error(y.iloc[test_idx], y_pred)))\n",
        "    r2_scores.append(r2_score(y.iloc[test_idx], y_pred))\n",
        "\n",
        "print(\"Average MAE (CatBoost):\", np.mean(mae_scores))\n",
        "print(\"Average RMSE (CatBoost):\", np.mean(rmse_scores))\n",
        "print(\"Average R² (CatBoost):\", np.mean(r2_scores))"
      ]
    },
    {
      "cell_type": "markdown",
      "source": [
        "# **Ensemble: CatBoost, RandomForest**"
      ],
      "metadata": {
        "id": "iu6kEbjEdfCJ"
      }
    },
    {
      "cell_type": "code",
      "source": [
        "from sklearn.ensemble import RandomForestRegressor\n",
        "\n",
        "X = pd.get_dummies(df.drop(columns=[\"Avg. Gross USD\"]), drop_first=True)\n",
        "y = df[\"Avg. Gross USD\"]\n",
        "X_scaled = StandardScaler().fit_transform(X)\n",
        "\n",
        "cat_params = {'depth': 6, 'iterations': 500, 'l2_leaf_reg': 5, 'learning_rate': 0.1}\n",
        "cat_model = CatBoostRegressor(**cat_params, verbose=0, random_state=42)\n",
        "rf_model = RandomForestRegressor(n_estimators=200, max_depth=10, random_state=42)\n",
        "\n",
        "kf = KFold(n_splits=5, shuffle=True, random_state=42)\n",
        "\n",
        "mae_scores, rmse_scores, r2_scores = [], [], []\n",
        "\n",
        "for train_idx, test_idx in kf.split(X_scaled):\n",
        "    X_train, X_test = X_scaled[train_idx], X_scaled[test_idx]\n",
        "    y_train, y_test = y.iloc[train_idx], y.iloc[test_idx]\n",
        "\n",
        "    cat_model.fit(X_train, y_train)\n",
        "    rf_model.fit(X_train, y_train)\n",
        "\n",
        "    cat_preds = cat_model.predict(X_test)\n",
        "    rf_preds = rf_model.predict(X_test)\n",
        "    ensemble_preds = (cat_preds + rf_preds) / 2\n",
        "\n",
        "    mae_scores.append(mean_absolute_error(y_test, ensemble_preds))\n",
        "    rmse_scores.append(np.sqrt(mean_squared_error(y_test, ensemble_preds)))\n",
        "    r2_scores.append(r2_score(y_test, ensemble_preds))\n",
        "\n",
        "print(\"Average MAE (Ensemble):\", np.mean(mae_scores))\n",
        "print(\"Average RMSE (Ensemble):\", np.mean(rmse_scores))\n",
        "print(\"Average R² (Ensemble):\", np.mean(r2_scores))"
      ],
      "metadata": {
        "id": "IgIa9ElbYXik",
        "colab": {
          "base_uri": "https://localhost:8080/"
        },
        "outputId": "a15b9ad7-5302-43c6-b76b-1d50af2ede4b"
      },
      "execution_count": null,
      "outputs": [
        {
          "output_type": "stream",
          "name": "stdout",
          "text": [
            "Average MAE (Ensemble): 44767.931115351974\n",
            "Average RMSE (Ensemble): 145760.7985403009\n",
            "Average R² (Ensemble): 0.939873014414432\n"
          ]
        }
      ]
    },
    {
      "cell_type": "markdown",
      "source": [
        "# **Ensemble: CatBoost, GradientBoost, RandomForest**"
      ],
      "metadata": {
        "id": "dTHJlZOZeZav"
      }
    },
    {
      "cell_type": "code",
      "source": [
        "X = pd.get_dummies(df.drop(columns=[\"Avg. Gross USD\"]), drop_first=True)\n",
        "y = df[\"Avg. Gross USD\"]\n",
        "X_scaled = StandardScaler().fit_transform(X)\n",
        "\n",
        "cat = CatBoostRegressor(depth=6, iterations=500, l2_leaf_reg=5, learning_rate=0.1, verbose=0, random_state=42)\n",
        "rf = RandomForestRegressor(n_estimators=150, max_depth=10, random_state=42)\n",
        "gb = GradientBoostingRegressor(n_estimators=100, max_depth=4, learning_rate=0.1, random_state=42)\n",
        "\n",
        "kf = KFold(n_splits=5, shuffle=True, random_state=42)\n",
        "mae_scores, rmse_scores, r2_scores = [], [], []\n",
        "\n",
        "for train_idx, test_idx in kf.split(X_scaled):\n",
        "    X_train, X_test = X_scaled[train_idx], X_scaled[test_idx]\n",
        "    y_train, y_test = y.iloc[train_idx], y.iloc[test_idx]\n",
        "\n",
        "    cat.fit(X_train, y_train)\n",
        "    rf.fit(X_train, y_train)\n",
        "    gb.fit(X_train, y_train)\n",
        "\n",
        "    y_pred = 0.6 * cat.predict(X_test) + 0.2 * rf.predict(X_test) + 0.2 * gb.predict(X_test)\n",
        "\n",
        "    mae_scores.append(mean_absolute_error(y_test, y_pred))\n",
        "    rmse_scores.append(np.sqrt(mean_squared_error(y_test, y_pred)))\n",
        "    r2_scores.append(r2_score(y_test, y_pred))\n",
        "\n",
        "print(\"Weighted Average Ensemble Results:\")\n",
        "print(\"MAE:\", np.mean(mae_scores))\n",
        "print(\"RMSE:\", np.mean(rmse_scores))\n",
        "print(\"R²:\", np.mean(r2_scores))"
      ],
      "metadata": {
        "colab": {
          "base_uri": "https://localhost:8080/"
        },
        "id": "f40w8kz8RcPt",
        "outputId": "f7889a17-2137-457a-d448-98ace978129e"
      },
      "execution_count": null,
      "outputs": [
        {
          "output_type": "stream",
          "name": "stdout",
          "text": [
            "Weighted Average Ensemble Results:\n",
            "MAE: 45075.63469559883\n",
            "RMSE: 142275.95747059822\n",
            "R²: 0.9427272127820097\n"
          ]
        }
      ]
    },
    {
      "cell_type": "markdown",
      "source": [
        "# **Ensemble: CatBoost, GradientBoost, Voting Regressor, Parameter Tuning**"
      ],
      "metadata": {
        "id": "YQRNM2SzdUCz"
      }
    },
    {
      "cell_type": "code",
      "source": [
        "from sklearn.ensemble import GradientBoostingRegressor, VotingRegressor\n",
        "from sklearn.model_selection import KFold, GridSearchCV\n",
        "\n",
        "X = pd.get_dummies(df.drop(columns=[\"Avg. Gross USD\"]), drop_first=True)\n",
        "y = df[\"Avg. Gross USD\"]\n",
        "X_scaled = StandardScaler().fit_transform(X)\n",
        "\n",
        "cat_model = CatBoostRegressor(verbose=0, random_state=42)\n",
        "param_grid = {\n",
        "    'depth': [6, 8],\n",
        "    'learning_rate': [0.05, 0.1],\n",
        "    'l2_leaf_reg': [3, 5],\n",
        "    'iterations': [500]\n",
        "}\n",
        "grid_search = GridSearchCV(cat_model, param_grid, cv=3, scoring='neg_mean_squared_error', n_jobs=-1)\n",
        "grid_search.fit(X_scaled, y)\n",
        "best_cat = grid_search.best_estimator_\n",
        "\n",
        "gbr = GradientBoostingRegressor(random_state=42)\n",
        "ensemble = VotingRegressor([('cat', best_cat), ('gbr', gbr)])\n",
        "\n",
        "kf = KFold(n_splits=5, shuffle=True, random_state=42)\n",
        "mae_scores, rmse_scores, r2_scores = [], [], []\n",
        "\n",
        "for train_idx, test_idx in kf.split(X_scaled):\n",
        "    ensemble.fit(X_scaled[train_idx], y.iloc[train_idx])\n",
        "    y_pred = ensemble.predict(X_scaled[test_idx])\n",
        "    mae_scores.append(mean_absolute_error(y.iloc[test_idx], y_pred))\n",
        "    rmse_scores.append(np.sqrt(mean_squared_error(y.iloc[test_idx], y_pred)))\n",
        "    r2_scores.append(r2_score(y.iloc[test_idx], y_pred))\n",
        "\n",
        "print(\"Best CatBoost Params:\", grid_search.best_params_)\n",
        "print(\"Average MAE (Ensemble):\", np.mean(mae_scores))\n",
        "print(\"Average RMSE (Ensemble):\", np.mean(rmse_scores))\n",
        "print(\"Average R² (Ensemble):\", np.mean(r2_scores))"
      ],
      "metadata": {
        "id": "TgQlydjNVKbM",
        "colab": {
          "base_uri": "https://localhost:8080/"
        },
        "outputId": "90a9023c-9a0b-444e-c99c-8cb70d51c8ea"
      },
      "execution_count": null,
      "outputs": [
        {
          "output_type": "stream",
          "name": "stderr",
          "text": [
            "<ipython-input-12-ab29a9770a0a>:10: DtypeWarning: Columns (2,3,6,7,8,9,10,28) have mixed types. Specify dtype option on import or set low_memory=False.\n",
            "  df = pd.read_csv(\"/content/drive/MyDrive/A Round Ent/combined_df.csv\")\n"
          ]
        },
        {
          "output_type": "stream",
          "name": "stdout",
          "text": [
            "Best CatBoost Params: {'depth': 6, 'iterations': 500, 'l2_leaf_reg': 5, 'learning_rate': 0.1}\n",
            "Average MAE (Ensemble): 48103.96145619062\n",
            "Average RMSE (Ensemble): 143105.75343200954\n",
            "Average R² (Ensemble): 0.9423975526548748\n"
          ]
        }
      ]
    },
    {
      "cell_type": "code",
      "source": [
        "from sklearn.linear_model import Ridge\n",
        "from sklearn.ensemble import StackingRegressor\n",
        "\n",
        "X = pd.get_dummies(df.drop(columns=[\"Avg. Gross USD\"]), drop_first=True)\n",
        "y = df[\"Avg. Gross USD\"]\n",
        "X_scaled = StandardScaler().fit_transform(X)\n",
        "\n",
        "# Define models\n",
        "cat_params = {'depth': 6, 'iterations': 500, 'l2_leaf_reg': 5, 'learning_rate': 0.1}\n",
        "cat_model = CatBoostRegressor(**cat_params, verbose=0, random_state=42)\n",
        "ridge_model = Ridge(alpha=1.0, random_state=42)\n",
        "\n",
        "# Meta-model\n",
        "meta_model = GradientBoostingRegressor(n_estimators=100, max_depth=3, random_state=42)\n",
        "\n",
        "# Build stacking regressor\n",
        "stacking_model = StackingRegressor(\n",
        "    estimators=[\n",
        "        ('catboost', cat_model),\n",
        "        ('ridge', ridge_model)\n",
        "    ],\n",
        "    final_estimator=meta_model,\n",
        "    passthrough=True,\n",
        "    cv=5\n",
        ")\n",
        "\n",
        "# Evaluate using KFold CV\n",
        "kf = KFold(n_splits=5, shuffle=True, random_state=42)\n",
        "mae_scores, rmse_scores, r2_scores = [], [], []\n",
        "\n",
        "for train_idx, test_idx in kf.split(X_scaled):\n",
        "    X_train, X_test = X_scaled[train_idx], X_scaled[test_idx]\n",
        "    y_train, y_test = y.iloc[train_idx], y.iloc[test_idx]\n",
        "\n",
        "    stacking_model.fit(X_train, y_train)\n",
        "    y_pred = stacking_model.predict(X_test)\n",
        "\n",
        "    mae_scores.append(mean_absolute_error(y_test, y_pred))\n",
        "    rmse_scores.append(np.sqrt(mean_squared_error(y_test, y_pred)))\n",
        "    r2_scores.append(r2_score(y_test, y_pred))\n",
        "\n",
        "# Print average metrics\n",
        "print(\"Average MAE (Stacked Ensemble):\", np.mean(mae_scores))\n",
        "print(\"Average RMSE (Stacked Ensemble):\", np.mean(rmse_scores))print(\"Average R² (Stacked Ensemble):\", np.mean(r2_scores))"
      ],
      "metadata": {
        "id": "6hO0cJAvOGBu",
        "colab": {
          "base_uri": "https://localhost:8080/"
        },
        "outputId": "8c2f6e37-aea9-426f-981b-5d1a35f651e2"
      },
      "execution_count": null,
      "outputs": [
        {
          "output_type": "stream",
          "name": "stdout",
          "text": [
            "Average MAE (Stacked Ensemble): 50859.8929662181\n",
            "Average RMSE (Stacked Ensemble): 159338.51671106013\n",
            "Average R² (Stacked Ensemble): 0.9284766371698417\n"
          ]
        }
      ]
    },
    {
      "cell_type": "markdown",
      "source": [
        "# **Ensemble: CatBoost, GradientBoost, Voting Regressor, RandomForest**"
      ],
      "metadata": {
        "id": "hzXlN16heB9Q"
      }
    },
    {
      "cell_type": "code",
      "source": [
        "X = pd.get_dummies(df.drop(columns=[\"Avg. Gross USD\"]), drop_first=True)\n",
        "y = df[\"Avg. Gross USD\"]\n",
        "X_scaled = StandardScaler().fit_transform(X)\n",
        "\n",
        "cat_params = {'depth': 6, 'iterations': 500, 'l2_leaf_reg': 5, 'learning_rate': 0.1}\n",
        "cat_model = CatBoostRegressor(**cat_params, verbose=0, random_state=42)\n",
        "rf_model = RandomForestRegressor(n_estimators=150, max_depth=10, random_state=42)\n",
        "gb_model = GradientBoostingRegressor(n_estimators=100, max_depth=4, learning_rate=0.1, random_state=42)\n",
        "\n",
        "voting_ensemble = VotingRegressor([\n",
        "    ('cat', cat_model),\n",
        "    ('rf', rf_model),\n",
        "    ('gb', gb_model)\n",
        "])\n",
        "\n",
        "kf = KFold(n_splits=5, shuffle=True, random_state=42)\n",
        "mae_scores, rmse_scores, r2_scores = [], [], []\n",
        "\n",
        "for train_idx, test_idx in kf.split(X_scaled):\n",
        "    X_train, X_test = X_scaled[train_idx], X_scaled[test_idx]\n",
        "    y_train, y_test = y.iloc[train_idx], y.iloc[test_idx]\n",
        "\n",
        "    voting_ensemble.fit(X_train, y_train)\n",
        "    y_pred = voting_ensemble.predict(X_test)\n",
        "\n",
        "    mae_scores.append(mean_absolute_error(y_test, y_pred))\n",
        "    rmse_scores.append(np.sqrt(mean_squared_error(y_test, y_pred)))\n",
        "    r2_scores.append(r2_score(y_test, y_pred))\n",
        "\n",
        "print(\"Average MAE (Voting Ensemble):\", np.mean(mae_scores))\n",
        "print(\"Average RMSE (Voting Ensemble):\", np.mean(rmse_scores))\n",
        "print(\"Average R² (Voting Ensemble):\", np.mean(r2_scores))"
      ],
      "metadata": {
        "colab": {
          "base_uri": "https://localhost:8080/"
        },
        "id": "fwPruiUDO0je",
        "outputId": "ef68bb94-65cf-415c-a65c-7f21c3e343a0"
      },
      "execution_count": null,
      "outputs": [
        {
          "output_type": "stream",
          "name": "stdout",
          "text": [
            "Average MAE (Voting Ensemble): 45670.25084503471\n",
            "Average RMSE (Voting Ensemble): 144232.56207094147\n",
            "Average R² (Voting Ensemble): 0.941346230077782\n"
          ]
        }
      ]
    },
    {
      "cell_type": "markdown",
      "source": [
        "# **Bagging**"
      ],
      "metadata": {
        "id": "E1WBNCxNeT2F"
      }
    },
    {
      "cell_type": "code",
      "source": [
        "from sklearn.ensemble import BaggingRegressor\n",
        "\n",
        "X = pd.get_dummies(df.drop(columns=[\"Avg. Gross USD\"]), drop_first=True)\n",
        "y = df[\"Avg. Gross USD\"]\n",
        "X_scaled = StandardScaler().fit_transform(X)\n",
        "\n",
        "cat_params = {'depth': 6, 'iterations': 500, 'l2_leaf_reg': 5, 'learning_rate': 0.1}\n",
        "base_cat = CatBoostRegressor(**cat_params, verbose=0, random_state=42)\n",
        "bagging_model = BaggingRegressor(n_estimators=10, random_state=42, n_jobs=-1)\n",
        "\n",
        "kf = KFold(n_splits=5, shuffle=True, random_state=42)\n",
        "mae_scores, rmse_scores, r2_scores = [], [], []\n",
        "\n",
        "for train_idx, test_idx in kf.split(X_scaled):\n",
        "    X_train, X_test = X_scaled[train_idx], X_scaled[test_idx]\n",
        "    y_train, y_test = y.iloc[train_idx], y.iloc[test_idx]\n",
        "\n",
        "    bagging_model.fit(X_train, y_train)\n",
        "    y_pred = bagging_model.predict(X_test)\n",
        "\n",
        "    mae_scores.append(mean_absolute_error(y_test, y_pred))\n",
        "    rmse_scores.append(np.sqrt(mean_squared_error(y_test, y_pred)))\n",
        "    r2_scores.append(r2_score(y_test, y_pred))\n",
        "\n",
        "print(\"Bagging Regressor Results:\")\n",
        "print(\"MAE:\", np.mean(mae_scores))\n",
        "print(\"RMSE:\", np.mean(rmse_scores))\n",
        "print(\"R²:\", np.mean(r2_scores))"
      ],
      "metadata": {
        "colab": {
          "base_uri": "https://localhost:8080/"
        },
        "id": "axYR_i1wQQk8",
        "outputId": "be0e0c76-e554-4c97-8f5d-cabf4da8def7"
      },
      "execution_count": null,
      "outputs": [
        {
          "output_type": "stream",
          "name": "stdout",
          "text": [
            "Bagging Regressor Results:\n",
            "MAE: 48968.188651607066\n",
            "RMSE: 165306.668473105\n",
            "R²: 0.9231272649646118\n"
          ]
        }
      ]
    },
    {
      "cell_type": "markdown",
      "source": [
        "# **Ensemble + Meta Models: CatBoost, GradientBoost, RandomForest**"
      ],
      "metadata": {
        "id": "NzJELaTtelaW"
      }
    },
    {
      "cell_type": "code",
      "source": [
        "X = pd.get_dummies(df.drop(columns=[\"Avg. Gross USD\"]), drop_first=True)\n",
        "y = df[\"Avg. Gross USD\"]\n",
        "X_scaled = StandardScaler().fit_transform(X)\n",
        "\n",
        "cat = CatBoostRegressor(depth=6, iterations=500, l2_leaf_reg=5, learning_rate=0.1, verbose=0, random_state=42)\n",
        "rf = RandomForestRegressor(n_estimators=150, max_depth=10, random_state=42)\n",
        "meta_model = GradientBoostingRegressor(n_estimators=100, random_state=42)\n",
        "\n",
        "kf = KFold(n_splits=5, shuffle=True, random_state=42)\n",
        "mae_scores, rmse_scores, r2_scores = [], [], []\n",
        "\n",
        "for train_idx, test_idx in kf.split(X_scaled):\n",
        "    X_train, X_val = X_scaled[train_idx], X_scaled[test_idx]\n",
        "    y_train, y_val = y.iloc[train_idx], y.iloc[test_idx]\n",
        "\n",
        "    cat.fit(X_train, y_train)\n",
        "    rf.fit(X_train, y_train)\n",
        "\n",
        "    # Meta models\n",
        "    cat_preds = cat.predict(X_val)\n",
        "    rf_preds = rf.predict(X_val)\n",
        "    meta_features = np.column_stack((cat_preds, rf_preds))\n",
        "    meta_model.fit(meta_features, y_val)\n",
        "\n",
        "    final_preds = meta_model.predict(meta_features)\n",
        "\n",
        "    mae_scores.append(mean_absolute_error(y_val, final_preds))\n",
        "    rmse_scores.append(np.sqrt(mean_squared_error(y_val, final_preds)))\n",
        "    r2_scores.append(r2_score(y_val, final_preds))\n",
        "\n",
        "print(\"Blending Ensemble with CV Results:\")\n",
        "print(\"Average MAE:\", np.mean(mae_scores))\n",
        "print(\"Average RMSE:\", np.mean(rmse_scores))\n",
        "print(\"Average R²:\", np.mean(r2_scores))"
      ],
      "metadata": {
        "colab": {
          "base_uri": "https://localhost:8080/"
        },
        "id": "I-devF93SJDG",
        "outputId": "45fd54d6-f283-49cb-d015-fb6a5d143f1f"
      },
      "execution_count": null,
      "outputs": [
        {
          "output_type": "stream",
          "name": "stdout",
          "text": [
            "Blending Ensemble with CV Results:\n",
            "Average MAE: 30408.678646922705\n",
            "Average RMSE: 70089.12977572375\n",
            "Average R²: 0.9861268718908203\n"
          ]
        }
      ]
    }
  ]
}