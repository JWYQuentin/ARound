{
  "nbformat": 4,
  "nbformat_minor": 0,
  "metadata": {
    "colab": {
      "provenance": []
    },
    "kernelspec": {
      "name": "python3",
      "display_name": "Python 3"
    },
    "language_info": {
      "name": "python"
    }
  },
  "cells": [
    {
      "cell_type": "code",
      "execution_count": null,
      "metadata": {
        "colab": {
          "base_uri": "https://localhost:8080/"
        },
        "id": "nWEQuGWcQfR-",
        "outputId": "8bc5aee0-0934-43ae-b8c8-4d1a1b96c514"
      },
      "outputs": [
        {
          "output_type": "stream",
          "name": "stderr",
          "text": [
            "<ipython-input-8-047de6e288d1>:11: DtypeWarning: Columns (2,3,6,7,8,9,10,28) have mixed types. Specify dtype option on import or set low_memory=False.\n",
            "  data = pd.read_csv(file_path)\n"
          ]
        },
        {
          "output_type": "stream",
          "name": "stdout",
          "text": [
            "MAE: 46284.30\n",
            "RMSE: 171395.39\n",
            "R^2 Score: 0.9220\n"
          ]
        }
      ],
      "source": [
        "import pandas as pd\n",
        "import numpy as np\n",
        "from sklearn.model_selection import train_test_split\n",
        "from sklearn.ensemble import RandomForestClassifier, RandomForestRegressor\n",
        "from sklearn.metrics import mean_squared_error, mean_absolute_error, r2_score\n",
        "\n",
        "file_path = '/content/drive/MyDrive/A Round Ent/combined_df.csv'\n",
        "data = pd.read_csv(file_path)\n",
        "\n",
        "numerical_data = data.select_dtypes(['number']).dropna()\n",
        "X = numerical_data.drop([\"Avg. Gross USD\", 'Ticket Price Avg. USD', 'Avg. Tickets Sold'], axis=1)\n",
        "y = numerical_data['Avg. Gross USD']\n",
        "\n",
        "X = pd.get_dummies(X, drop_first=True)\n",
        "\n",
        "X, y = X.align(y, join='inner', axis=0)\n",
        "\n",
        "X_train, X_test, y_train, y_test = train_test_split(X, y, test_size=0.2, random_state=42)\n",
        "\n",
        "model = RandomForestRegressor(n_estimators=100, random_state=42)\n",
        "model.fit(X_train, y_train)\n",
        "\n",
        "y_pred = model.predict(X_test)\n",
        "\n",
        "mae = mean_absolute_error(y_test, y_pred)\n",
        "rmse = np.sqrt(mean_squared_error(y_test, y_pred))\n",
        "r2 = r2_score(y_test, y_pred)\n",
        "\n",
        "print(f\"MAE: {mae:.2f}\")\n",
        "print(f\"RMSE: {rmse:.2f}\")\n",
        "print(f\"R^2 Score: {r2:.4f}\")"
      ]
    },
    {
      "cell_type": "code",
      "source": [
        "from sklearn.ensemble import StackingRegressor\n",
        "from sklearn.linear_model import Ridge\n",
        "import xgboost as xgb\n",
        "\n",
        "file_path = '/content/drive/MyDrive/A Round Ent/combined_df.csv'\n",
        "data = pd.read_csv(file_path)\n",
        "\n",
        "numerical_data = data.select_dtypes(['number']).dropna()\n",
        "\n",
        "X = numerical_data.drop([\"Avg. Gross USD\", 'Ticket Price Avg. USD', 'Avg. Tickets Sold'], axis=1)\n",
        "y = numerical_data['Avg. Gross USD']\n",
        "\n",
        "X, y = X.align(y, join='inner', axis=0)\n",
        "\n",
        "X_train, X_test, y_train, y_test = train_test_split(X, y, test_size=0.2, random_state=42)\n",
        "\n",
        "rf = RandomForestRegressor(n_estimators=100, random_state=42)\n",
        "xgb_model = xgb.XGBRegressor(n_estimators=200, learning_rate=0.05, max_depth=6, random_state=42)\n",
        "\n",
        "stack_model = StackingRegressor(\n",
        "    estimators=[\n",
        "        ('rf', rf),\n",
        "        ('xgb', xgb_model)\n",
        "    ],\n",
        "    final_estimator=Ridge(alpha=1.0),\n",
        "    passthrough=True\n",
        ")\n",
        "\n",
        "stack_model.fit(X_train, y_train)\n",
        "\n",
        "y_pred = stack_model.predict(X_test)\n",
        "\n",
        "mae = mean_absolute_error(y_test, y_pred)\n",
        "rmse = np.sqrt(mean_squared_error(y_test, y_pred))\n",
        "r2 = r2_score(y_test, y_pred)\n",
        "\n",
        "print(f\"MAE: {mae:.2f}\")\n",
        "print(f\"RMSE: {rmse:.2f}\")\n",
        "print(f\"R^2 Score: {r2:.4f}\")"
      ],
      "metadata": {
        "id": "_aFXdRk1VPLC"
      },
      "execution_count": 19,
      "outputs": []
    }
  ]
}