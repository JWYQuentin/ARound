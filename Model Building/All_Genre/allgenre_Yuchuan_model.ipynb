{
 "cells": [
  {
   "cell_type": "code",
   "execution_count": 60,
   "id": "2425f1a9",
   "metadata": {},
   "outputs": [],
   "source": [
    "from sklearn.ensemble import RandomForestRegressor"
   ]
  },
  {
   "cell_type": "code",
   "execution_count": 61,
   "id": "21865141",
   "metadata": {},
   "outputs": [
    {
     "name": "stdout",
     "output_type": "stream",
     "text": [
      "Defaulting to user installation because normal site-packages is not writeable\n",
      "Requirement already satisfied: xgboost in /Users/zhangyuchuan/Library/Python/3.9/lib/python/site-packages (2.1.3)\n",
      "Requirement already satisfied: numpy in /Users/zhangyuchuan/Library/Python/3.9/lib/python/site-packages (from xgboost) (1.26.4)\n",
      "Requirement already satisfied: scipy in /Users/zhangyuchuan/Library/Python/3.9/lib/python/site-packages (from xgboost) (1.12.0)\n",
      "\u001b[33mWARNING: You are using pip version 21.2.4; however, version 24.3.1 is available.\n",
      "You should consider upgrading via the '/Library/Developer/CommandLineTools/usr/bin/python3 -m pip install --upgrade pip' command.\u001b[0m\n",
      "Note: you may need to restart the kernel to use updated packages.\n"
     ]
    }
   ],
   "source": [
    "pip install xgboost"
   ]
  },
  {
   "cell_type": "code",
   "execution_count": 62,
   "id": "e2aad729",
   "metadata": {},
   "outputs": [
    {
     "name": "stdout",
     "output_type": "stream",
     "text": [
      "Defaulting to user installation because normal site-packages is not writeable\n",
      "Requirement already satisfied: flaml in /Users/zhangyuchuan/Library/Python/3.9/lib/python/site-packages (2.3.2)\n",
      "Requirement already satisfied: NumPy>=1.17 in /Users/zhangyuchuan/Library/Python/3.9/lib/python/site-packages (from flaml) (1.26.4)\n",
      "\u001b[33mWARNING: You are using pip version 21.2.4; however, version 24.3.1 is available.\n",
      "You should consider upgrading via the '/Library/Developer/CommandLineTools/usr/bin/python3 -m pip install --upgrade pip' command.\u001b[0m\n",
      "Note: you may need to restart the kernel to use updated packages.\n"
     ]
    }
   ],
   "source": [
    "pip install flaml"
   ]
  },
  {
   "cell_type": "code",
   "execution_count": 63,
   "id": "1aa13c73",
   "metadata": {},
   "outputs": [
    {
     "name": "stdout",
     "output_type": "stream",
     "text": [
      "Defaulting to user installation because normal site-packages is not writeable\n",
      "Requirement already satisfied: seaborn in /Users/zhangyuchuan/Library/Python/3.9/lib/python/site-packages (0.13.2)\n",
      "Requirement already satisfied: pandas>=1.2 in /Users/zhangyuchuan/Library/Python/3.9/lib/python/site-packages (from seaborn) (2.2.0)\n",
      "Requirement already satisfied: numpy!=1.24.0,>=1.20 in /Users/zhangyuchuan/Library/Python/3.9/lib/python/site-packages (from seaborn) (1.26.4)\n",
      "Requirement already satisfied: matplotlib!=3.6.1,>=3.4 in /Users/zhangyuchuan/Library/Python/3.9/lib/python/site-packages (from seaborn) (3.8.2)\n",
      "Requirement already satisfied: pyparsing>=2.3.1 in /Users/zhangyuchuan/Library/Python/3.9/lib/python/site-packages (from matplotlib!=3.6.1,>=3.4->seaborn) (3.1.1)\n",
      "Requirement already satisfied: fonttools>=4.22.0 in /Users/zhangyuchuan/Library/Python/3.9/lib/python/site-packages (from matplotlib!=3.6.1,>=3.4->seaborn) (4.48.1)\n",
      "Requirement already satisfied: cycler>=0.10 in /Users/zhangyuchuan/Library/Python/3.9/lib/python/site-packages (from matplotlib!=3.6.1,>=3.4->seaborn) (0.12.1)\n",
      "Requirement already satisfied: python-dateutil>=2.7 in /Users/zhangyuchuan/Library/Python/3.9/lib/python/site-packages (from matplotlib!=3.6.1,>=3.4->seaborn) (2.8.2)\n",
      "Requirement already satisfied: contourpy>=1.0.1 in /Users/zhangyuchuan/Library/Python/3.9/lib/python/site-packages (from matplotlib!=3.6.1,>=3.4->seaborn) (1.2.0)\n",
      "Requirement already satisfied: packaging>=20.0 in /Users/zhangyuchuan/Library/Python/3.9/lib/python/site-packages (from matplotlib!=3.6.1,>=3.4->seaborn) (23.2)\n",
      "Requirement already satisfied: kiwisolver>=1.3.1 in /Users/zhangyuchuan/Library/Python/3.9/lib/python/site-packages (from matplotlib!=3.6.1,>=3.4->seaborn) (1.4.5)\n",
      "Requirement already satisfied: importlib-resources>=3.2.0 in /Users/zhangyuchuan/Library/Python/3.9/lib/python/site-packages (from matplotlib!=3.6.1,>=3.4->seaborn) (6.1.1)\n",
      "Requirement already satisfied: pillow>=8 in /Users/zhangyuchuan/Library/Python/3.9/lib/python/site-packages (from matplotlib!=3.6.1,>=3.4->seaborn) (10.2.0)\n",
      "Requirement already satisfied: zipp>=3.1.0 in /Users/zhangyuchuan/Library/Python/3.9/lib/python/site-packages (from importlib-resources>=3.2.0->matplotlib!=3.6.1,>=3.4->seaborn) (3.16.2)\n",
      "Requirement already satisfied: tzdata>=2022.7 in /Users/zhangyuchuan/Library/Python/3.9/lib/python/site-packages (from pandas>=1.2->seaborn) (2023.4)\n",
      "Requirement already satisfied: pytz>=2020.1 in /Users/zhangyuchuan/Library/Python/3.9/lib/python/site-packages (from pandas>=1.2->seaborn) (2024.1)\n",
      "Requirement already satisfied: six>=1.5 in /Library/Developer/CommandLineTools/Library/Frameworks/Python3.framework/Versions/3.9/lib/python3.9/site-packages (from python-dateutil>=2.7->matplotlib!=3.6.1,>=3.4->seaborn) (1.15.0)\n",
      "\u001b[33mWARNING: You are using pip version 21.2.4; however, version 24.3.1 is available.\n",
      "You should consider upgrading via the '/Library/Developer/CommandLineTools/usr/bin/python3 -m pip install --upgrade pip' command.\u001b[0m\n",
      "Note: you may need to restart the kernel to use updated packages.\n"
     ]
    }
   ],
   "source": [
    "pip install seaborn"
   ]
  },
  {
   "cell_type": "code",
   "execution_count": 64,
   "id": "1af0fd6b",
   "metadata": {},
   "outputs": [
    {
     "name": "stdout",
     "output_type": "stream",
     "text": [
      "Defaulting to user installation because normal site-packages is not writeable\n",
      "Requirement already satisfied: ipywidgets in /Users/zhangyuchuan/Library/Python/3.9/lib/python/site-packages (8.1.5)\n",
      "Requirement already satisfied: widgetsnbextension~=4.0.12 in /Users/zhangyuchuan/Library/Python/3.9/lib/python/site-packages (from ipywidgets) (4.0.13)\n",
      "Requirement already satisfied: ipython>=6.1.0 in /Users/zhangyuchuan/Library/Python/3.9/lib/python/site-packages (from ipywidgets) (8.18.1)\n",
      "Requirement already satisfied: comm>=0.1.3 in /Users/zhangyuchuan/Library/Python/3.9/lib/python/site-packages (from ipywidgets) (0.2.0)\n",
      "Requirement already satisfied: traitlets>=4.3.1 in /Users/zhangyuchuan/Library/Python/3.9/lib/python/site-packages (from ipywidgets) (5.14.0)\n",
      "Requirement already satisfied: jupyterlab-widgets~=3.0.12 in /Users/zhangyuchuan/Library/Python/3.9/lib/python/site-packages (from ipywidgets) (3.0.13)\n",
      "Requirement already satisfied: stack-data in /Users/zhangyuchuan/Library/Python/3.9/lib/python/site-packages (from ipython>=6.1.0->ipywidgets) (0.6.3)\n",
      "Requirement already satisfied: exceptiongroup in /Users/zhangyuchuan/Library/Python/3.9/lib/python/site-packages (from ipython>=6.1.0->ipywidgets) (1.2.0)\n",
      "Requirement already satisfied: jedi>=0.16 in /Users/zhangyuchuan/Library/Python/3.9/lib/python/site-packages (from ipython>=6.1.0->ipywidgets) (0.19.1)\n",
      "Requirement already satisfied: pygments>=2.4.0 in /Users/zhangyuchuan/Library/Python/3.9/lib/python/site-packages (from ipython>=6.1.0->ipywidgets) (2.17.2)\n",
      "Requirement already satisfied: decorator in /Users/zhangyuchuan/Library/Python/3.9/lib/python/site-packages (from ipython>=6.1.0->ipywidgets) (5.1.1)\n",
      "Requirement already satisfied: prompt-toolkit<3.1.0,>=3.0.41 in /Users/zhangyuchuan/Library/Python/3.9/lib/python/site-packages (from ipython>=6.1.0->ipywidgets) (3.0.41)\n",
      "Requirement already satisfied: typing-extensions in /Users/zhangyuchuan/Library/Python/3.9/lib/python/site-packages (from ipython>=6.1.0->ipywidgets) (4.8.0)\n",
      "Requirement already satisfied: matplotlib-inline in /Users/zhangyuchuan/Library/Python/3.9/lib/python/site-packages (from ipython>=6.1.0->ipywidgets) (0.1.6)\n",
      "Requirement already satisfied: pexpect>4.3 in /Users/zhangyuchuan/Library/Python/3.9/lib/python/site-packages (from ipython>=6.1.0->ipywidgets) (4.9.0)\n",
      "Requirement already satisfied: parso<0.9.0,>=0.8.3 in /Users/zhangyuchuan/Library/Python/3.9/lib/python/site-packages (from jedi>=0.16->ipython>=6.1.0->ipywidgets) (0.8.3)\n",
      "Requirement already satisfied: ptyprocess>=0.5 in /Users/zhangyuchuan/Library/Python/3.9/lib/python/site-packages (from pexpect>4.3->ipython>=6.1.0->ipywidgets) (0.7.0)\n",
      "Requirement already satisfied: wcwidth in /Users/zhangyuchuan/Library/Python/3.9/lib/python/site-packages (from prompt-toolkit<3.1.0,>=3.0.41->ipython>=6.1.0->ipywidgets) (0.2.12)\n",
      "Requirement already satisfied: executing>=1.2.0 in /Users/zhangyuchuan/Library/Python/3.9/lib/python/site-packages (from stack-data->ipython>=6.1.0->ipywidgets) (2.0.1)\n",
      "Requirement already satisfied: pure-eval in /Users/zhangyuchuan/Library/Python/3.9/lib/python/site-packages (from stack-data->ipython>=6.1.0->ipywidgets) (0.2.2)\n",
      "Requirement already satisfied: asttokens>=2.1.0 in /Users/zhangyuchuan/Library/Python/3.9/lib/python/site-packages (from stack-data->ipython>=6.1.0->ipywidgets) (2.4.1)\n",
      "Requirement already satisfied: six>=1.12.0 in /Library/Developer/CommandLineTools/Library/Frameworks/Python3.framework/Versions/3.9/lib/python3.9/site-packages (from asttokens>=2.1.0->stack-data->ipython>=6.1.0->ipywidgets) (1.15.0)\n",
      "\u001b[33mWARNING: You are using pip version 21.2.4; however, version 24.3.1 is available.\n",
      "You should consider upgrading via the '/Library/Developer/CommandLineTools/usr/bin/python3 -m pip install --upgrade pip' command.\u001b[0m\n",
      "Note: you may need to restart the kernel to use updated packages.\n"
     ]
    }
   ],
   "source": [
    "pip install ipywidgets"
   ]
  },
  {
   "cell_type": "code",
   "execution_count": 65,
   "id": "fe260446",
   "metadata": {},
   "outputs": [
    {
     "name": "stdout",
     "output_type": "stream",
     "text": [
      "Defaulting to user installation because normal site-packages is not writeable\n",
      "Requirement already satisfied: holidays in /Users/zhangyuchuan/Library/Python/3.9/lib/python/site-packages (0.62)\n",
      "Requirement already satisfied: python-dateutil in /Users/zhangyuchuan/Library/Python/3.9/lib/python/site-packages (from holidays) (2.8.2)\n",
      "Requirement already satisfied: six>=1.5 in /Library/Developer/CommandLineTools/Library/Frameworks/Python3.framework/Versions/3.9/lib/python3.9/site-packages (from python-dateutil->holidays) (1.15.0)\n",
      "\u001b[33mWARNING: You are using pip version 21.2.4; however, version 24.3.1 is available.\n",
      "You should consider upgrading via the '/Library/Developer/CommandLineTools/usr/bin/python3 -m pip install --upgrade pip' command.\u001b[0m\n",
      "Note: you may need to restart the kernel to use updated packages.\n"
     ]
    }
   ],
   "source": [
    "pip install holidays"
   ]
  },
  {
   "cell_type": "code",
   "execution_count": 66,
   "id": "00bf5225",
   "metadata": {},
   "outputs": [],
   "source": [
    "import pandas as pd\n",
    "import json\n",
    "import time\n",
    "import numpy as np\n",
    "from IPython.display import display\n",
    "import ipywidgets as widgets\n",
    "import holidays"
   ]
  },
  {
   "cell_type": "code",
   "execution_count": 67,
   "id": "fb7b7477",
   "metadata": {},
   "outputs": [],
   "source": [
    "from sklearn.model_selection import train_test_split, KFold, cross_val_score\n",
    "from sklearn.linear_model import LinearRegression\n",
    "from sklearn.preprocessing import OneHotEncoder\n",
    "from sklearn.compose import ColumnTransformer\n",
    "from sklearn.pipeline import Pipeline\n",
    "from sklearn.model_selection import cross_val_score, train_test_split, GridSearchCV\n",
    "from sklearn.metrics import make_scorer, mean_squared_error, r2_score\n",
    "\n",
    "import seaborn as sns\n",
    "import matplotlib.pyplot as plt"
   ]
  },
  {
   "cell_type": "code",
   "execution_count": 74,
   "id": "3039ec8b",
   "metadata": {},
   "outputs": [
    {
     "name": "stderr",
     "output_type": "stream",
     "text": [
      "/var/folders/70/l8z4t_nn5zg7qcq462k9j1m00000gn/T/ipykernel_93411/2691692209.py:2: DtypeWarning: Columns (2,3,6,7,8,9,10,28) have mixed types. Specify dtype option on import or set low_memory=False.\n",
      "  df = pd.read_csv('/Users/zhangyuchuan/Downloads/allgenre_combined_df.csv')\n"
     ]
    },
    {
     "name": "stdout",
     "output_type": "stream",
     "text": [
      "Total filtered data size: 79691\n",
      "Training set size (including NaNs): 78682\n",
      "Testing set size (no NaNs): 1009\n"
     ]
    }
   ],
   "source": [
    "# Load data\n",
    "df = pd.read_csv('/Users/zhangyuchuan/Downloads/allgenre_combined_df.csv')\n",
    "# Filter the dataset without dropping NaN values (for training set)\n",
    "filtered_data = df[\n",
    "    (df['Year'] >= 2020) &\n",
    "    (~(df['Headliner'].str.contains('\"', na=False))) &\n",
    "    (df['Genre'] != 'Family Entertainment') &\n",
    "    (df['Ticket Price Min USD'] > 0) &\n",
    "    (df['Ticket Price Min USD'] < df['Ticket Price Max USD'])\n",
    "]\n",
    "\n",
    "# Filter the dataset with NaN rows dropped (for testing set)\n",
    "filtered_data_no_na = filtered_data.dropna()\n",
    "\n",
    "# Split 30% of the cleaned dataset (no NaNs) into the testing set\n",
    "_, test_data = train_test_split(filtered_data_no_na, test_size=0.3, random_state=42)\n",
    "\n",
    "# Ensure the training set is mutually exclusive by removing test rows from the original filtered dataset\n",
    "train_data = filtered_data.loc[~filtered_data.index.isin(test_data.index)]\n",
    "\n",
    "# Check the results\n",
    "print(f\"Total filtered data size: {len(filtered_data)}\")\n",
    "print(f\"Training set size (including NaNs): {len(train_data)}\")\n",
    "print(f\"Testing set size (no NaNs): {len(test_data)}\")\n",
    "\n",
    "# ADJUST THE TRAINING SET AS YOU NEED\n",
    "# Remember to check data availability\n",
    "# If you want to add additional columns, ensure they are added to both the training and testing data separately (do not modify the data selection)\n",
    "\n",
    "\n",
    "\n",
    "\n",
    "\n",
    "# APPLY ML MODEL, for example:\n",
    "# Extract features and target for the model\n",
    "feature_columns = ['Avg. Event Capacity', 'Ticket Price Min USD','Ticket Price Max USD','headliner_monthly_listeners'] \n",
    "X_train = train_data[feature_columns]\n",
    "y_train = train_data['Avg. Gross USD']"
   ]
  },
  {
   "cell_type": "code",
   "execution_count": 77,
   "id": "ba37ff52",
   "metadata": {},
   "outputs": [
    {
     "name": "stderr",
     "output_type": "stream",
     "text": [
      "/Users/zhangyuchuan/Library/Python/3.9/lib/python/site-packages/sklearn/metrics/_regression.py:483: FutureWarning: 'squared' is deprecated in version 1.4 and will be removed in 1.6. To calculate the root mean squared error, use the function'root_mean_squared_error'.\n",
      "  warnings.warn(\n",
      "/Users/zhangyuchuan/Library/Python/3.9/lib/python/site-packages/sklearn/metrics/_regression.py:483: FutureWarning: 'squared' is deprecated in version 1.4 and will be removed in 1.6. To calculate the root mean squared error, use the function'root_mean_squared_error'.\n",
      "  warnings.warn(\n",
      "/Users/zhangyuchuan/Library/Python/3.9/lib/python/site-packages/sklearn/metrics/_regression.py:483: FutureWarning: 'squared' is deprecated in version 1.4 and will be removed in 1.6. To calculate the root mean squared error, use the function'root_mean_squared_error'.\n",
      "  warnings.warn(\n",
      "/Users/zhangyuchuan/Library/Python/3.9/lib/python/site-packages/sklearn/metrics/_regression.py:483: FutureWarning: 'squared' is deprecated in version 1.4 and will be removed in 1.6. To calculate the root mean squared error, use the function'root_mean_squared_error'.\n",
      "  warnings.warn(\n",
      "/Users/zhangyuchuan/Library/Python/3.9/lib/python/site-packages/sklearn/metrics/_regression.py:483: FutureWarning: 'squared' is deprecated in version 1.4 and will be removed in 1.6. To calculate the root mean squared error, use the function'root_mean_squared_error'.\n",
      "  warnings.warn(\n"
     ]
    },
    {
     "name": "stdout",
     "output_type": "stream",
     "text": [
      "Random Forest Cross-validation RMSE scores: [202598, 159887, 173281, 160645, 199069]\n",
      "Random Forest Mean CV RMSE: 179096\n",
      "Random Forest Cross-validation R² scores: [0.916, 0.945, 0.944, 0.947, 0.939]\n",
      "Random Forest Mean CV R²: 0.938\n",
      "Random Forest Test R²: 0.946\n",
      "Random Forest Test RMSE: 153559.51\n"
     ]
    },
    {
     "name": "stderr",
     "output_type": "stream",
     "text": [
      "/Users/zhangyuchuan/Library/Python/3.9/lib/python/site-packages/sklearn/metrics/_regression.py:483: FutureWarning: 'squared' is deprecated in version 1.4 and will be removed in 1.6. To calculate the root mean squared error, use the function'root_mean_squared_error'.\n",
      "  warnings.warn(\n"
     ]
    }
   ],
   "source": [
    "from sklearn.ensemble import RandomForestRegressor\n",
    "\n",
    "# Initialize Random Forest Regressor\n",
    "rf_model = RandomForestRegressor(\n",
    "    n_estimators=100,  # Number of trees\n",
    "    max_depth=None,    # Maximum depth of the trees\n",
    "    random_state=42,   # For reproducibility\n",
    "    n_jobs=-1          # Use all available CPU cores\n",
    ")\n",
    "\n",
    "# CROSS VALIDATION\n",
    "# Set up cross-validation\n",
    "kf = KFold(n_splits=5, shuffle=True, random_state=42)\n",
    "\n",
    "# Perform cross-validation for RMSE\n",
    "cv_rmse_scores_rf = cross_val_score(rf_model, X_train, y_train, cv=kf, scoring=rmse_scorer)\n",
    "formatted_rmse_scores_rf = [int(round(-score)) for score in cv_rmse_scores_rf]  # Negate each score, round, and convert to integer\n",
    "mean_cv_rmse_rf = int(round(-np.mean(cv_rmse_scores_rf)))  # Negate the mean, round, and convert to integer\n",
    "print(\"Random Forest Cross-validation RMSE scores:\", formatted_rmse_scores_rf)\n",
    "print(\"Random Forest Mean CV RMSE:\", mean_cv_rmse_rf)\n",
    "\n",
    "# Perform cross-validation for R²\n",
    "cv_r2_scores_rf = cross_val_score(rf_model, X_train, y_train, cv=kf, scoring=r2_scorer)\n",
    "formatted_r2_scores_rf = [round(score, 3) for score in cv_r2_scores_rf] \n",
    "print(\"Random Forest Cross-validation R² scores:\", formatted_r2_scores_rf)\n",
    "print(\"Random Forest Mean CV R²:\", round(np.mean(cv_r2_scores_rf), 3))\n",
    "\n",
    "# TEST ON TESTING SET\n",
    "# Extract features and target for the testing data\n",
    "X_test = test_data[feature_columns]\n",
    "y_test = test_data['Avg. Gross USD']\n",
    "\n",
    "# Fit the model on the training data\n",
    "rf_model.fit(X_train, y_train)\n",
    "\n",
    "# Make predictions on the testing data\n",
    "y_pred_rf = rf_model.predict(X_test)\n",
    "\n",
    "# Calculate R²\n",
    "test_r2_rf = r2_score(y_test, y_pred_rf)\n",
    "print(f\"Random Forest Test R²: {test_r2_rf:.3f}\")\n",
    "\n",
    "# Calculate RMSE\n",
    "test_rmse_rf = mean_squared_error(y_test, y_pred_rf, squared=False)\n",
    "print(f\"Random Forest Test RMSE: {test_rmse_rf:.2f}\")\n",
    "\n"
   ]
  },
  {
   "cell_type": "code",
   "execution_count": null,
   "id": "570ed437",
   "metadata": {},
   "outputs": [],
   "source": []
  }
 ],
 "metadata": {
  "kernelspec": {
   "display_name": "Python 3",
   "language": "python",
   "name": "python3"
  },
  "language_info": {
   "codemirror_mode": {
    "name": "ipython",
    "version": 3
   },
   "file_extension": ".py",
   "mimetype": "text/x-python",
   "name": "python",
   "nbconvert_exporter": "python",
   "pygments_lexer": "ipython3",
   "version": "3.9.6"
  }
 },
 "nbformat": 4,
 "nbformat_minor": 5
}
