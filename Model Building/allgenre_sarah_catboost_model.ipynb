{
 "cells": [
  {
   "cell_type": "code",
   "execution_count": 1,
   "id": "110db6b6-2b74-427d-a54c-b39cdb09783b",
   "metadata": {},
   "outputs": [],
   "source": [
    "import pandas as pd\n",
    "import numpy as np\n",
    "import matplotlib.pyplot as plt\n",
    "\n",
    "from sklearn.model_selection import train_test_split\n",
    "from sklearn.model_selection import cross_val_score, RepeatedKFold\n",
    "from sklearn.metrics import mean_squared_error, root_mean_squared_error, mean_absolute_error, r2_score\n",
    "from sklearn.model_selection import GridSearchCV\n",
    "from sklearn.model_selection import RandomizedSearchCV\n",
    "from sklearn.model_selection import KFold\n",
    "\n",
    "from sklearn.utils import shuffle\n",
    "\n",
    "from catboost import CatBoostRegressor"
   ]
  },
  {
   "cell_type": "code",
   "execution_count": 2,
   "id": "4b588862-fc85-42e9-a107-467d3eb56beb",
   "metadata": {},
   "outputs": [
    {
     "name": "stderr",
     "output_type": "stream",
     "text": [
      "C:\\Users\\sarah\\AppData\\Local\\Temp\\ipykernel_14968\\4120974916.py:1: DtypeWarning: Columns (2,3,6,7,8,9,10,28) have mixed types. Specify dtype option on import or set low_memory=False.\n",
      "  df = pd.read_csv(\"data/combined_df.csv\")\n",
      "C:\\Users\\sarah\\AppData\\Local\\Temp\\ipykernel_14968\\4120974916.py:11: SettingWithCopyWarning: \n",
      "A value is trying to be set on a copy of a slice from a DataFrame.\n",
      "Try using .loc[row_indexer,col_indexer] = value instead\n",
      "\n",
      "See the caveats in the documentation: https://pandas.pydata.org/pandas-docs/stable/user_guide/indexing.html#returning-a-view-versus-a-copy\n",
      "  data['Event Date'] = pd.to_datetime(data['Event Date'])\n",
      "C:\\Users\\sarah\\AppData\\Local\\Temp\\ipykernel_14968\\4120974916.py:12: SettingWithCopyWarning: \n",
      "A value is trying to be set on a copy of a slice from a DataFrame.\n",
      "Try using .loc[row_indexer,col_indexer] = value instead\n",
      "\n",
      "See the caveats in the documentation: https://pandas.pydata.org/pandas-docs/stable/user_guide/indexing.html#returning-a-view-versus-a-copy\n",
      "  data['day_of_week'] = data['Event Date'].dt.day_of_week\n"
     ]
    },
    {
     "data": {
      "text/html": [
       "<div>\n",
       "<style scoped>\n",
       "    .dataframe tbody tr th:only-of-type {\n",
       "        vertical-align: middle;\n",
       "    }\n",
       "\n",
       "    .dataframe tbody tr th {\n",
       "        vertical-align: top;\n",
       "    }\n",
       "\n",
       "    .dataframe thead th {\n",
       "        text-align: right;\n",
       "    }\n",
       "</style>\n",
       "<table border=\"1\" class=\"dataframe\">\n",
       "  <thead>\n",
       "    <tr style=\"text-align: right;\">\n",
       "      <th></th>\n",
       "      <th>Event Date</th>\n",
       "      <th>Headliner</th>\n",
       "      <th>sp artist_name</th>\n",
       "      <th>sp artist_genre</th>\n",
       "      <th>sp followers</th>\n",
       "      <th>sp popularity</th>\n",
       "      <th>yt name</th>\n",
       "      <th>yt Channel ID</th>\n",
       "      <th>yt Title</th>\n",
       "      <th>yt Description</th>\n",
       "      <th>...</th>\n",
       "      <th>Genre</th>\n",
       "      <th>Avg. Tickets Sold</th>\n",
       "      <th>Avg. Gross USD</th>\n",
       "      <th>Avg. Event Capacity</th>\n",
       "      <th>Avg. Capacity Sold</th>\n",
       "      <th>Ticket Price Min USD</th>\n",
       "      <th>Ticket Price Max USD</th>\n",
       "      <th>Ticket Price Avg. USD</th>\n",
       "      <th>Month</th>\n",
       "      <th>day_of_week</th>\n",
       "    </tr>\n",
       "  </thead>\n",
       "  <tbody>\n",
       "    <tr>\n",
       "      <th>109068</th>\n",
       "      <td>2020-01-14</td>\n",
       "      <td>Leif Vollebekk</td>\n",
       "      <td>Leif Vollebekk</td>\n",
       "      <td>['canadian americana', 'indie anthem-folk', 'i...</td>\n",
       "      <td>124552.0</td>\n",
       "      <td>57.0</td>\n",
       "      <td>Leif Vollebekk</td>\n",
       "      <td>UCTX_L3Y3kxW_E3FPRfBUPzg</td>\n",
       "      <td>Leif Vollebekk</td>\n",
       "      <td>Official videos and live performances from Lei...</td>\n",
       "      <td>...</td>\n",
       "      <td>Pop / Rock</td>\n",
       "      <td>472.0</td>\n",
       "      <td>7128.0</td>\n",
       "      <td>472.0</td>\n",
       "      <td>100%</td>\n",
       "      <td>15.0</td>\n",
       "      <td>18.0</td>\n",
       "      <td>15.10</td>\n",
       "      <td>1</td>\n",
       "      <td>1</td>\n",
       "    </tr>\n",
       "    <tr>\n",
       "      <th>107394</th>\n",
       "      <td>2020-02-04</td>\n",
       "      <td>The Lumineers</td>\n",
       "      <td>The Lumineers</td>\n",
       "      <td>['folk-pop', 'modern rock', 'neo mellow', 'sto...</td>\n",
       "      <td>5504019.0</td>\n",
       "      <td>80.0</td>\n",
       "      <td>The Lumineers</td>\n",
       "      <td>UCB7P9Hr5BYB5Mkxau6t3Sgw</td>\n",
       "      <td>The Lumineers</td>\n",
       "      <td>The Lumineers Youtube Channel. \\nCheck us out ...</td>\n",
       "      <td>...</td>\n",
       "      <td>Pop / Rock</td>\n",
       "      <td>11427.0</td>\n",
       "      <td>607018.0</td>\n",
       "      <td>11427.0</td>\n",
       "      <td>100%</td>\n",
       "      <td>39.0</td>\n",
       "      <td>89.0</td>\n",
       "      <td>53.12</td>\n",
       "      <td>2</td>\n",
       "      <td>1</td>\n",
       "    </tr>\n",
       "    <tr>\n",
       "      <th>107410</th>\n",
       "      <td>2020-02-04</td>\n",
       "      <td>Mat Kearney</td>\n",
       "      <td>Mat Kearney</td>\n",
       "      <td>['acoustic pop', 'neo mellow']</td>\n",
       "      <td>481873.0</td>\n",
       "      <td>54.0</td>\n",
       "      <td>Mat Kearney</td>\n",
       "      <td>UC5__Uexru2WvNLuDc_v4y2g</td>\n",
       "      <td>Mat Kearney</td>\n",
       "      <td>http://matkearney.os.fan</td>\n",
       "      <td>...</td>\n",
       "      <td>Pop / Rock</td>\n",
       "      <td>974.0</td>\n",
       "      <td>40635.0</td>\n",
       "      <td>974.0</td>\n",
       "      <td>100%</td>\n",
       "      <td>32.5</td>\n",
       "      <td>52.5</td>\n",
       "      <td>41.72</td>\n",
       "      <td>2</td>\n",
       "      <td>1</td>\n",
       "    </tr>\n",
       "  </tbody>\n",
       "</table>\n",
       "<p>3 rows × 53 columns</p>\n",
       "</div>"
      ],
      "text/plain": [
       "       Event Date       Headliner  sp artist_name  \\\n",
       "109068 2020-01-14  Leif Vollebekk  Leif Vollebekk   \n",
       "107394 2020-02-04   The Lumineers   The Lumineers   \n",
       "107410 2020-02-04     Mat Kearney     Mat Kearney   \n",
       "\n",
       "                                          sp artist_genre  sp followers  \\\n",
       "109068  ['canadian americana', 'indie anthem-folk', 'i...      124552.0   \n",
       "107394  ['folk-pop', 'modern rock', 'neo mellow', 'sto...     5504019.0   \n",
       "107410                     ['acoustic pop', 'neo mellow']      481873.0   \n",
       "\n",
       "        sp popularity         yt name             yt Channel ID  \\\n",
       "109068           57.0  Leif Vollebekk  UCTX_L3Y3kxW_E3FPRfBUPzg   \n",
       "107394           80.0   The Lumineers  UCB7P9Hr5BYB5Mkxau6t3Sgw   \n",
       "107410           54.0     Mat Kearney  UC5__Uexru2WvNLuDc_v4y2g   \n",
       "\n",
       "              yt Title                                     yt Description  \\\n",
       "109068  Leif Vollebekk  Official videos and live performances from Lei...   \n",
       "107394   The Lumineers  The Lumineers Youtube Channel. \\nCheck us out ...   \n",
       "107410     Mat Kearney                           http://matkearney.os.fan   \n",
       "\n",
       "        ...       Genre  Avg. Tickets Sold  Avg. Gross USD  \\\n",
       "109068  ...  Pop / Rock              472.0          7128.0   \n",
       "107394  ...  Pop / Rock            11427.0        607018.0   \n",
       "107410  ...  Pop / Rock              974.0         40635.0   \n",
       "\n",
       "        Avg. Event Capacity  Avg. Capacity Sold  Ticket Price Min USD  \\\n",
       "109068                472.0                100%                  15.0   \n",
       "107394              11427.0                100%                  39.0   \n",
       "107410                974.0                100%                  32.5   \n",
       "\n",
       "        Ticket Price Max USD  Ticket Price Avg. USD  Month  day_of_week  \n",
       "109068                  18.0                  15.10      1            1  \n",
       "107394                  89.0                  53.12      2            1  \n",
       "107410                  52.5                  41.72      2            1  \n",
       "\n",
       "[3 rows x 53 columns]"
      ]
     },
     "execution_count": 2,
     "metadata": {},
     "output_type": "execute_result"
    }
   ],
   "source": [
    "df = pd.read_csv(\"data/combined_df.csv\")\n",
    "df = df[\n",
    "    (df['Year'] >= 2020) &\n",
    "    (~(df['Headliner'].str.contains('\"', na=False))) & \n",
    "    (df['Genre'] != 'Family Entertainment') &\n",
    "    (df['Ticket Price Min USD'] > 0) &\n",
    "    (df['Ticket Price Min USD'] < df['Ticket Price Max USD'])\n",
    "]\n",
    "data = df.dropna()\n",
    "\n",
    "data['Event Date'] = pd.to_datetime(data['Event Date'])\n",
    "data['day_of_week'] = data['Event Date'].dt.day_of_week\n",
    "data = data.sort_values(by='Year', ascending=True)\n",
    "data.head(3)"
   ]
  },
  {
   "cell_type": "code",
   "execution_count": 3,
   "id": "13838a9a-4310-4873-a8d7-2c55abda1a02",
   "metadata": {},
   "outputs": [],
   "source": [
    "top_20_markets = data['Market'].value_counts().iloc[:20].index\n",
    "one_hot_encoded = pd.get_dummies(data['Market'])\n",
    "one_hot_encoded = one_hot_encoded[top_20_markets]\n",
    "data = data.join(one_hot_encoded)"
   ]
  },
  {
   "cell_type": "markdown",
   "id": "a670d5d1-4b36-4410-ac78-6b343afd0751",
   "metadata": {},
   "source": [
    "## Model 1"
   ]
  },
  {
   "cell_type": "code",
   "execution_count": 4,
   "id": "6f0479bc-f64b-44db-af1e-0d6545df4045",
   "metadata": {},
   "outputs": [],
   "source": [
    "features = ['Avg. Event Capacity',\n",
    "            'Ticket Price Min USD', \n",
    "            'Ticket Price Max USD',\n",
    "            'Year',\n",
    "            'monthly_listeners',\n",
    "            'Month',\n",
    "            'day_of_week'] + list(top_20_markets)"
   ]
  },
  {
   "cell_type": "code",
   "execution_count": 5,
   "id": "39b7ee22-d501-4b77-bb46-dfcb83b6ea76",
   "metadata": {},
   "outputs": [],
   "source": [
    "X = data[features]\n",
    "y = data['Avg. Gross USD']\n",
    "X = X.dropna()\n",
    "y = y[X.index]\n",
    "y = np.log1p(y)"
   ]
  },
  {
   "cell_type": "code",
   "execution_count": 6,
   "id": "be9c6819-6bc4-4678-8482-c78f0eaa4b12",
   "metadata": {},
   "outputs": [
    {
     "name": "stdout",
     "output_type": "stream",
     "text": [
      "CatBoost Regressor Cross-Validation Performance:\n",
      "Cross-Validation RMSE: Mean = 0.43002777202880554\n",
      "Cross-Validation MAE: Mean = 0.3071378442688956\n",
      "Cross-Validation R^2: Mean = 0.9585438462931661\n"
     ]
    }
   ],
   "source": [
    "cat_model = CatBoostRegressor(loss_function='RMSE', verbose=0)\n",
    "\n",
    "rkf = RepeatedKFold(n_splits=5, n_repeats=30, random_state=42)\n",
    "\n",
    "cv_rmse = np.sqrt(-cross_val_score(cat_model, X, y, cv=rkf, scoring='neg_mean_squared_error'))\n",
    "cv_mae = -cross_val_score(cat_model, X, y, cv=rkf, scoring='neg_mean_absolute_error')\n",
    "cv_r2 = cross_val_score(cat_model, X, y, cv=rkf, scoring='r2')\n",
    "\n",
    "print(\"CatBoost Regressor Cross-Validation Performance:\")\n",
    "print(\"Cross-Validation RMSE: Mean =\", cv_rmse.mean())\n",
    "print(\"Cross-Validation MAE: Mean =\", cv_mae.mean())\n",
    "print(\"Cross-Validation R^2: Mean =\", cv_r2.mean())"
   ]
  },
  {
   "cell_type": "markdown",
   "id": "136b77d6-5fa0-48fa-8ec4-b109cab2b47c",
   "metadata": {},
   "source": [
    "## Model 2"
   ]
  },
  {
   "cell_type": "code",
   "execution_count": 18,
   "id": "d4a1a8ba-b1b2-43fb-ace3-2a0054b9a5b9",
   "metadata": {},
   "outputs": [],
   "source": [
    "features = ['Avg. Event Capacity',\n",
    "            'Ticket Price Min USD', \n",
    "            'Ticket Price Max USD',\n",
    "            'Year',\n",
    "            'monthly_listeners',\n",
    "            'Month',\n",
    "            'day_of_week',\n",
    "            'Number of Shows',\n",
    "            'Support_Total_Monthly_Listeners',\n",
    "            'Company Type',\n",
    "            'Market',\n",
    "            'Promoter'\n",
    "           ] + list(top_20_markets)"
   ]
  },
  {
   "cell_type": "code",
   "execution_count": 19,
   "id": "55dc4ab8-61e7-4540-8ee6-96f3d029df7f",
   "metadata": {},
   "outputs": [],
   "source": [
    "X = data[features]\n",
    "y = data['Avg. Gross USD']\n",
    "X = X.dropna()\n",
    "y = y[X.index]"
   ]
  },
  {
   "cell_type": "code",
   "execution_count": 20,
   "id": "d9f9b7f0-9d0c-4741-a698-35c66f73f2c9",
   "metadata": {},
   "outputs": [],
   "source": [
    "columns_to_convert = ['Year', 'Month', 'day_of_week']\n",
    "X[columns_to_convert] = X[columns_to_convert].astype(str)"
   ]
  },
  {
   "cell_type": "code",
   "execution_count": 21,
   "id": "d35b9e96-9a69-4234-b0c2-e79e9bc33a63",
   "metadata": {},
   "outputs": [
    {
     "name": "stdout",
     "output_type": "stream",
     "text": [
      "CatBoost Regressor Performance on Validation Set:\n",
      "RMSE: 192906.227086293\n",
      "MAE: 67337.75108903162\n",
      "R^2: 0.9282580136499265\n"
     ]
    }
   ],
   "source": [
    "X_train, X_val, y_train, y_val = train_test_split(X, y, test_size=0.2, random_state=42)\n",
    "\n",
    "cat_model = CatBoostRegressor(loss_function='RMSE', verbose=0, cat_features=['Company Type', 'Market', 'Promoter'])\n",
    "cat_model.fit(X_train, y_train)\n",
    "\n",
    "y_pred = cat_model.predict(X_val)\n",
    "\n",
    "rmse = root_mean_squared_error(y_val, y_pred)\n",
    "mae = mean_absolute_error(y_val, y_pred)\n",
    "r2 = r2_score(y_val, y_pred)\n",
    "\n",
    "print(\"CatBoost Regressor Performance on Validation Set:\")\n",
    "print(f\"RMSE: {rmse}\")\n",
    "print(f\"MAE: {mae}\")\n",
    "print(f\"R^2: {r2}\")"
   ]
  },
  {
   "cell_type": "code",
   "execution_count": 22,
   "id": "99143901-68d9-454c-ab76-25c391403538",
   "metadata": {},
   "outputs": [
    {
     "data": {
      "text/plain": [
       "array([4.50099529e+01, 1.20536311e+01, 1.20451240e+01, 3.34012554e+00,\n",
       "       1.09210110e+01, 9.41127500e-01, 1.27336842e+00, 2.35152070e-01,\n",
       "       0.00000000e+00, 1.14433861e+01, 8.54354489e-01, 2.68450935e-01,\n",
       "       8.05833957e-01, 0.00000000e+00, 1.87878573e-02, 1.50542585e-03,\n",
       "       3.03732239e-04, 1.26844157e-04, 1.20040706e-02, 3.68630776e-01,\n",
       "       6.92977054e-02, 3.03848997e-03, 2.89448487e-02, 2.66093911e-02,\n",
       "       4.04599752e-02, 4.50354927e-02, 0.00000000e+00, 2.16261489e-02,\n",
       "       3.77014540e-02, 6.12911206e-03, 0.00000000e+00, 1.28280765e-01])"
      ]
     },
     "execution_count": 22,
     "metadata": {},
     "output_type": "execute_result"
    }
   ],
   "source": [
    "cat_model.get_feature_importance()"
   ]
  },
  {
   "cell_type": "code",
   "execution_count": 23,
   "id": "b8e581e4-b9cd-4c69-8153-1926b40176dc",
   "metadata": {},
   "outputs": [
    {
     "data": {
      "image/png": "[encoded data removed]",
      "text/plain": [
       "<Figure size 1000x600 with 1 Axes>"
      ]
     },
     "metadata": {},
     "output_type": "display_data"
    }
   ],
   "source": [
    "# Map features to their importance\n",
    "feature_names = features  # Use the same order as in your data\n",
    "importance_scores = cat_model.feature_importances_\n",
    "\n",
    "# Sort by importance\n",
    "sorted_indices = np.argsort(importance_scores)[::-1]\n",
    "sorted_features = [feature_names[i] for i in sorted_indices]\n",
    "sorted_importance = importance_scores[sorted_indices]\n",
    "\n",
    "# Plot\n",
    "plt.figure(figsize=(10, 6))\n",
    "plt.barh(sorted_features, sorted_importance, color='skyblue')\n",
    "plt.xlabel('Feature Importance')\n",
    "plt.ylabel('Feature')\n",
    "plt.title('Feature Importance of CatBoost Model')\n",
    "plt.gca().invert_yaxis()\n",
    "plt.show()"
   ]
  },
  {
   "cell_type": "markdown",
   "id": "fa586b0f-6826-4e05-8d6e-7312e0c47f62",
   "metadata": {},
   "source": [
    "### Repeat with Cross Validation"
   ]
  },
  {
   "cell_type": "code",
   "execution_count": 13,
   "id": "245ebd91-ee6b-4cdb-8e49-5a7e8196feea",
   "metadata": {
    "scrolled": true
   },
   "outputs": [
    {
     "name": "stderr",
     "output_type": "stream",
     "text": [
      "C:\\Users\\sarah\\AppData\\Local\\Programs\\Python\\Python311\\Lib\\site-packages\\sklearn\\metrics\\_regression.py:483: FutureWarning: 'squared' is deprecated in version 1.4 and will be removed in 1.6. To calculate the root mean squared error, use the function'root_mean_squared_error'.\n",
      "  warnings.warn(\n",
      "C:\\Users\\sarah\\AppData\\Local\\Programs\\Python\\Python311\\Lib\\site-packages\\sklearn\\metrics\\_regression.py:483: FutureWarning: 'squared' is deprecated in version 1.4 and will be removed in 1.6. To calculate the root mean squared error, use the function'root_mean_squared_error'.\n",
      "  warnings.warn(\n",
      "C:\\Users\\sarah\\AppData\\Local\\Programs\\Python\\Python311\\Lib\\site-packages\\sklearn\\metrics\\_regression.py:483: FutureWarning: 'squared' is deprecated in version 1.4 and will be removed in 1.6. To calculate the root mean squared error, use the function'root_mean_squared_error'.\n",
      "  warnings.warn(\n",
      "C:\\Users\\sarah\\AppData\\Local\\Programs\\Python\\Python311\\Lib\\site-packages\\sklearn\\metrics\\_regression.py:483: FutureWarning: 'squared' is deprecated in version 1.4 and will be removed in 1.6. To calculate the root mean squared error, use the function'root_mean_squared_error'.\n",
      "  warnings.warn(\n"
     ]
    },
    {
     "name": "stdout",
     "output_type": "stream",
     "text": [
      "CatBoost Regressor K-Fold Cross-Validation Performance:\n",
      "Average RMSE: 0.4253131866286872\n",
      "Average MAE: 0.30474158587067085\n",
      "Average R^2: 0.9595119744403453\n"
     ]
    },
    {
     "name": "stderr",
     "output_type": "stream",
     "text": [
      "C:\\Users\\sarah\\AppData\\Local\\Programs\\Python\\Python311\\Lib\\site-packages\\sklearn\\metrics\\_regression.py:483: FutureWarning: 'squared' is deprecated in version 1.4 and will be removed in 1.6. To calculate the root mean squared error, use the function'root_mean_squared_error'.\n",
      "  warnings.warn(\n"
     ]
    }
   ],
   "source": [
    "# Initialize the model\n",
    "cat_model = CatBoostRegressor(loss_function='RMSE', verbose=0, cat_features=['day_of_week', 'Month', 'Company Type', 'Market', 'Promoter'])\n",
    "\n",
    "# K-Fold Cross-Validation\n",
    "kf = KFold(n_splits=5, shuffle=True, random_state=8)\n",
    "rmse_scores = []\n",
    "mae_scores = []\n",
    "r2_scores = []\n",
    "\n",
    "for train_index, val_index in kf.split(X):\n",
    "    X_train, X_val = X.iloc[train_index], X.iloc[val_index]\n",
    "    y_train, y_val = y.iloc[train_index], y.iloc[val_index]\n",
    "    \n",
    "    # Train the model\n",
    "    cat_model.fit(X_train, y_train)\n",
    "    \n",
    "    # Predict on the validation set\n",
    "    y_pred = cat_model.predict(X_val)\n",
    "    \n",
    "    # Compute metrics\n",
    "    rmse_scores.append(mean_squared_error(y_val, y_pred, squared=False))\n",
    "    mae_scores.append(mean_absolute_error(y_val, y_pred))\n",
    "    r2_scores.append(r2_score(y_val, y_pred))\n",
    "\n",
    "# Calculate average metrics\n",
    "avg_rmse = np.mean(rmse_scores)\n",
    "avg_mae = np.mean(mae_scores)\n",
    "avg_r2 = np.mean(r2_scores)\n",
    "\n",
    "print(\"CatBoost Regressor K-Fold Cross-Validation Performance:\")\n",
    "print(f\"Average RMSE: {avg_rmse}\")\n",
    "print(f\"Average MAE: {avg_mae}\")\n",
    "print(f\"Average R^2: {avg_r2}\")"
   ]
  },
  {
   "cell_type": "markdown",
   "id": "bbc3afe2-b7ef-4b4a-82d7-da0d97e7532a",
   "metadata": {},
   "source": [
    "### TimeSeries Split"
   ]
  },
  {
   "cell_type": "code",
   "execution_count": 14,
   "id": "c9dd7cb5-7858-4274-a19d-d4f0b4f1e707",
   "metadata": {},
   "outputs": [
    {
     "name": "stdout",
     "output_type": "stream",
     "text": [
      "Time-Series Cross-Validation Results:\n"
     ]
    },
    {
     "name": "stderr",
     "output_type": "stream",
     "text": [
      "C:\\Users\\sarah\\AppData\\Local\\Programs\\Python\\Python311\\Lib\\site-packages\\sklearn\\metrics\\_regression.py:483: FutureWarning: 'squared' is deprecated in version 1.4 and will be removed in 1.6. To calculate the root mean squared error, use the function'root_mean_squared_error'.\n",
      "  warnings.warn(\n"
     ]
    },
    {
     "name": "stdout",
     "output_type": "stream",
     "text": [
      "  Split 1: RMSE = 0.5342, MAE = 0.3946, R^2 = 0.9183\n"
     ]
    },
    {
     "name": "stderr",
     "output_type": "stream",
     "text": [
      "C:\\Users\\sarah\\AppData\\Local\\Programs\\Python\\Python311\\Lib\\site-packages\\sklearn\\metrics\\_regression.py:483: FutureWarning: 'squared' is deprecated in version 1.4 and will be removed in 1.6. To calculate the root mean squared error, use the function'root_mean_squared_error'.\n",
      "  warnings.warn(\n"
     ]
    },
    {
     "name": "stdout",
     "output_type": "stream",
     "text": [
      "  Split 2: RMSE = 0.4398, MAE = 0.3354, R^2 = 0.9471\n"
     ]
    },
    {
     "name": "stderr",
     "output_type": "stream",
     "text": [
      "C:\\Users\\sarah\\AppData\\Local\\Programs\\Python\\Python311\\Lib\\site-packages\\sklearn\\metrics\\_regression.py:483: FutureWarning: 'squared' is deprecated in version 1.4 and will be removed in 1.6. To calculate the root mean squared error, use the function'root_mean_squared_error'.\n",
      "  warnings.warn(\n"
     ]
    },
    {
     "name": "stdout",
     "output_type": "stream",
     "text": [
      "  Split 3: RMSE = 0.4681, MAE = 0.3473, R^2 = 0.9506\n"
     ]
    },
    {
     "name": "stderr",
     "output_type": "stream",
     "text": [
      "C:\\Users\\sarah\\AppData\\Local\\Programs\\Python\\Python311\\Lib\\site-packages\\sklearn\\metrics\\_regression.py:483: FutureWarning: 'squared' is deprecated in version 1.4 and will be removed in 1.6. To calculate the root mean squared error, use the function'root_mean_squared_error'.\n",
      "  warnings.warn(\n"
     ]
    },
    {
     "name": "stdout",
     "output_type": "stream",
     "text": [
      "  Split 4: RMSE = 0.4442, MAE = 0.3210, R^2 = 0.9557\n",
      "  Split 5: RMSE = 0.4340, MAE = 0.3050, R^2 = 0.9590\n",
      "\n",
      "Average Performance Across Splits:\n",
      "  Average RMSE: 0.4640\n",
      "  Average MAE: 0.3406\n",
      "  Average R^2: 0.9461\n"
     ]
    },
    {
     "name": "stderr",
     "output_type": "stream",
     "text": [
      "C:\\Users\\sarah\\AppData\\Local\\Programs\\Python\\Python311\\Lib\\site-packages\\sklearn\\metrics\\_regression.py:483: FutureWarning: 'squared' is deprecated in version 1.4 and will be removed in 1.6. To calculate the root mean squared error, use the function'root_mean_squared_error'.\n",
      "  warnings.warn(\n"
     ]
    }
   ],
   "source": [
    "from sklearn.model_selection import TimeSeriesSplit\n",
    "from sklearn.metrics import mean_squared_error, mean_absolute_error, r2_score\n",
    "import numpy as np\n",
    "\n",
    "# Initialize TimeSeriesSplit\n",
    "tscv = TimeSeriesSplit(n_splits=5)\n",
    "\n",
    "# Lists to store results for each split\n",
    "rmse_scores = []\n",
    "mae_scores = []\n",
    "r2_scores = []\n",
    "\n",
    "# Loop through splits\n",
    "print(\"Time-Series Cross-Validation Results:\")\n",
    "for i, (train_index, test_index) in enumerate(tscv.split(X)):\n",
    "    # Split the data\n",
    "    X_train, X_val = X.iloc[train_index], X.iloc[test_index]\n",
    "    y_train, y_val = y.iloc[train_index], y.iloc[test_index]\n",
    "    \n",
    "    # Train the model\n",
    "    cat_model = CatBoostRegressor(loss_function='RMSE', verbose=0, cat_features=['Company Type', 'Market', 'Promoter'])\n",
    "    cat_model.fit(X_train, y_train)\n",
    "    \n",
    "    # Predict on validation set\n",
    "    y_pred = cat_model.predict(X_val)\n",
    "    \n",
    "    # Calculate metrics\n",
    "    rmse = mean_squared_error(y_val, y_pred, squared=False)\n",
    "    mae = mean_absolute_error(y_val, y_pred)\n",
    "    r2 = r2_score(y_val, y_pred)\n",
    "    \n",
    "    # Append metrics to lists\n",
    "    rmse_scores.append(rmse)\n",
    "    mae_scores.append(mae)\n",
    "    r2_scores.append(r2)\n",
    "    \n",
    "    # Print metrics for this split\n",
    "    print(f\"  Split {i + 1}: RMSE = {rmse:.4f}, MAE = {mae:.4f}, R^2 = {r2:.4f}\")\n",
    "\n",
    "# Calculate and print averages\n",
    "print(\"\\nAverage Performance Across Splits:\")\n",
    "print(f\"  Average RMSE: {np.mean(rmse_scores):.4f}\")\n",
    "print(f\"  Average MAE: {np.mean(mae_scores):.4f}\")\n",
    "print(f\"  Average R^2: {np.mean(r2_scores):.4f}\")\n"
   ]
  },
  {
   "cell_type": "code",
   "execution_count": null,
   "id": "4376c079-40a9-4972-9985-55a2ff90c35f",
   "metadata": {},
   "outputs": [],
   "source": []
  }
 ],
 "metadata": {
  "kernelspec": {
   "display_name": "Python 3 (ipykernel)",
   "language": "python",
   "name": "python3"
  },
  "language_info": {
   "codemirror_mode": {
    "name": "ipython",
    "version": 3
   },
   "file_extension": ".py",
   "mimetype": "text/x-python",
   "name": "python",
   "nbconvert_exporter": "python",
   "pygments_lexer": "ipython3",
   "version": "3.11.8"
  }
 },
 "nbformat": 4,
 "nbformat_minor": 5
}
