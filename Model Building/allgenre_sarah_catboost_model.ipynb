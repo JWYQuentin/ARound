{
 "cells": [
  {
   "cell_type": "code",
   "execution_count": 1,
   "id": "110db6b6-2b74-427d-a54c-b39cdb09783b",
   "metadata": {},
   "outputs": [],
   "source": [
    "import pandas as pd\n",
    "import numpy as np\n",
    "import matplotlib.pyplot as plt\n",
    "\n",
    "from sklearn.model_selection import train_test_split\n",
    "from sklearn.model_selection import cross_val_score, RepeatedKFold\n",
    "from sklearn.metrics import mean_squared_error, root_mean_squared_error, mean_absolute_error, r2_score\n",
    "from sklearn.model_selection import GridSearchCV\n",
    "from sklearn.model_selection import RandomizedSearchCV\n",
    "from sklearn.model_selection import KFold\n",
    "\n",
    "from sklearn.utils import shuffle\n",
    "\n",
    "from catboost import CatBoostRegressor"
   ]
  },
  {
   "cell_type": "code",
   "execution_count": 2,
   "id": "540004c7-d970-4cd6-b922-cbbc64d5becc",
   "metadata": {},
   "outputs": [
    {
     "name": "stderr",
     "output_type": "stream",
     "text": [
      "C:\\Users\\sarah\\AppData\\Local\\Temp\\ipykernel_28304\\3837815048.py:1: DtypeWarning: Columns (2,3,6,7,8,9,10,28) have mixed types. Specify dtype option on import or set low_memory=False.\n",
      "  data = pd.read_csv('data/combined_df.csv')\n"
     ]
    },
    {
     "data": {
      "text/html": [
       "<div>\n",
       "<style scoped>\n",
       "    .dataframe tbody tr th:only-of-type {\n",
       "        vertical-align: middle;\n",
       "    }\n",
       "\n",
       "    .dataframe tbody tr th {\n",
       "        vertical-align: top;\n",
       "    }\n",
       "\n",
       "    .dataframe thead th {\n",
       "        text-align: right;\n",
       "    }\n",
       "</style>\n",
       "<table border=\"1\" class=\"dataframe\">\n",
       "  <thead>\n",
       "    <tr style=\"text-align: right;\">\n",
       "      <th></th>\n",
       "      <th>Event Date</th>\n",
       "      <th>Headliner</th>\n",
       "      <th>sp artist_name</th>\n",
       "      <th>sp artist_genre</th>\n",
       "      <th>sp followers</th>\n",
       "      <th>sp popularity</th>\n",
       "      <th>yt name</th>\n",
       "      <th>yt Channel ID</th>\n",
       "      <th>yt Title</th>\n",
       "      <th>yt Description</th>\n",
       "      <th>...</th>\n",
       "      <th>Genre</th>\n",
       "      <th>Avg. Tickets Sold</th>\n",
       "      <th>Avg. Gross USD</th>\n",
       "      <th>Avg. Event Capacity</th>\n",
       "      <th>Avg. Capacity Sold</th>\n",
       "      <th>Ticket Price Min USD</th>\n",
       "      <th>Ticket Price Max USD</th>\n",
       "      <th>Ticket Price Avg. USD</th>\n",
       "      <th>Month</th>\n",
       "      <th>day_of_week</th>\n",
       "    </tr>\n",
       "  </thead>\n",
       "  <tbody>\n",
       "    <tr>\n",
       "      <th>109682</th>\n",
       "      <td>2020-01-01</td>\n",
       "      <td>\"Hangover Ball\"</td>\n",
       "      <td>NaN</td>\n",
       "      <td>NaN</td>\n",
       "      <td>NaN</td>\n",
       "      <td>NaN</td>\n",
       "      <td>NaN</td>\n",
       "      <td>NaN</td>\n",
       "      <td>NaN</td>\n",
       "      <td>NaN</td>\n",
       "      <td>...</td>\n",
       "      <td>Pop / Rock</td>\n",
       "      <td>1119.0</td>\n",
       "      <td>26255.00</td>\n",
       "      <td>1700.0</td>\n",
       "      <td>65%</td>\n",
       "      <td>22.0</td>\n",
       "      <td>42.00</td>\n",
       "      <td>23.46</td>\n",
       "      <td>1</td>\n",
       "      <td>2</td>\n",
       "    </tr>\n",
       "    <tr>\n",
       "      <th>105467</th>\n",
       "      <td>2020-02-22</td>\n",
       "      <td>\"Lit AF Tour\"</td>\n",
       "      <td>NaN</td>\n",
       "      <td>NaN</td>\n",
       "      <td>NaN</td>\n",
       "      <td>NaN</td>\n",
       "      <td>NaN</td>\n",
       "      <td>NaN</td>\n",
       "      <td>NaN</td>\n",
       "      <td>NaN</td>\n",
       "      <td>...</td>\n",
       "      <td>Comedy</td>\n",
       "      <td>8154.0</td>\n",
       "      <td>640687.00</td>\n",
       "      <td>20000.0</td>\n",
       "      <td>40%</td>\n",
       "      <td>45.0</td>\n",
       "      <td>150.00</td>\n",
       "      <td>78.57</td>\n",
       "      <td>2</td>\n",
       "      <td>5</td>\n",
       "    </tr>\n",
       "    <tr>\n",
       "      <th>105446</th>\n",
       "      <td>2020-02-22</td>\n",
       "      <td>\"Winter Jam\"</td>\n",
       "      <td>NaN</td>\n",
       "      <td>NaN</td>\n",
       "      <td>NaN</td>\n",
       "      <td>NaN</td>\n",
       "      <td>NaN</td>\n",
       "      <td>NaN</td>\n",
       "      <td>NaN</td>\n",
       "      <td>NaN</td>\n",
       "      <td>...</td>\n",
       "      <td>Christian, Pop / Rock</td>\n",
       "      <td>8771.0</td>\n",
       "      <td>204841.18</td>\n",
       "      <td>12950.0</td>\n",
       "      <td>67%</td>\n",
       "      <td>15.0</td>\n",
       "      <td>49.99</td>\n",
       "      <td>23.35</td>\n",
       "      <td>2</td>\n",
       "      <td>5</td>\n",
       "    </tr>\n",
       "  </tbody>\n",
       "</table>\n",
       "<p>3 rows × 53 columns</p>\n",
       "</div>"
      ],
      "text/plain": [
       "       Event Date        Headliner sp artist_name sp artist_genre  \\\n",
       "109682 2020-01-01  \"Hangover Ball\"            NaN             NaN   \n",
       "105467 2020-02-22    \"Lit AF Tour\"            NaN             NaN   \n",
       "105446 2020-02-22     \"Winter Jam\"            NaN             NaN   \n",
       "\n",
       "        sp followers  sp popularity yt name yt Channel ID yt Title  \\\n",
       "109682           NaN            NaN     NaN           NaN      NaN   \n",
       "105467           NaN            NaN     NaN           NaN      NaN   \n",
       "105446           NaN            NaN     NaN           NaN      NaN   \n",
       "\n",
       "       yt Description  ...                  Genre  Avg. Tickets Sold  \\\n",
       "109682            NaN  ...             Pop / Rock             1119.0   \n",
       "105467            NaN  ...                 Comedy             8154.0   \n",
       "105446            NaN  ...  Christian, Pop / Rock             8771.0   \n",
       "\n",
       "        Avg. Gross USD  Avg. Event Capacity  Avg. Capacity Sold  \\\n",
       "109682        26255.00               1700.0                 65%   \n",
       "105467       640687.00              20000.0                 40%   \n",
       "105446       204841.18              12950.0                 67%   \n",
       "\n",
       "        Ticket Price Min USD  Ticket Price Max USD  Ticket Price Avg. USD  \\\n",
       "109682                  22.0                 42.00                  23.46   \n",
       "105467                  45.0                150.00                  78.57   \n",
       "105446                  15.0                 49.99                  23.35   \n",
       "\n",
       "        Month  day_of_week  \n",
       "109682      1            2  \n",
       "105467      2            5  \n",
       "105446      2            5  \n",
       "\n",
       "[3 rows x 53 columns]"
      ]
     },
     "execution_count": 2,
     "metadata": {},
     "output_type": "execute_result"
    }
   ],
   "source": [
    "data = pd.read_csv('data/combined_df.csv')\n",
    "data = data[\n",
    "    (data['Year'] >= 2020) &\n",
    "    (data['Headliner'].str.contains('\"', na=False)) &\n",
    "    (~data['Support'].isna()) &\n",
    "    (data['Genre'] != 'Family Entertainment')\n",
    "  ]\n",
    "data['Event Date'] = pd.to_datetime(data['Event Date'])\n",
    "data['day_of_week'] = data['Event Date'].dt.day_of_week\n",
    "data = data.sort_values(by='Year', ascending=True)\n",
    "data.head(3)"
   ]
  },
  {
   "cell_type": "code",
   "execution_count": 3,
   "id": "c2b42b50-5a56-46fd-b71b-7d190860240e",
   "metadata": {},
   "outputs": [
    {
     "name": "stdout",
     "output_type": "stream",
     "text": [
      "Missing sp data: 2258 rows\n",
      "Missing population data: 2258 rows\n",
      "Missing yt data: 2265 rows\n",
      "Missing monthly listeners data: 213 rows\n"
     ]
    }
   ],
   "source": [
    "# check for missing values\n",
    "print(f'Missing sp data: {sum(data[\"sp followers\"].isna())} rows')\n",
    "print(f'Missing population data: {sum(data[\"Total population\"].isna())} rows')\n",
    "print(f'Missing yt data: {sum(data[\"yt Subscriber Count\"].isna())} rows')\n",
    "print(f'Missing monthly listeners data: {sum(data[\"monthly_listeners\"].isna())} rows')"
   ]
  },
  {
   "cell_type": "code",
   "execution_count": 4,
   "id": "13838a9a-4310-4873-a8d7-2c55abda1a02",
   "metadata": {},
   "outputs": [],
   "source": [
    "top_20_markets = data['Market'].value_counts().iloc[:20].index\n",
    "one_hot_encoded = pd.get_dummies(data['Market'])\n",
    "one_hot_encoded = one_hot_encoded[top_20_markets]\n",
    "data = data.join(one_hot_encoded)"
   ]
  },
  {
   "cell_type": "markdown",
   "id": "a670d5d1-4b36-4410-ac78-6b343afd0751",
   "metadata": {},
   "source": [
    "## Model 1"
   ]
  },
  {
   "cell_type": "code",
   "execution_count": 13,
   "id": "6f0479bc-f64b-44db-af1e-0d6545df4045",
   "metadata": {},
   "outputs": [],
   "source": [
    "features = ['Avg. Event Capacity',\n",
    "            'Ticket Price Min USD', \n",
    "            'Ticket Price Max USD',\n",
    "            'Year',\n",
    "            'monthly_listeners',\n",
    "            'Month',\n",
    "            'day_of_week'] + list(top_20_markets)"
   ]
  },
  {
   "cell_type": "code",
   "execution_count": 14,
   "id": "39b7ee22-d501-4b77-bb46-dfcb83b6ea76",
   "metadata": {},
   "outputs": [],
   "source": [
    "X = data[features]\n",
    "y = data['Avg. Gross USD']\n",
    "X = X.dropna()\n",
    "y = y[X.index]"
   ]
  },
  {
   "cell_type": "code",
   "execution_count": 15,
   "id": "be9c6819-6bc4-4678-8482-c78f0eaa4b12",
   "metadata": {},
   "outputs": [
    {
     "name": "stdout",
     "output_type": "stream",
     "text": [
      "CatBoost Regressor Cross-Validation Performance:\n",
      "Cross-Validation RMSE: Mean = 326338.8421348717\n",
      "Cross-Validation MAE: Mean = 114481.7431404035\n",
      "Cross-Validation R^2: Mean = 0.846287926131925\n"
     ]
    }
   ],
   "source": [
    "cat_model = CatBoostRegressor(loss_function='RMSE', verbose=0)\n",
    "\n",
    "rkf = RepeatedKFold(n_splits=5, n_repeats=30, random_state=42)\n",
    "\n",
    "cv_rmse = np.sqrt(-cross_val_score(cat_model, X, y, cv=rkf, scoring='neg_mean_squared_error'))\n",
    "cv_mae = -cross_val_score(cat_model, X, y, cv=rkf, scoring='neg_mean_absolute_error')\n",
    "cv_r2 = cross_val_score(cat_model, X, y, cv=rkf, scoring='r2')\n",
    "\n",
    "print(\"CatBoost Regressor Cross-Validation Performance:\")\n",
    "print(\"Cross-Validation RMSE: Mean =\", cv_rmse.mean())\n",
    "print(\"Cross-Validation MAE: Mean =\", cv_mae.mean())\n",
    "print(\"Cross-Validation R^2: Mean =\", cv_r2.mean())"
   ]
  },
  {
   "cell_type": "markdown",
   "id": "136b77d6-5fa0-48fa-8ec4-b109cab2b47c",
   "metadata": {},
   "source": [
    "## Model 2"
   ]
  },
  {
   "cell_type": "code",
   "execution_count": 5,
   "id": "d4a1a8ba-b1b2-43fb-ace3-2a0054b9a5b9",
   "metadata": {},
   "outputs": [],
   "source": [
    "features = ['Avg. Event Capacity',\n",
    "            'Ticket Price Min USD', \n",
    "            'Ticket Price Max USD',\n",
    "            'Year',\n",
    "            'monthly_listeners',\n",
    "            'Month',\n",
    "            'day_of_week',\n",
    "            'Number of Shows',\n",
    "            'Support_Total_Monthly_Listeners',\n",
    "            'Company Type',\n",
    "            'Market',\n",
    "            'Promoter'\n",
    "           ] + list(top_20_markets)"
   ]
  },
  {
   "cell_type": "code",
   "execution_count": 6,
   "id": "55dc4ab8-61e7-4540-8ee6-96f3d029df7f",
   "metadata": {},
   "outputs": [],
   "source": [
    "X = data[features]\n",
    "y = data['Avg. Gross USD']\n",
    "X = X.dropna()\n",
    "y = y[X.index]"
   ]
  },
  {
   "cell_type": "code",
   "execution_count": 7,
   "id": "d9f9b7f0-9d0c-4741-a698-35c66f73f2c9",
   "metadata": {},
   "outputs": [],
   "source": [
    "columns_to_convert = ['Year', 'Month', 'day_of_week']\n",
    "X[columns_to_convert] = X[columns_to_convert].astype(str)"
   ]
  },
  {
   "cell_type": "code",
   "execution_count": 8,
   "id": "d35b9e96-9a69-4234-b0c2-e79e9bc33a63",
   "metadata": {},
   "outputs": [
    {
     "name": "stdout",
     "output_type": "stream",
     "text": [
      "CatBoost Regressor Performance on Validation Set:\n",
      "RMSE: 316971.21158563363\n",
      "MAE: 122700.40897422296\n",
      "R^2: 0.9046533108678646\n"
     ]
    }
   ],
   "source": [
    "X_train, X_val, y_train, y_val = train_test_split(X, y, test_size=0.2, random_state=42)\n",
    "\n",
    "cat_model = CatBoostRegressor(loss_function='RMSE', verbose=0, cat_features=['Company Type', 'Market', 'Promoter'])\n",
    "cat_model.fit(X_train, y_train)\n",
    "\n",
    "y_pred = cat_model.predict(X_val)\n",
    "\n",
    "rmse = root_mean_squared_error(y_val, y_pred)\n",
    "mae = mean_absolute_error(y_val, y_pred)\n",
    "r2 = r2_score(y_val, y_pred)\n",
    "\n",
    "print(\"CatBoost Regressor Performance on Validation Set:\")\n",
    "print(f\"RMSE: {rmse}\")\n",
    "print(f\"MAE: {mae}\")\n",
    "print(f\"R^2: {r2}\")"
   ]
  },
  {
   "cell_type": "code",
   "execution_count": 9,
   "id": "99143901-68d9-454c-ab76-25c391403538",
   "metadata": {},
   "outputs": [
    {
     "data": {
      "text/plain": [
       "array([5.08754915e+01, 1.68080651e+01, 9.26747837e+00, 1.53734742e+00,\n",
       "       4.50352099e+00, 1.53939980e+00, 3.84981485e+00, 1.14135858e+00,\n",
       "       5.23143213e+00, 2.63964899e+00, 7.36539145e-01, 7.59550769e-01,\n",
       "       4.65730532e-01, 1.33423842e-01, 2.56825945e-02, 8.66272397e-04,\n",
       "       1.39135552e-01, 2.01180879e-02, 8.20765126e-03, 1.31443729e-02,\n",
       "       7.43811610e-03, 9.47745376e-03, 1.43174756e-02, 6.11784890e-02,\n",
       "       0.00000000e+00, 8.66850321e-02, 1.84761432e-02, 3.72747017e-02,\n",
       "       2.59027289e-03, 4.59939024e-02, 1.27757573e-02, 7.83610979e-03])"
      ]
     },
     "execution_count": 9,
     "metadata": {},
     "output_type": "execute_result"
    }
   ],
   "source": [
    "cat_model.get_feature_importance()"
   ]
  },
  {
   "cell_type": "code",
   "execution_count": 10,
   "id": "b8e581e4-b9cd-4c69-8153-1926b40176dc",
   "metadata": {},
   "outputs": [
    {
     "data": {
      "image/png": "[encoded data removed]",
      "text/plain": [
       "<Figure size 1000x600 with 1 Axes>"
      ]
     },
     "metadata": {},
     "output_type": "display_data"
    }
   ],
   "source": [
    "# Map features to their importance\n",
    "feature_names = features  # Use the same order as in your data\n",
    "importance_scores = cat_model.feature_importances_\n",
    "\n",
    "# Sort by importance\n",
    "sorted_indices = np.argsort(importance_scores)[::-1]\n",
    "sorted_features = [feature_names[i] for i in sorted_indices]\n",
    "sorted_importance = importance_scores[sorted_indices]\n",
    "\n",
    "# Plot\n",
    "plt.figure(figsize=(10, 6))\n",
    "plt.barh(sorted_features, sorted_importance, color='skyblue')\n",
    "plt.xlabel('Feature Importance')\n",
    "plt.ylabel('Feature')\n",
    "plt.title('Feature Importance of CatBoost Model')\n",
    "plt.gca().invert_yaxis()\n",
    "plt.show()"
   ]
  },
  {
   "cell_type": "markdown",
   "id": "fa586b0f-6826-4e05-8d6e-7312e0c47f62",
   "metadata": {},
   "source": [
    "### Repeat with Cross Validation"
   ]
  },
  {
   "cell_type": "code",
   "execution_count": 11,
   "id": "245ebd91-ee6b-4cdb-8e49-5a7e8196feea",
   "metadata": {
    "scrolled": true
   },
   "outputs": [
    {
     "name": "stderr",
     "output_type": "stream",
     "text": [
      "C:\\Users\\sarah\\AppData\\Local\\Programs\\Python\\Python311\\Lib\\site-packages\\sklearn\\metrics\\_regression.py:483: FutureWarning: 'squared' is deprecated in version 1.4 and will be removed in 1.6. To calculate the root mean squared error, use the function'root_mean_squared_error'.\n",
      "  warnings.warn(\n",
      "C:\\Users\\sarah\\AppData\\Local\\Programs\\Python\\Python311\\Lib\\site-packages\\sklearn\\metrics\\_regression.py:483: FutureWarning: 'squared' is deprecated in version 1.4 and will be removed in 1.6. To calculate the root mean squared error, use the function'root_mean_squared_error'.\n",
      "  warnings.warn(\n",
      "C:\\Users\\sarah\\AppData\\Local\\Programs\\Python\\Python311\\Lib\\site-packages\\sklearn\\metrics\\_regression.py:483: FutureWarning: 'squared' is deprecated in version 1.4 and will be removed in 1.6. To calculate the root mean squared error, use the function'root_mean_squared_error'.\n",
      "  warnings.warn(\n",
      "C:\\Users\\sarah\\AppData\\Local\\Programs\\Python\\Python311\\Lib\\site-packages\\sklearn\\metrics\\_regression.py:483: FutureWarning: 'squared' is deprecated in version 1.4 and will be removed in 1.6. To calculate the root mean squared error, use the function'root_mean_squared_error'.\n",
      "  warnings.warn(\n"
     ]
    },
    {
     "name": "stdout",
     "output_type": "stream",
     "text": [
      "CatBoost Regressor K-Fold Cross-Validation Performance:\n",
      "Average RMSE: 347811.7277726105\n",
      "Average MAE: 121817.17148723154\n",
      "Average R^2: 0.8262819628731629\n"
     ]
    },
    {
     "name": "stderr",
     "output_type": "stream",
     "text": [
      "C:\\Users\\sarah\\AppData\\Local\\Programs\\Python\\Python311\\Lib\\site-packages\\sklearn\\metrics\\_regression.py:483: FutureWarning: 'squared' is deprecated in version 1.4 and will be removed in 1.6. To calculate the root mean squared error, use the function'root_mean_squared_error'.\n",
      "  warnings.warn(\n"
     ]
    }
   ],
   "source": [
    "# Initialize the model\n",
    "cat_model = CatBoostRegressor(loss_function='RMSE', verbose=0, cat_features=['day_of_week', 'Month', 'Year', 'Company Type', 'Market', 'Promoter'])\n",
    "\n",
    "# K-Fold Cross-Validation\n",
    "kf = KFold(n_splits=5, shuffle=True, random_state=8)\n",
    "rmse_scores = []\n",
    "mae_scores = []\n",
    "r2_scores = []\n",
    "\n",
    "for train_index, val_index in kf.split(X):\n",
    "    X_train, X_val = X.iloc[train_index], X.iloc[val_index]\n",
    "    y_train, y_val = y.iloc[train_index], y.iloc[val_index]\n",
    "    \n",
    "    # Train the model\n",
    "    cat_model.fit(X_train, y_train)\n",
    "    \n",
    "    # Predict on the validation set\n",
    "    y_pred = cat_model.predict(X_val)\n",
    "    \n",
    "    # Compute metrics\n",
    "    rmse_scores.append(mean_squared_error(y_val, y_pred, squared=False))\n",
    "    mae_scores.append(mean_absolute_error(y_val, y_pred))\n",
    "    r2_scores.append(r2_score(y_val, y_pred))\n",
    "\n",
    "# Calculate average metrics\n",
    "avg_rmse = np.mean(rmse_scores)\n",
    "avg_mae = np.mean(mae_scores)\n",
    "avg_r2 = np.mean(r2_scores)\n",
    "\n",
    "print(\"CatBoost Regressor K-Fold Cross-Validation Performance:\")\n",
    "print(f\"Average RMSE: {avg_rmse}\")\n",
    "print(f\"Average MAE: {avg_mae}\")\n",
    "print(f\"Average R^2: {avg_r2}\")"
   ]
  },
  {
   "cell_type": "markdown",
   "id": "bbc3afe2-b7ef-4b4a-82d7-da0d97e7532a",
   "metadata": {},
   "source": [
    "### TimeSeries Split"
   ]
  },
  {
   "cell_type": "code",
   "execution_count": 12,
   "id": "c9dd7cb5-7858-4274-a19d-d4f0b4f1e707",
   "metadata": {},
   "outputs": [
    {
     "name": "stdout",
     "output_type": "stream",
     "text": [
      "Time-Series Cross-Validation Results:\n"
     ]
    },
    {
     "name": "stderr",
     "output_type": "stream",
     "text": [
      "C:\\Users\\sarah\\AppData\\Local\\Programs\\Python\\Python311\\Lib\\site-packages\\sklearn\\metrics\\_regression.py:483: FutureWarning: 'squared' is deprecated in version 1.4 and will be removed in 1.6. To calculate the root mean squared error, use the function'root_mean_squared_error'.\n",
      "  warnings.warn(\n"
     ]
    },
    {
     "name": "stdout",
     "output_type": "stream",
     "text": [
      "  Split 1: RMSE = 282544.5018, MAE = 150944.0272, R^2 = 0.8758\n"
     ]
    },
    {
     "name": "stderr",
     "output_type": "stream",
     "text": [
      "C:\\Users\\sarah\\AppData\\Local\\Programs\\Python\\Python311\\Lib\\site-packages\\sklearn\\metrics\\_regression.py:483: FutureWarning: 'squared' is deprecated in version 1.4 and will be removed in 1.6. To calculate the root mean squared error, use the function'root_mean_squared_error'.\n",
      "  warnings.warn(\n"
     ]
    },
    {
     "name": "stdout",
     "output_type": "stream",
     "text": [
      "  Split 2: RMSE = 280623.3253, MAE = 127088.6107, R^2 = 0.8588\n"
     ]
    },
    {
     "name": "stderr",
     "output_type": "stream",
     "text": [
      "C:\\Users\\sarah\\AppData\\Local\\Programs\\Python\\Python311\\Lib\\site-packages\\sklearn\\metrics\\_regression.py:483: FutureWarning: 'squared' is deprecated in version 1.4 and will be removed in 1.6. To calculate the root mean squared error, use the function'root_mean_squared_error'.\n",
      "  warnings.warn(\n"
     ]
    },
    {
     "name": "stdout",
     "output_type": "stream",
     "text": [
      "  Split 3: RMSE = 732244.5726, MAE = 167198.7523, R^2 = 0.6938\n"
     ]
    },
    {
     "name": "stderr",
     "output_type": "stream",
     "text": [
      "C:\\Users\\sarah\\AppData\\Local\\Programs\\Python\\Python311\\Lib\\site-packages\\sklearn\\metrics\\_regression.py:483: FutureWarning: 'squared' is deprecated in version 1.4 and will be removed in 1.6. To calculate the root mean squared error, use the function'root_mean_squared_error'.\n",
      "  warnings.warn(\n"
     ]
    },
    {
     "name": "stdout",
     "output_type": "stream",
     "text": [
      "  Split 4: RMSE = 376149.9328, MAE = 132832.4527, R^2 = 0.7817\n",
      "  Split 5: RMSE = 187000.4945, MAE = 104914.5818, R^2 = 0.7985\n",
      "\n",
      "Average Performance Across Splits:\n",
      "  Average RMSE: 371712.5654\n",
      "  Average MAE: 136595.6849\n",
      "  Average R^2: 0.8017\n"
     ]
    },
    {
     "name": "stderr",
     "output_type": "stream",
     "text": [
      "C:\\Users\\sarah\\AppData\\Local\\Programs\\Python\\Python311\\Lib\\site-packages\\sklearn\\metrics\\_regression.py:483: FutureWarning: 'squared' is deprecated in version 1.4 and will be removed in 1.6. To calculate the root mean squared error, use the function'root_mean_squared_error'.\n",
      "  warnings.warn(\n"
     ]
    }
   ],
   "source": [
    "from sklearn.model_selection import TimeSeriesSplit\n",
    "from sklearn.metrics import mean_squared_error, mean_absolute_error, r2_score\n",
    "import numpy as np\n",
    "\n",
    "# Initialize TimeSeriesSplit\n",
    "tscv = TimeSeriesSplit(n_splits=5)\n",
    "\n",
    "# Lists to store results for each split\n",
    "rmse_scores = []\n",
    "mae_scores = []\n",
    "r2_scores = []\n",
    "\n",
    "# Loop through splits\n",
    "print(\"Time-Series Cross-Validation Results:\")\n",
    "for i, (train_index, test_index) in enumerate(tscv.split(X)):\n",
    "    # Split the data\n",
    "    X_train, X_val = X.iloc[train_index], X.iloc[test_index]\n",
    "    y_train, y_val = y.iloc[train_index], y.iloc[test_index]\n",
    "    \n",
    "    # Train the model\n",
    "    cat_model = CatBoostRegressor(loss_function='RMSE', verbose=0, cat_features=['Company Type', 'Market', 'Promoter'])\n",
    "    cat_model.fit(X_train, y_train)\n",
    "    \n",
    "    # Predict on validation set\n",
    "    y_pred = cat_model.predict(X_val)\n",
    "    \n",
    "    # Calculate metrics\n",
    "    rmse = mean_squared_error(y_val, y_pred, squared=False)\n",
    "    mae = mean_absolute_error(y_val, y_pred)\n",
    "    r2 = r2_score(y_val, y_pred)\n",
    "    \n",
    "    # Append metrics to lists\n",
    "    rmse_scores.append(rmse)\n",
    "    mae_scores.append(mae)\n",
    "    r2_scores.append(r2)\n",
    "    \n",
    "    # Print metrics for this split\n",
    "    print(f\"  Split {i + 1}: RMSE = {rmse:.4f}, MAE = {mae:.4f}, R^2 = {r2:.4f}\")\n",
    "\n",
    "# Calculate and print averages\n",
    "print(\"\\nAverage Performance Across Splits:\")\n",
    "print(f\"  Average RMSE: {np.mean(rmse_scores):.4f}\")\n",
    "print(f\"  Average MAE: {np.mean(mae_scores):.4f}\")\n",
    "print(f\"  Average R^2: {np.mean(r2_scores):.4f}\")\n"
   ]
  },
  {
   "cell_type": "code",
   "execution_count": null,
   "id": "4376c079-40a9-4972-9985-55a2ff90c35f",
   "metadata": {},
   "outputs": [],
   "source": []
  }
 ],
 "metadata": {
  "kernelspec": {
   "display_name": "Python 3 (ipykernel)",
   "language": "python",
   "name": "python3"
  },
  "language_info": {
   "codemirror_mode": {
    "name": "ipython",
    "version": 3
   },
   "file_extension": ".py",
   "mimetype": "text/x-python",
   "name": "python",
   "nbconvert_exporter": "python",
   "pygments_lexer": "ipython3",
   "version": "3.11.8"
  }
 },
 "nbformat": 4,
 "nbformat_minor": 5
}
