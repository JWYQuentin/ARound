{
 "cells": [
  {
   "cell_type": "code",
   "execution_count": 1,
   "metadata": {},
   "outputs": [],
   "source": [
    "import pandas as pd"
   ]
  },
  {
   "cell_type": "markdown",
   "metadata": {},
   "source": [
    "DP05 ACS Demographic and Housing Estimates (all places) https://data.census.gov/table/ACSDP1Y2022.DP05?q=population&g=010XX00US$1600000"
   ]
  },
  {
   "cell_type": "code",
   "execution_count": 2,
   "metadata": {},
   "outputs": [
    {
     "name": "stderr",
     "output_type": "stream",
     "text": [
      "/var/folders/7t/162mp27s01zd9vjv97ym_ghh0000gn/T/ipykernel_55599/2691223247.py:1: DtypeWarning: Columns (2,3,4,5,6,7,10,11,12,13,14,15,16,17,18,19,20,21,22,23,24,25,26,27,28,29,30,31,32,33,34,35,38,39,40,41,42,43,44,45,46,47,48,49,50,51,52,53,54,55,58,59,60,61,62,63,66,67,68,69,70,71,72,73,74,75,76,77,78,79,80,81,82,83,84,85,86,87,88,89,90,91,92,93,94,95,96,97,98,99,100,101,102,103,104,105,106,107,108,109,110,111,112,113,114,115,116,117,118,119,120,121,122,123,124,125,126,127,128,129,130,131,132,133,134,135,136,137,138,139,140,141,142,143,144,145,146,147,148,149,150,151,152,153,154,155,156,157,158,159,160,161,162,163,164,165,166,167,168,169,170,171,172,173,174,175,176,177,178,179,180,181,182,183,184,232,240,248,312,326,360) have mixed types. Specify dtype option on import or set low_memory=False.\n",
      "  population_city_df = pd.read_csv(\"data/us_census/population_city.csv\")\n",
      "/var/folders/7t/162mp27s01zd9vjv97ym_ghh0000gn/T/ipykernel_55599/2691223247.py:2: DtypeWarning: Columns (2,3,4,5,6,7,10,11,12,13,14,15,16,17,18,19,20,21,22,23,24,25,26,27,28,29,30,31,32,33,34,35,38,39,40,41,42,43,44,45,46,47,48,49,50,51,52,53,54,55,58,59,60,61,62,63,66,67,68,69,70,71,72,73,74,75,76,77,78,79,80,81,82,83,84,85,86,87,88,89,90,91,92,93,94,95,96,97,98,99,100,101,102,103,104,105,106,107,108,109,110,111,112,113,114,115,116,117,118,119,120,121,122,123,124,125,126,127,128,129,130,131,132,133,134,135,136,137,138,139,140,141,142,143,144,145,146,147,148,149,150,151,152,153,154,155,156,157,158,159,160,161,162,163,164,165,166,167,168,169,170,171,172,173,174,175,176,177,178,179,180,181,182,183,184,232,240,248,312,326,360) have mixed types. Specify dtype option on import or set low_memory=False.\n",
      "  population_county_subdivision_df = pd.read_csv(\"data/us_census/population_county_subdivision.csv\")\n"
     ]
    }
   ],
   "source": [
    "population_city_df = pd.read_csv(\"data/us_census/population_city.csv\")\n",
    "population_county_subdivision_df = pd.read_csv(\"data/us_census/population_county_subdivision.csv\")"
   ]
  },
  {
   "cell_type": "code",
   "execution_count": 3,
   "metadata": {},
   "outputs": [],
   "source": [
    "population_city_df.columns = population_city_df.loc[0]\n",
    "population_city_df = population_city_df.drop(0)\n",
    "population_city_df = population_city_df.reset_index(drop=True)"
   ]
  },
  {
   "cell_type": "code",
   "execution_count": 4,
   "metadata": {},
   "outputs": [],
   "source": [
    "population_county_subdivision_df.columns = population_county_subdivision_df.loc[0]\n",
    "population_county_subdivision_df = population_county_subdivision_df.drop(0)\n",
    "population_county_subdivision_df = population_county_subdivision_df.reset_index(drop=True)"
   ]
  },
  {
   "cell_type": "code",
   "execution_count": 5,
   "metadata": {},
   "outputs": [],
   "source": [
    "population_city_df['City'] = population_city_df['Geographic Area Name'].apply(lambda x: x.split(',', 1)[0].replace('[^a-zA-Z0-9_]', '').replace(' city', '').replace(' CDP', '').replace(' borough', '').replace(' town', '').replace(' village', '').strip())\n",
    "population_city_df['State'] = population_city_df['Geographic Area Name'].apply(lambda x: x.split(',', 1)[1].replace('[^a-zA-Z0-9_]', '').strip())\n",
    "# city_df['Country'] = 'United States'"
   ]
  },
  {
   "cell_type": "code",
   "execution_count": 6,
   "metadata": {},
   "outputs": [],
   "source": [
    "population_county_subdivision_df['City'] = population_county_subdivision_df['Geographic Area Name'].apply(lambda x: x.split(',', 2)[0].replace('[^a-zA-Z0-9_]', '').replace(' city', '').replace(' CCD', '').replace(' borough', '').replace(' township', '').replace(' town', '').replace(' village', '').replace(' district', '').replace(' barrio', '').strip())\n",
    "# population_county_subdivision_df['County'] = population_county_subdivision_df['Geographic Area Name'].apply(lambda x: x.split(',', 2)[1].replace('[^a-zA-Z0-9_]', '').replace(' County', '').replace(' City', '').strip())\n",
    "population_county_subdivision_df['State'] = population_county_subdivision_df['Geographic Area Name'].apply(lambda x: x.split(',', 2)[2].replace('[^a-zA-Z0-9_]', '').strip())"
   ]
  },
  {
   "cell_type": "code",
   "execution_count": 7,
   "metadata": {},
   "outputs": [],
   "source": [
    "population_city_df = pd.concat([population_city_df, population_county_subdivision_df], ignore_index=True)"
   ]
  },
  {
   "cell_type": "code",
   "execution_count": 8,
   "metadata": {},
   "outputs": [],
   "source": [
    "population_city_df = population_city_df.drop_duplicates(subset=[\"City\", \"State\"])"
   ]
  },
  {
   "cell_type": "code",
   "execution_count": 9,
   "metadata": {},
   "outputs": [],
   "source": [
    "population_city_df = population_city_df.rename({\"Estimate!!SEX AND AGE!!Total population\": \"Total population\",\n",
    "                        \"Estimate!!SEX AND AGE!!Total population!!Under 5 years\": \"Under 5 years population\",\n",
    "                        \"Estimate!!SEX AND AGE!!Total population!!5 to 9 years\": \"5 to 9 years population\",\n",
    "                        \"Estimate!!SEX AND AGE!!Total population!!10 to 14 years\": \"10 to 14 years population\",\n",
    "                        \"Estimate!!SEX AND AGE!!Total population!!15 to 19 years\": \"15 to 19 years population\",\n",
    "                        \"Estimate!!SEX AND AGE!!Total population!!20 to 24 years\": \"20 to 24 years population\",\n",
    "                        \"Estimate!!SEX AND AGE!!Total population!!25 to 34 years\": \"25 to 34 years population\",\n",
    "                        \"Estimate!!SEX AND AGE!!Total population!!35 to 44 years\": \"35 to 44 years population\",\n",
    "                        \"Estimate!!SEX AND AGE!!Total population!!45 to 54 years\": \"45 to 54 years population\",\n",
    "                        \"Estimate!!SEX AND AGE!!Total population!!55 to 59 years\": \"55 to 59 years population\",\n",
    "                        \"Estimate!!SEX AND AGE!!Total population!!60 to 64 years\": \"60 to 64 years population\",\n",
    "                        \"Estimate!!SEX AND AGE!!Total population!!65 to 74 years\": \"65 to 74 years population\",\n",
    "                        \"Estimate!!SEX AND AGE!!Total population!!75 to 84 years\": \"75 to 84 years population\",\n",
    "                        \"Estimate!!SEX AND AGE!!Total population!!85 years and over\": \"85 years and over population\",\n",
    "                        \"Estimate!!SEX AND AGE!!Total population!!Median age (years)\": \"Median age\"},\n",
    "                        axis='columns')"
   ]
  },
  {
   "cell_type": "code",
   "execution_count": 10,
   "metadata": {},
   "outputs": [],
   "source": [
    "apop_df = pd.read_csv(\"data/POP_49824rows_DEC2015_sp_yt.csv\")\n",
    "# apop_df = pd.read_csv(\"data/cleaned_data_allpop100k.csv\")"
   ]
  },
  {
   "cell_type": "code",
   "execution_count": 11,
   "metadata": {},
   "outputs": [],
   "source": [
    "us_apop_df = apop_df.loc[apop_df['Country']=='United States']"
   ]
  },
  {
   "cell_type": "code",
   "execution_count": 43,
   "metadata": {},
   "outputs": [],
   "source": [
    "replace_dict = {(\"Sugar Loaf\", \"New York\"): \"New York\",\n",
    "                (\"Belmont Park\", \"New York\"): \"New York\",\n",
    "                (\"Paso Robles\", \"California\"): \"El Paso de Robles (Paso Robles)\",\n",
    "                (\"Boise\", \"Idaho\"): \"Boise City\",\n",
    "                (\"Honolulu\", \"Hawaii\"): \"Urban Honolulu\",\n",
    "                (\"Toccoa Falls\", \"Georgia\"): \"Toccoa\",\n",
    "                (\"University Park\", \"Pennsylvania\"): \"State College\",\n",
    "                (\"Indianapolis\", \"Indiana\"): 'Indianapolis (balance)',\n",
    "                ('Lake Worth', \"Florida\"): 'Lake Worth Beach',\n",
    "                ('Louisville', \"Kentucky\"): 'Louisville/Jefferson County metro government (balance)',\n",
    "                ('Ponte Vedra Beach', \"Florida\"): 'Ponte Vedra',\n",
    "                ('Uncasville', \"Connecticut\"): 'Montville',\n",
    "                ('Athens', \"Georgia\"): 'Athens-Clarke County unified government (balance)',\n",
    "                ('Augusta', \"Georgia\"): 'Augusta-Richmond County consolidated government (balance)',\n",
    "                ('Nashville', \"Tennessee\"): 'Nashville-Davidson metropolitan government (balance)',\n",
    "                ('Madison', \"Tennessee\"): 'Nashville-Davidson metropolitan government (balance)',\n",
    "                ('Montclair', \"New Jersey\"): 'Upper Montclair',\n",
    "                ('San Juan', \"Puerto Rico\"): 'San Juan zona urbana',\n",
    "                ('Amherst', \"Massachusetts\"): 'Amherst Town',\n",
    "                ('Lexington', \"Kentucky\"): 'Lexington-Fayette urban county',\n",
    "                ('Hato Rey', \"Puerto Rico\"): 'Hato Rey Central',\n",
    "                ('Cypress', \"Texas\"): 'Houston',\n",
    "                ('Warrendale', 'Pennsylvania'): 'Pittsburgh',\n",
    "                ('Hollywood', 'California'): 'West Hollywood',\n",
    "                ('Macon', \"Georgia\"): \"Macon-Bibb County\",\n",
    "                ('Clinton Township', \"Michigan\"): \"Clinton\",\n",
    "                ('Kenney', \"Texas\"): \"Bellville\",\n",
    "                ('Bonner', \"Montana\"): \"Bonner-West Riverside\",\n",
    "                ('Robinsonville', \"Mississippi\"): \"Tunica Resorts\",\n",
    "                ('Clarkston', \"Michigan\"): \"Village of Clarkston\",\n",
    "                ('Bristow', \"Virginia\"): \"Brentsville\",\n",
    "                ('Darien Center', \"New York\"): \"Darien\",\n",
    "                ('Alto', \"New Mexico\"): \"Pinos Altos\",\n",
    "                ('Hyannis', \"Massachusetts\"): \"Barnstable Town\",\n",
    "                ('Bellvue', \"Colorado\"): \"Laporte\",\n",
    "                ('Fish Creek', \"Wisconsin\"): \"Gibraltar\",\n",
    "                ('Beaver Creek', \"Colorado\"): \"Avon\",\n",
    "                ('Kings Island', \"Ohio\"): \"Mason\",\n",
    "                (\"Venice\", \"California\"): \"Los Angeles\",\n",
    "                (\"Pioneertown\", \"California\"): \"Yucca Valley\",\n",
    "                (\"Grantville\", \"Pennsylvania\"): \"East Hanover\",\n",
    "                (\"Deland\", \"Florida\"): \"Daytona Beach\",\n",
    "                (\"Wakefield\", \"Rhode Island\"): \"South Kingstown\",\n",
    "                (\"Northridge\", \"California\"): \"San Fernando Valley\",\n",
    "                (\"Michigan City\", \"Illinois\"): \"Chicago\",\n",
    "                (\"Anchorage\", \"Alaska\"): \"Anchorage municipality\",\n",
    "                (\"Spring Valley\", \"California\"): \"Spring Valley (Lake County)\",\n",
    "                (\"Kailua Kona\", \"Hawaii\"): \"Kailua (Hawaii County)\",\n",
    "                (\"La Fayette\", \"New York\"): \"LaFayette\",\n",
    "                # (\"Buffalo\", NaN)\n",
    "                (\"Tulalip\", \"Washington\"): \"Tulalip Reservation\",\n",
    "                (\"Weirsdale\", \"Florida\"): \"Ocala\",\n",
    "                (\"South Orange\", \"New Jersey\"): \"South Orange Village\",\n",
    "                (\"Whites Creek\", \"Tennessee\"): \"Nashville-Davidson metropolitan government (balance)\",\n",
    "                (\"Tuolumne\", \"California\"): \"Tuolumne City\",\n",
    "                (\"Primm\", \"Nevada\"): \"Las Vegas\",\n",
    "                (\"Girdwood\", \"Alaska\"): \"Anchorage municipality\",\n",
    "                (\"San Pedro\", \"California\"): \"Los Angeles\",\n",
    "                (\"Allston\", \"Massachusetts\"): \"Boston\",\n",
    "                (\"Carmel\", \"California\"): \"Carmel-by-the-Sea\",\n",
    "                (\"Hillpoint\", \"Wisconsin\"): \"Loganville\",\n",
    "                (\"Redford\", \"Michigan\"): \"Redford charter\",\n",
    "                (\"La Salle\", \"Illinois\"): \"LaSalle\"\n",
    "                }"
   ]
  },
  {
   "cell_type": "code",
   "execution_count": 44,
   "metadata": {},
   "outputs": [],
   "source": [
    "def name_replace(city, state):\n",
    "    new_name = city\n",
    "    for a in replace_dict.keys():\n",
    "        if city==a[0] and state==a[1]:\n",
    "            new_name = replace_dict[a]\n",
    "    return new_name"
   ]
  },
  {
   "cell_type": "code",
   "execution_count": 45,
   "metadata": {},
   "outputs": [
    {
     "name": "stderr",
     "output_type": "stream",
     "text": [
      "/var/folders/7t/162mp27s01zd9vjv97ym_ghh0000gn/T/ipykernel_55599/1589654588.py:1: SettingWithCopyWarning: \n",
      "A value is trying to be set on a copy of a slice from a DataFrame.\n",
      "Try using .loc[row_indexer,col_indexer] = value instead\n",
      "\n",
      "See the caveats in the documentation: https://pandas.pydata.org/pandas-docs/stable/user_guide/indexing.html#returning-a-view-versus-a-copy\n",
      "  us_apop_df['City'] = us_apop_df['City'].apply(lambda x: x.replace('Saint', 'St.'))\n",
      "/var/folders/7t/162mp27s01zd9vjv97ym_ghh0000gn/T/ipykernel_55599/1589654588.py:2: SettingWithCopyWarning: \n",
      "A value is trying to be set on a copy of a slice from a DataFrame.\n",
      "Try using .loc[row_indexer,col_indexer] = value instead\n",
      "\n",
      "See the caveats in the documentation: https://pandas.pydata.org/pandas-docs/stable/user_guide/indexing.html#returning-a-view-versus-a-copy\n",
      "  us_apop_df['City'] = us_apop_df.apply(lambda x: name_replace(x[\"City\"], x[\"State\"]), axis=1)\n"
     ]
    }
   ],
   "source": [
    "us_apop_df['City'] = us_apop_df['City'].apply(lambda x: x.replace('Saint', 'St.'))\n",
    "us_apop_df['City'] = us_apop_df.apply(lambda x: name_replace(x[\"City\"], x[\"State\"]), axis=1)"
   ]
  },
  {
   "cell_type": "code",
   "execution_count": 46,
   "metadata": {},
   "outputs": [],
   "source": [
    "merged_df = pd.merge(us_apop_df, population_city_df[[\"Total population\",\n",
    "                                        \"Under 5 years population\",\n",
    "                                        \"5 to 9 years population\",\n",
    "                                        \"10 to 14 years population\",\n",
    "                                        \"15 to 19 years population\",\n",
    "                                        \"20 to 24 years population\",\n",
    "                                        \"25 to 34 years population\",\n",
    "                                        \"35 to 44 years population\",\n",
    "                                        \"45 to 54 years population\",\n",
    "                                        \"55 to 59 years population\",\n",
    "                                        \"60 to 64 years population\",\n",
    "                                        \"65 to 74 years population\",\n",
    "                                        \"75 to 84 years population\",\n",
    "                                        \"85 years and over population\",\n",
    "                                        \"Median age\",\n",
    "                                        \"State\",\n",
    "                                        \"City\"]],\n",
    "                    on=['State', 'City'], how='left')"
   ]
  },
  {
   "cell_type": "code",
   "execution_count": 56,
   "metadata": {},
   "outputs": [],
   "source": [
    "merged_df.to_csv(\"data/POP_49824rows_DEC2015_sp_yt_usdemogr.csv\")"
   ]
  },
  {
   "cell_type": "code",
   "execution_count": 12,
   "metadata": {},
   "outputs": [],
   "source": [
    "def city_name_finder(city_name):\n",
    "    place_recorded = population_city_df['Geographic Area Name'].unique()\n",
    "    for name in place_recorded:\n",
    "        if city_name in name:\n",
    "            print(name)"
   ]
  }
 ],
 "metadata": {
  "kernelspec": {
   "display_name": "around",
   "language": "python",
   "name": "python3"
  },
  "language_info": {
   "codemirror_mode": {
    "name": "ipython",
    "version": 3
   },
   "file_extension": ".py",
   "mimetype": "text/x-python",
   "name": "python",
   "nbconvert_exporter": "python",
   "pygments_lexer": "ipython3",
   "version": "3.12.4"
  }
 },
 "nbformat": 4,
 "nbformat_minor": 2
}
