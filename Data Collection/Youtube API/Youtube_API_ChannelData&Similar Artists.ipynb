{
 "cells": [
  {
   "cell_type": "code",
   "execution_count": 1,
   "id": "801e5956",
   "metadata": {},
   "outputs": [],
   "source": [
    "import pandas as pd\n",
    "from googleapiclient.discovery import build\n",
    "# from google_auth_oauthlib.flow import InstalledAppFlow"
   ]
  },
  {
   "cell_type": "code",
   "execution_count": 2,
   "id": "4272f0f0",
   "metadata": {},
   "outputs": [],
   "source": [
    "# INSERT API KEY\n",
    "API_KEY = 'INSERT API KEY HERE'"
   ]
  },
  {
   "cell_type": "code",
   "execution_count": 3,
   "id": "fa72bb0a",
   "metadata": {},
   "outputs": [],
   "source": [
    "# Initialize the YouTube Data API client\n",
    "api_service_name = \"youtube\"\n",
    "api_version = \"v3\"\n",
    "youtube = build(api_service_name, api_version, developerKey=API_KEY)"
   ]
  },
  {
   "cell_type": "code",
   "execution_count": 20,
   "id": "99cc186f",
   "metadata": {},
   "outputs": [],
   "source": [
    "# Specify the channel ID of the YouTube channel to retrieve data for\n",
    "# Jessi's Channel\n",
    "channel_id = 'UCN2bQLTTvNPZWCWU5TYghKA' "
   ]
  },
  {
   "cell_type": "markdown",
   "id": "0ecb1516",
   "metadata": {},
   "source": [
    "## Get Basic Info about Jessi's Channel"
   ]
  },
  {
   "cell_type": "code",
   "execution_count": 21,
   "id": "f78dbc38",
   "metadata": {},
   "outputs": [],
   "source": [
    "def get_channel_basic_info(channel_id):\n",
    "    # Call the channels.list method to retrieve information about the specified channel\n",
    "    request = youtube.channels().list(\n",
    "        part=\"snippet,statistics\",\n",
    "        id=channel_id\n",
    "    )\n",
    "    response = request.execute()\n",
    "\n",
    "    # Extract relevant information from the API response\n",
    "    channel_info = response['items'][0]\n",
    "    snippet = channel_info['snippet']\n",
    "    statistics = channel_info['statistics']\n",
    "\n",
    "    # Store the information in a dictionary\n",
    "    channel_data = {\n",
    "        \"Channel ID\": channel_id,\n",
    "        \"Title\": snippet['title'],\n",
    "        \"Description\": snippet['description'],\n",
    "        \"Published At\": snippet['publishedAt'],\n",
    "        \"View Count\": int(statistics.get('viewCount', 0)),\n",
    "        \"Subscriber Count\": int(statistics.get('subscriberCount', 0)),\n",
    "        \"Video Count\": int(statistics.get('videoCount', 0))\n",
    "    }\n",
    "\n",
    "    # Create a DataFrame from the dictionary\n",
    "    channel_df = pd.DataFrame([channel_data])\n",
    "\n",
    "    return channel_df"
   ]
  },
  {
   "cell_type": "code",
   "execution_count": 22,
   "id": "79f56bc3",
   "metadata": {},
   "outputs": [
    {
     "name": "stdout",
     "output_type": "stream",
     "text": [
      "                 Channel ID  Title Description          Published At  \\\n",
      "0  UCN2bQLTTvNPZWCWU5TYghKA  Jessi              2019-08-16T07:17:09Z   \n",
      "\n",
      "   View Count  Subscriber Count  Video Count  \n",
      "0   883656367           4110000           96  \n"
     ]
    }
   ],
   "source": [
    "channel_info_df = get_channel_basic_info(channel_id)\n",
    "print(channel_info_df)"
   ]
  },
  {
   "cell_type": "code",
   "execution_count": 25,
   "id": "cfef018b",
   "metadata": {},
   "outputs": [
    {
     "data": {
      "text/plain": [
       "4110000"
      ]
     },
     "execution_count": 25,
     "metadata": {},
     "output_type": "execute_result"
    }
   ],
   "source": [
    "target_subscriber_count = channel_info_df[\"Subscriber Count\"].values[0]"
   ]
  },
  {
   "cell_type": "markdown",
   "id": "c0835252",
   "metadata": {},
   "source": [
    "## Get Detailed View # and Like # For Each Video"
   ]
  },
  {
   "cell_type": "code",
   "execution_count": 8,
   "id": "5e2f4852",
   "metadata": {},
   "outputs": [],
   "source": [
    "# Function to fetch video statistics\n",
    "def get_video_stats(video_id):\n",
    "    request = youtube.videos().list(\n",
    "        part=\"snippet,statistics\",\n",
    "        id=video_id\n",
    "    )\n",
    "    response = request.execute()\n",
    "    if \"items\" in response and response[\"items\"]:\n",
    "        item = response[\"items\"][0]\n",
    "        snippet = item[\"snippet\"]\n",
    "        statistics = item[\"statistics\"]\n",
    "        title = snippet[\"title\"]\n",
    "        publish_date = snippet[\"publishedAt\"]\n",
    "        view_count = int(statistics[\"viewCount\"]) if \"viewCount\" in statistics else None\n",
    "        like_count = int(statistics[\"likeCount\"]) if \"likeCount\" in statistics else None\n",
    "        return title, publish_date, view_count, like_count\n",
    "    else:\n",
    "        return None, None, None, None"
   ]
  },
  {
   "cell_type": "code",
   "execution_count": 9,
   "id": "a8783785",
   "metadata": {},
   "outputs": [],
   "source": [
    "# Make API request to fetch video IDs of all videos in the channel\n",
    "video_ids = []\n",
    "next_page_token = None\n",
    "while True:\n",
    "    request = youtube.search().list(\n",
    "        part=\"id\",\n",
    "        channelId=channel_id,\n",
    "        maxResults=50,  # Maximum number of results per page\n",
    "        pageToken=next_page_token\n",
    "    )\n",
    "    response = request.execute()\n",
    "    for item in response[\"items\"]:\n",
    "        if item[\"id\"][\"kind\"] == \"youtube#video\":\n",
    "            video_ids.append(item[\"id\"][\"videoId\"])\n",
    "    next_page_token = response.get(\"nextPageToken\")\n",
    "    if not next_page_token:\n",
    "        break\n"
   ]
  },
  {
   "cell_type": "code",
   "execution_count": 10,
   "id": "1162525b",
   "metadata": {},
   "outputs": [
    {
     "name": "stdout",
     "output_type": "stream",
     "text": [
      "       Video ID                                              Title  \\\n",
      "52  tJQaUW36pMw                 Jessi (제시) - '눈누난나 (NUNU NANA)' MV   \n",
      "49  6j928wBZ_Bo                             Jessi (제시) - 'ZOOM' MV   \n",
      "22  1JHOl9CSmXk  Jessi (제시) - Cold Blooded (with 스트릿 우먼 파이터 (SW...   \n",
      "19  OEu1OWf8ezU             Jessi (제시) - '어떤X (What Type of X)' MV   \n",
      "23  81Fp_94rEFg     Jessi (제시) - '눈누난나 (NUNU NANA)' Dance Practice   \n",
      "..          ...                                                ...   \n",
      "28  YBQ0uMUUTeU  Jessi (제시) - 'Gum' MV Teaser 2 ▶️ 25th October...   \n",
      "63  fe8YDMklxI8               Jessi (제시) - 'Who Dat B' MV Teaser 1   \n",
      "46  H_sJFjKuqWA               Jessi (제시) - 'Who Dat B' MV Teaser 4   \n",
      "56  jty1Pb4dHvc               Jessi (제시) - 'Who Dat B' MV Teaser 3   \n",
      "72  sPhhe4XQNbE  [Behind] Jessi 제시 방콕 라이브 - Digital Lover (제시 v...   \n",
      "\n",
      "            Publish Date  View Count  Like Count  \n",
      "52  2020-07-30T09:00:14Z   219202536   3675476.0  \n",
      "49  2022-04-13T09:00:07Z   198007308   3628519.0  \n",
      "22  2021-10-12T15:30:00Z   100248450   2343761.0  \n",
      "19  2021-03-17T09:00:08Z    79910426   2272120.0  \n",
      "23  2020-08-01T12:00:02Z    40495857    736440.0  \n",
      "..                   ...         ...         ...  \n",
      "28  2023-10-24T12:01:39Z       89974         NaN  \n",
      "63  2019-09-19T05:32:09Z       89829      6409.0  \n",
      "46  2019-09-20T10:15:00Z       82015      6164.0  \n",
      "56  2019-09-20T02:17:51Z       81240      5744.0  \n",
      "72  2020-03-19T11:00:18Z       30801      3237.0  \n",
      "\n",
      "[96 rows x 5 columns]\n"
     ]
    }
   ],
   "source": [
    "# Fetch video statistics and store in a list of dictionaries\n",
    "video_data = []\n",
    "for video_id in video_ids:\n",
    "    title, publish_date, view_count, like_count = get_video_stats(video_id)\n",
    "    video_data.append({\n",
    "        \"Video ID\": video_id,\n",
    "        \"Title\": title,\n",
    "        \"Publish Date\": publish_date,\n",
    "        \"View Count\": view_count,\n",
    "        \"Like Count\": like_count\n",
    "    })\n",
    "\n",
    "# Create DataFrame from the list of dictionaries\n",
    "df = pd.DataFrame(video_data)\n",
    "\n",
    "# Sort the DataFrame by view count in descending order\n",
    "df_sorted = df.sort_values(by=\"View Count\", ascending=False)\n",
    "\n",
    "# Display the sorted DataFrame\n",
    "print(df_sorted)"
   ]
  },
  {
   "cell_type": "markdown",
   "id": "336c07c8",
   "metadata": {},
   "source": [
    "## Find Other Channels With Similar Subscriber Counts"
   ]
  },
  {
   "cell_type": "code",
   "execution_count": 11,
   "id": "212fd93d",
   "metadata": {},
   "outputs": [],
   "source": [
    "# Define a range for subscriber counts (you can adjust this range as needed)\n",
    "margin=int(target_subscriber_count*0.4)\n",
    "lower_bound = target_subscriber_count - margin\n",
    "upper_bound = target_subscriber_count + margin"
   ]
  },
  {
   "cell_type": "code",
   "execution_count": 12,
   "id": "528ef84d",
   "metadata": {},
   "outputs": [],
   "source": [
    "# Search for channels with subscriber counts within the defined range\n",
    "search_request = youtube.search().list(\n",
    "    part='snippet',\n",
    "    type='channel',\n",
    "    q='kpop artist',  # Enter search query\n",
    "    maxResults=1000  # Adjust the number of results\n",
    ")\n",
    "\n",
    "# Execute the search request\n",
    "search_response = search_request.execute()"
   ]
  },
  {
   "cell_type": "code",
   "execution_count": 14,
   "id": "d8be2024",
   "metadata": {},
   "outputs": [],
   "source": [
    "# Initialize an empty list to store channel information\n",
    "sim_channel_info_list = []\n",
    "\n",
    "\n",
    "# Iterate over the search results\n",
    "for item in search_response['items']:\n",
    "    channel_id = item['id']['channelId']\n",
    "    title = item['snippet']['title']\n",
    "    \n",
    "    # Exclude title contains 'KPOP' or 'k-pop' (case-insensitive)- these are usually not a artist's channel\n",
    "    if 'kpop' not in title.lower() and 'k-pop' not in title.lower():\n",
    "        # Get channel statistics to retrieve subscriber count\n",
    "        channel_request = youtube.channels().list(\n",
    "            part='statistics',\n",
    "            id=channel_id\n",
    "        )\n",
    "        channel_response = channel_request.execute()\n",
    "        subscriber_count = channel_response['items'][0]['statistics']['subscriberCount']\n",
    "    \n",
    "        # Add channel to the list if within subscriber counts margin\n",
    "        if int(subscriber_count)>=lower_bound and int(subscriber_count)<=upper_bound:\n",
    "            # Append channel information to the list\n",
    "            sim_channel_info_list.append({\n",
    "                'Channel ID': channel_id,\n",
    "                'Title': title,\n",
    "                'Subscriber Count': subscriber_count\n",
    "            })\n",
    "            \n",
    "            # print(f\"Channel ID: {channel_id}, Title: {title}, Subscriber Count: {subscriber_count}\")"
   ]
  },
  {
   "cell_type": "code",
   "execution_count": 15,
   "id": "85c680a8",
   "metadata": {},
   "outputs": [
    {
     "name": "stdout",
     "output_type": "stream",
     "text": [
      "                 Channel ID                  Title Subscriber Count\n",
      "0  UCgZlBRLRB1-0l-qL9BkecLQ                ARTBEAT          4410000\n",
      "1  UCN2bQLTTvNPZWCWU5TYghKA                  Jessi          4110000\n",
      "2  UCEIi7zFR_wE23jFncVtd6-A  STUDIO CHOOM [스튜디오 춤]          5050000\n"
     ]
    }
   ],
   "source": [
    "# Create a DataFrame from the list of dictionaries\n",
    "sim_channel_info_df = pd.DataFrame(sim_channel_info_list)\n",
    "\n",
    "# Display the DataFrame\n",
    "print(sim_channel_info_df)"
   ]
  },
  {
   "cell_type": "markdown",
   "id": "94500fa2",
   "metadata": {},
   "source": [
    "## Export to Excel"
   ]
  },
  {
   "cell_type": "code",
   "execution_count": 26,
   "id": "666e8f38",
   "metadata": {},
   "outputs": [],
   "source": [
    "# Create a Pandas Excel writer\n",
    "with pd.ExcelWriter('Youtube_data.xlsx', engine='xlsxwriter') as writer:\n",
    "    # Write each DataFrame to a different sheet in the Excel file\n",
    "    df_sorted.to_excel(writer, sheet_name='Video Statistics', index=False)\n",
    "    channel_info_df.to_excel(writer, sheet_name='Channel Info', index=False)\n",
    "    sim_channel_info_df.to_excel(writer, sheet_name='Similar Channel Info', index=False)\n"
   ]
  },
  {
   "cell_type": "code",
   "execution_count": null,
   "id": "ca5b1194",
   "metadata": {},
   "outputs": [],
   "source": []
  }
 ],
 "metadata": {
  "kernelspec": {
   "display_name": "Python 3",
   "language": "python",
   "name": "python3"
  },
  "language_info": {
   "codemirror_mode": {
    "name": "ipython",
    "version": 3
   },
   "file_extension": ".py",
   "mimetype": "text/x-python",
   "name": "python",
   "nbconvert_exporter": "python",
   "pygments_lexer": "ipython3",
   "version": "3.8.8"
  }
 },
 "nbformat": 4,
 "nbformat_minor": 5
}
