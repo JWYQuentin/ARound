{
 "cells": [
  {
   "cell_type": "code",
   "execution_count": 23,
   "id": "9e688426-4d08-4ce1-85a7-3da13cf765ad",
   "metadata": {
    "tags": []
   },
   "outputs": [],
   "source": [
    "import pandas as pd\n",
    "artists = pd.read_csv(\"Pollstar_all_genres.csv\")"
   ]
  },
  {
   "cell_type": "code",
   "execution_count": 24,
   "id": "c4fc631a-9a2b-43d1-bbf5-964bc8d2695a",
   "metadata": {
    "tags": []
   },
   "outputs": [],
   "source": [
    "df = artists"
   ]
  },
  {
   "cell_type": "code",
   "execution_count": 25,
   "id": "5c79a6f9-90e5-471d-9ab4-b3389cb792b5",
   "metadata": {
    "tags": []
   },
   "outputs": [],
   "source": [
    "df_2013 = df[pd.to_datetime(df['Event Date']).dt.year >= 2013]"
   ]
  },
  {
   "cell_type": "code",
   "execution_count": 26,
   "id": "d0955fcb-d3d1-4184-aa3d-d3614edc6279",
   "metadata": {
    "tags": []
   },
   "outputs": [
    {
     "data": {
      "text/plain": [
       "704712"
      ]
     },
     "execution_count": 26,
     "metadata": {},
     "output_type": "execute_result"
    }
   ],
   "source": [
    "len(df)"
   ]
  },
  {
   "cell_type": "code",
   "execution_count": 7,
   "id": "ef70e577-4d06-4b3d-b1d8-934d53630fb0",
   "metadata": {
    "tags": []
   },
   "outputs": [],
   "source": [
    "all_artists = []"
   ]
  },
  {
   "cell_type": "code",
   "execution_count": 27,
   "id": "4516cf74-060c-43f3-b09d-67c7007ad031",
   "metadata": {
    "tags": []
   },
   "outputs": [],
   "source": [
    "for _, row in df_2013.iterrows():\n",
    "    if not pd.isna(row['Support']):  # Proper way to check for NaN\n",
    "        artists = [name.strip() for name in str(row['Support']).split(',')]  # Convert to string first\n",
    "        all_artists.extend(artists)"
   ]
  },
  {
   "cell_type": "code",
   "execution_count": 29,
   "id": "7afc4c7e-b1f7-49e7-b7ed-0332e87ff553",
   "metadata": {
    "tags": []
   },
   "outputs": [],
   "source": [
    "artists = pd.DataFrame({'artist': list(set(all_artists))}).sort_values('artist').reset_index(drop=True)"
   ]
  },
  {
   "cell_type": "code",
   "execution_count": 30,
   "id": "d4ccea69-6dc4-4b53-bb8c-cf9d057ad64e",
   "metadata": {
    "tags": []
   },
   "outputs": [
    {
     "data": {
      "text/html": [
       "<div>\n",
       "<style scoped>\n",
       "    .dataframe tbody tr th:only-of-type {\n",
       "        vertical-align: middle;\n",
       "    }\n",
       "\n",
       "    .dataframe tbody tr th {\n",
       "        vertical-align: top;\n",
       "    }\n",
       "\n",
       "    .dataframe thead th {\n",
       "        text-align: right;\n",
       "    }\n",
       "</style>\n",
       "<table border=\"1\" class=\"dataframe\">\n",
       "  <thead>\n",
       "    <tr style=\"text-align: right;\">\n",
       "      <th></th>\n",
       "      <th>artist</th>\n",
       "    </tr>\n",
       "  </thead>\n",
       "  <tbody>\n",
       "    <tr>\n",
       "      <th>0</th>\n",
       "      <td></td>\n",
       "    </tr>\n",
       "    <tr>\n",
       "      <th>1</th>\n",
       "      <td>!!! (Chk Chk Chk)</td>\n",
       "    </tr>\n",
       "    <tr>\n",
       "      <th>2</th>\n",
       "      <td>!Mindparade</td>\n",
       "    </tr>\n",
       "    <tr>\n",
       "      <th>3</th>\n",
       "      <td>\"2 Ring Circus\"</td>\n",
       "    </tr>\n",
       "    <tr>\n",
       "      <th>4</th>\n",
       "      <td>\"A Celebration of Taylor</td>\n",
       "    </tr>\n",
       "    <tr>\n",
       "      <th>...</th>\n",
       "      <td>...</td>\n",
       "    </tr>\n",
       "    <tr>\n",
       "      <th>49517</th>\n",
       "      <td>¡Mayday!</td>\n",
       "    </tr>\n",
       "    <tr>\n",
       "      <th>49518</th>\n",
       "      <td>¿Qué Pasa?</td>\n",
       "    </tr>\n",
       "    <tr>\n",
       "      <th>49519</th>\n",
       "      <td>¿Téo?</td>\n",
       "    </tr>\n",
       "    <tr>\n",
       "      <th>49520</th>\n",
       "      <td>Âme</td>\n",
       "    </tr>\n",
       "    <tr>\n",
       "      <th>49521</th>\n",
       "      <td>††† (Crosses)</td>\n",
       "    </tr>\n",
       "  </tbody>\n",
       "</table>\n",
       "<p>49522 rows × 1 columns</p>\n",
       "</div>"
      ],
      "text/plain": [
       "                         artist\n",
       "0                              \n",
       "1             !!! (Chk Chk Chk)\n",
       "2                   !Mindparade\n",
       "3               \"2 Ring Circus\"\n",
       "4      \"A Celebration of Taylor\n",
       "...                         ...\n",
       "49517                  ¡Mayday!\n",
       "49518                ¿Qué Pasa?\n",
       "49519                     ¿Téo?\n",
       "49520                       Âme\n",
       "49521             ††† (Crosses)\n",
       "\n",
       "[49522 rows x 1 columns]"
      ]
     },
     "execution_count": 30,
     "metadata": {},
     "output_type": "execute_result"
    }
   ],
   "source": [
    "artists"
   ]
  },
  {
   "cell_type": "code",
   "execution_count": null,
   "id": "208dd5a7-40d2-4b6f-8932-aa107a41d94e",
   "metadata": {},
   "outputs": [],
   "source": [
    "artists = artists.drop(0).reset_index(drop=True)"
   ]
  },
  {
   "cell_type": "code",
   "execution_count": 14,
   "id": "2da1df03-f0d1-46c1-8b43-187859a945e0",
   "metadata": {
    "tags": []
   },
   "outputs": [],
   "source": [
    "artists = artists.drop(0).reset_index(drop=True)"
   ]
  },
  {
   "cell_type": "code",
   "execution_count": 16,
   "id": "4af98af4-d951-4b46-b59c-661c0f802bfd",
   "metadata": {
    "tags": []
   },
   "outputs": [],
   "source": [
    "asian_artist_ins = artists"
   ]
  },
  {
   "cell_type": "code",
   "execution_count": 17,
   "id": "69870a66-4054-4e17-a84f-c1a89c315240",
   "metadata": {
    "tags": []
   },
   "outputs": [],
   "source": [
    "asian_artist_ins.to_csv('asian_artist_ins.csv', index=False)"
   ]
  },
  {
   "cell_type": "code",
   "execution_count": 18,
   "id": "b724c299-a12e-4d85-a2d3-374ceb7ec99b",
   "metadata": {
    "tags": []
   },
   "outputs": [],
   "source": [
    "import requests\n",
    "import re\n",
    "from urllib.parse import quote\n",
    "\n",
    "def get_first_instagram_url(artist_name):\n",
    "    # Define a list of query formats for different search attempts\n",
    "    queries = [\n",
    "        f\"{artist_name} Instagram site:instagram.com\",\n",
    "        f\"{artist_name} musician Instagram\",\n",
    "        f\"{artist_name} official Instagram\"\n",
    "    ]\n",
    "\n",
    "    headers = {\n",
    "        \"User-Agent\": \"Mozilla/5.0 (Windows NT 10.0; Win64; x64) AppleWebKit/537.36 (KHTML, like Gecko) Chrome/86.0.4240.183 Safari/537.36\"\n",
    "    }\n",
    "    \n",
    "    for query in queries:\n",
    "        try:\n",
    "            google_url = f\"https://www.google.com/search?q={quote(query)}\"\n",
    "            response = requests.get(google_url, headers=headers, timeout=10)\n",
    "            response.raise_for_status()\n",
    "            \n",
    "            # Extract the first Instagram URL from the HTML using regex\n",
    "            match = re.search(r'https://www\\.instagram\\.com/([a-zA-Z0-9._]+)/?', response.text)\n",
    "            \n",
    "            # If we found a match and it's not a common Instagram path\n",
    "            if match and match.group(1) not in ['p', 'explore', 'accounts']:\n",
    "                return f\"https://www.instagram.com/{match.group(1)}/\"\n",
    "                    \n",
    "        except requests.RequestException as e:\n",
    "            print(f\"Error fetching results for query '{query}': {str(e)}\")\n",
    "            continue\n",
    "            \n",
    "    # Return default message if no valid URL found\n",
    "    return \"Instagram URL not found.\""
   ]
  },
  {
   "cell_type": "code",
   "execution_count": 20,
   "id": "2b0b9ee7-4789-42dd-806b-8ccc4d18d31e",
   "metadata": {
    "tags": []
   },
   "outputs": [
    {
     "name": "stdout",
     "output_type": "stream",
     "text": [
      "Error fetching results for query 'tripleS Instagram site:instagram.com': 429 Client Error: Too Many Requests for url: https://www.google.com/sorry/index?continue=https://www.google.com/search%3Fq%3DtripleS%2520Instagram%2520site%253Ainstagram.com&q=EhAmB_AQAukAIxkR1QJZFh7eGOvYpLkGIjD7wH1MLIV1MBovO6Tnyaqo6H7XwxGxH_GCdc8eNSko81PztwnsmmYZOAopE4nt_4gyAXJaAUM\n",
      "Error fetching results for query 'tripleS musician Instagram': 429 Client Error: Too Many Requests for url: https://www.google.com/sorry/index?continue=https://www.google.com/search%3Fq%3DtripleS%2520musician%2520Instagram&q=EhAmB_AQAukAIxkR1QJZFh7eGOzYpLkGIjA9GlntqbWOtoVje2zUDJKE5h5sOlnsVPCPV5cEV10Y9vJDXYG2wjbFyT8aqTfUmUUyAXJaAUM\n",
      "Error fetching results for query 'tripleS official Instagram': 429 Client Error: Too Many Requests for url: https://www.google.com/sorry/index?continue=https://www.google.com/search%3Fq%3DtripleS%2520official%2520Instagram&q=EhAmB_AQAukAIxkR1QJZFh7eGO3YpLkGIjCEwobSuj3iybJE-VDQo1R63GA6JWBbO6dBpMoueFfJbezYgFs90fmf4Vck_ljZsTAyAXJaAUM\n"
     ]
    }
   ],
   "source": [
    "asian_artist_ins['URL'] = asian_artist_ins['artist'].apply(get_first_instagram_url)"
   ]
  },
  {
   "cell_type": "code",
   "execution_count": 22,
   "id": "ea52b89d-e6e5-42e8-ad46-ad281984f312",
   "metadata": {
    "tags": []
   },
   "outputs": [],
   "source": [
    "asian_artist_ins.to_csv('asian_artist_ins.csv', index=False)"
   ]
  },
  {
   "cell_type": "code",
   "execution_count": null,
   "id": "d91e2331-d3a7-4249-9f1a-bb9eafecfdd9",
   "metadata": {},
   "outputs": [],
   "source": []
  }
 ],
 "metadata": {
  "kernelspec": {
   "display_name": "Python 3 (ipykernel)",
   "language": "python",
   "name": "python3"
  },
  "language_info": {
   "codemirror_mode": {
    "name": "ipython",
    "version": 3
   },
   "file_extension": ".py",
   "mimetype": "text/x-python",
   "name": "python",
   "nbconvert_exporter": "python",
   "pygments_lexer": "ipython3",
   "version": "3.11.5"
  }
 },
 "nbformat": 4,
 "nbformat_minor": 5
}
